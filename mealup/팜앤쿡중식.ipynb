{
 "cells": [
  {
   "cell_type": "code",
   "execution_count": 1,
   "id": "d5d619d7-d036-41da-998c-82cd32e59607",
   "metadata": {},
   "outputs": [],
   "source": [
    "import urllib.request as req\n",
    "import urllib.parse as pa\n",
    "from bs4 import BeautifulSoup as bs\n",
    "from urllib.parse import quote\n",
    "import pandas as pd"
   ]
  },
  {
   "cell_type": "code",
   "execution_count": 2,
   "id": "34c6a534-48cf-403e-81ba-a0421b4f9a7b",
   "metadata": {},
   "outputs": [],
   "source": [
    "# url = 'http://sim-cook.com/product/list.html?cate_no=51'\n",
    "url = 'https://smartstore.naver.com/farmncook/category/71e2dc9206fa4a9ab156c2afb44753d3?cp=1'\n",
    "ww = req.urlopen(url).read().decode('utf-8')\n",
    "soup = bs(ww, 'html.parser')"
   ]
  },
  {
   "cell_type": "code",
   "execution_count": 33,
   "id": "d93d1879-58e8-4295-845f-61433080c361",
   "metadata": {},
   "outputs": [],
   "source": [
    "img = soup.select('li div > div._2JNWBGd-04 > img')\n",
    "price = soup.select('li > a > div._23DThs7PLJ > strong > span.nIAdxeTzhx')"
   ]
  },
  {
   "cell_type": "code",
   "execution_count": 35,
   "id": "075412fc-97d0-4c5b-9dec-6013831861bb",
   "metadata": {},
   "outputs": [],
   "source": [
    "상품이름 = []\n",
    "상품사진링크 = []\n",
    "상품가격 = []"
   ]
  },
  {
   "cell_type": "code",
   "execution_count": 36,
   "id": "1fe35d91-5189-4245-88bf-7aed364a46db",
   "metadata": {},
   "outputs": [],
   "source": [
    "for i in img:\n",
    "    상품이름.append(i['alt'])\n",
    "    상품사진링크.append(i['src'])\n"
   ]
  },
  {
   "cell_type": "code",
   "execution_count": 39,
   "id": "f09af390-a8e7-4940-87aa-80c1b66897ad",
   "metadata": {},
   "outputs": [],
   "source": [
    "for i in price:\n",
    "    상품가격.append(i.text)"
   ]
  },
  {
   "cell_type": "code",
   "execution_count": 45,
   "id": "d6f7357c-b006-4b0f-9b06-90aa9a1d1e84",
   "metadata": {},
   "outputs": [],
   "source": [
    "df = pd.DataFrame({'상품 코드': range(len(상품가격)),'상품 이름':상품이름, '상품 가격':상품가격, '상품사진링크':상품사진링크})"
   ]
  },
  {
   "cell_type": "code",
   "execution_count": 46,
   "id": "91326e02-f342-4a7e-b4c8-3300d1f4b48e",
   "metadata": {},
   "outputs": [
    {
     "data": {
      "text/html": [
       "<div>\n",
       "<style scoped>\n",
       "    .dataframe tbody tr th:only-of-type {\n",
       "        vertical-align: middle;\n",
       "    }\n",
       "\n",
       "    .dataframe tbody tr th {\n",
       "        vertical-align: top;\n",
       "    }\n",
       "\n",
       "    .dataframe thead th {\n",
       "        text-align: right;\n",
       "    }\n",
       "</style>\n",
       "<table border=\"1\" class=\"dataframe\">\n",
       "  <thead>\n",
       "    <tr style=\"text-align: right;\">\n",
       "      <th></th>\n",
       "      <th>상품 코드</th>\n",
       "      <th>상품 이름</th>\n",
       "      <th>상품 가격</th>\n",
       "      <th>상품사진링크</th>\n",
       "    </tr>\n",
       "  </thead>\n",
       "  <tbody>\n",
       "    <tr>\n",
       "      <th>0</th>\n",
       "      <td>0</td>\n",
       "      <td>해물 누룽지탕 (참피디방영,캠핑밀키트,홈파티,술안주)</td>\n",
       "      <td>12,900</td>\n",
       "      <td>https://shop-phinf.pstatic.net/20210504_143/16...</td>\n",
       "    </tr>\n",
       "    <tr>\n",
       "      <th>1</th>\n",
       "      <td>1</td>\n",
       "      <td>소고기 고추잡채 밀키트</td>\n",
       "      <td>14,900</td>\n",
       "      <td>https://shop-phinf.pstatic.net/20210505_177/16...</td>\n",
       "    </tr>\n",
       "    <tr>\n",
       "      <th>2</th>\n",
       "      <td>2</td>\n",
       "      <td>양장피 밀키트 (술안주,캠핑밀키트)</td>\n",
       "      <td>13,900</td>\n",
       "      <td>https://shop-phinf.pstatic.net/20220217_5/1645...</td>\n",
       "    </tr>\n",
       "    <tr>\n",
       "      <th>3</th>\n",
       "      <td>3</td>\n",
       "      <td>씹는 식감이 예술~ 유산슬 밀키트 (고급중화요리)</td>\n",
       "      <td>13,900</td>\n",
       "      <td>https://shop-phinf.pstatic.net/20210624_185/16...</td>\n",
       "    </tr>\n",
       "    <tr>\n",
       "      <th>4</th>\n",
       "      <td>4</td>\n",
       "      <td>고품질 중화요리 홈파티밀키트 (3종)_양장피,고추잡채,해물누룽지탕</td>\n",
       "      <td>39,900</td>\n",
       "      <td>https://shop-phinf.pstatic.net/20210617_278/16...</td>\n",
       "    </tr>\n",
       "    <tr>\n",
       "      <th>5</th>\n",
       "      <td>5</td>\n",
       "      <td>고품질 중화요리 밀키트 3종_해물누룽지탕,고추잡채,유산슬</td>\n",
       "      <td>39,900</td>\n",
       "      <td>https://shop-phinf.pstatic.net/20210505_128/16...</td>\n",
       "    </tr>\n",
       "    <tr>\n",
       "      <th>6</th>\n",
       "      <td>6</td>\n",
       "      <td>딤섬전골 밀키트 (홈파티,생일상)</td>\n",
       "      <td>15,900</td>\n",
       "      <td>https://shop-phinf.pstatic.net/20211126_254/16...</td>\n",
       "    </tr>\n",
       "    <tr>\n",
       "      <th>7</th>\n",
       "      <td>7</td>\n",
       "      <td>소고기 고추잡채 밀키트(선물세트)</td>\n",
       "      <td>18,500</td>\n",
       "      <td>https://shop-phinf.pstatic.net/20211214_56/163...</td>\n",
       "    </tr>\n",
       "    <tr>\n",
       "      <th>8</th>\n",
       "      <td>8</td>\n",
       "      <td>칠리새우 밀키트 (홈파티,생일상,간식)</td>\n",
       "      <td>10,900</td>\n",
       "      <td>https://shop-phinf.pstatic.net/20220104_138/16...</td>\n",
       "    </tr>\n",
       "  </tbody>\n",
       "</table>\n",
       "</div>"
      ],
      "text/plain": [
       "   상품 코드                                 상품 이름   상품 가격  \\\n",
       "0      0         해물 누룽지탕 (참피디방영,캠핑밀키트,홈파티,술안주)  12,900   \n",
       "1      1                          소고기 고추잡채 밀키트  14,900   \n",
       "2      2                   양장피 밀키트 (술안주,캠핑밀키트)  13,900   \n",
       "3      3           씹는 식감이 예술~ 유산슬 밀키트 (고급중화요리)  13,900   \n",
       "4      4  고품질 중화요리 홈파티밀키트 (3종)_양장피,고추잡채,해물누룽지탕  39,900   \n",
       "5      5       고품질 중화요리 밀키트 3종_해물누룽지탕,고추잡채,유산슬  39,900   \n",
       "6      6                    딤섬전골 밀키트 (홈파티,생일상)  15,900   \n",
       "7      7                    소고기 고추잡채 밀키트(선물세트)  18,500   \n",
       "8      8                 칠리새우 밀키트 (홈파티,생일상,간식)  10,900   \n",
       "\n",
       "                                              상품사진링크  \n",
       "0  https://shop-phinf.pstatic.net/20210504_143/16...  \n",
       "1  https://shop-phinf.pstatic.net/20210505_177/16...  \n",
       "2  https://shop-phinf.pstatic.net/20220217_5/1645...  \n",
       "3  https://shop-phinf.pstatic.net/20210624_185/16...  \n",
       "4  https://shop-phinf.pstatic.net/20210617_278/16...  \n",
       "5  https://shop-phinf.pstatic.net/20210505_128/16...  \n",
       "6  https://shop-phinf.pstatic.net/20211126_254/16...  \n",
       "7  https://shop-phinf.pstatic.net/20211214_56/163...  \n",
       "8  https://shop-phinf.pstatic.net/20220104_138/16...  "
      ]
     },
     "execution_count": 46,
     "metadata": {},
     "output_type": "execute_result"
    }
   ],
   "source": [
    "df"
   ]
  },
  {
   "cell_type": "code",
   "execution_count": null,
   "id": "9599a56a-d087-4d6d-8f11-65a73b453de5",
   "metadata": {},
   "outputs": [],
   "source": []
  },
  {
   "cell_type": "markdown",
   "id": "a5ec99fd-57dc-407b-8850-95e77286a276",
   "metadata": {},
   "source": [
    "# 상세"
   ]
  },
  {
   "cell_type": "code",
   "execution_count": 49,
   "id": "7d82c61e-8922-43c2-924d-39faeeaa9896",
   "metadata": {},
   "outputs": [],
   "source": [
    "img = soup.select('li.-qHwcFXhj0 > a._3BkKgDHq3l')"
   ]
  },
  {
   "cell_type": "code",
   "execution_count": 54,
   "id": "ffb7189c-540c-4661-b6bd-fb2f7da90d61",
   "metadata": {},
   "outputs": [],
   "source": [
    "link_all = []\n",
    "for i in img:\n",
    "    link_all.append('https://smartstore.naver.com'+i['href'])"
   ]
  },
  {
   "cell_type": "code",
   "execution_count": 55,
   "id": "a98bad0e-7ee2-414a-9aac-3e25049427a7",
   "metadata": {},
   "outputs": [],
   "source": [
    "re = req.urlopen(link_all[0]).read().decode('utf-8')\n",
    "soup = bs(re, 'html.parser')"
   ]
  },
  {
   "cell_type": "code",
   "execution_count": 145,
   "id": "6fd8cdb2-4838-4d56-b486-55165d94089c",
   "metadata": {},
   "outputs": [
    {
     "data": {
      "text/plain": [
       "[]"
      ]
     },
     "execution_count": 145,
     "metadata": {},
     "output_type": "execute_result"
    }
   ],
   "source": [
    "soup.select('#SE-0f103c6e-be63-43b2-b596-d04064210ab7 > div > div > div > a > img')"
   ]
  },
  {
   "cell_type": "code",
   "execution_count": 91,
   "id": "029472d7-cd4a-4076-998e-d637088db76e",
   "metadata": {
    "collapsed": true,
    "jupyter": {
     "outputs_hidden": true
    },
    "tags": []
   },
   "outputs": [
    {
     "name": "stdout",
     "output_type": "stream",
     "text": [
      "[<div class=\"_2-I30XS1lA\"><div class=\"_25tOXGEYJa\"><div class=\"_38rEjARje3\"><div class=\"_23RpOU6xpc\"><img alt=\"대표이미지\" class=\"_2P2SMyOjl6\" data-src=\"https://shop-phinf.pstatic.net/20210504_143/16201256287314wPOx_JPEG/21261462528924181_893557394.jpg?type=m510\" src=\"https://shop-phinf.pstatic.net/20210504_143/16201256287314wPOx_JPEG/21261462528924181_893557394.jpg?type=m510\" style=\"height:\"/></div><div class=\"_1JtetmKAtp\"><div class=\"_2Z1JNRxmrj _2p5MChHodd\"><span class=\"blind\">BEST</span></div></div><div class=\"_3OmuT3lcPO\"><button class=\"_3nnJhs7CxY _1qigzlnKig N=a:itm.more\" type=\"button\"><span class=\"blind\">이전 상품이미지</span></button><button class=\"_3nnJhs7CxY _1UrXrgeFc8 N=a:itm.more\" type=\"button\"><span class=\"blind\">다음 상품이미지</span></button></div></div><ul class=\"_2Yq5J2HeBn\"><li class=\"_3TvRO_uxKp N=a:itm.mini\"><a aria-selected=\"true\" class=\"_1F-riHNwNb\" href=\"javascript:void(0)\" role=\"button\"><img alt=\"추가이미지0\" data-src=\"https://shop-phinf.pstatic.net/20210504_143/16201256287314wPOx_JPEG/21261462528924181_893557394.jpg?type=f40\" height=\"40\" src=\"https://shop-phinf.pstatic.net/20210504_143/16201256287314wPOx_JPEG/21261462528924181_893557394.jpg?type=f40\" style=\"height:\" width=\"40\"/></a></li><li class=\"_3TvRO_uxKp N=a:itm.mini\"><a aria-selected=\"false\" class=\"_1F-riHNwNb\" href=\"javascript:void(0)\" role=\"button\"><img alt=\"추가이미지1\" data-src=\"https://shop-phinf.pstatic.net/20210303_138/1614738240846xQO9c_JPEG/15874024388926234_178271068.jpg?type=f40\" height=\"40\" src=\"https://shop-phinf.pstatic.net/20210303_138/1614738240846xQO9c_JPEG/15874024388926234_178271068.jpg?type=f40\" style=\"height:\" width=\"40\"/></a></li><li class=\"_3TvRO_uxKp N=a:itm.mini\"><a aria-selected=\"false\" class=\"_1F-riHNwNb\" href=\"javascript:void(0)\" role=\"button\"><img alt=\"추가이미지2\" data-src=\"https://shop-phinf.pstatic.net/20210704_232/1625397352027OntHt_PNG/26533250684194593_2071339946.png?type=f40\" height=\"40\" src=\"https://shop-phinf.pstatic.net/20210704_232/1625397352027OntHt_PNG/26533250684194593_2071339946.png?type=f40\" style=\"height:\" width=\"40\"/></a></li><li class=\"_3TvRO_uxKp N=a:itm.mini\"><a aria-selected=\"false\" class=\"_1F-riHNwNb\" href=\"javascript:void(0)\" role=\"button\"><img alt=\"추가이미지3\" data-src=\"https://shop-phinf.pstatic.net/20210303_31/1614738241071KwNdL_JPEG/15874024754648920_252769713.jpg?type=f40\" height=\"40\" src=\"https://shop-phinf.pstatic.net/20210303_31/1614738241071KwNdL_JPEG/15874024754648920_252769713.jpg?type=f40\" style=\"height:\" width=\"40\"/></a></li></ul><div class=\"NFNlCQC2mv\"><div class=\"_2Q0vrZJNK1\"><span class=\"_2lJgrD1cyO\">리뷰수</span><a href=\"#REVIEW\" role=\"button\"><strong class=\"_2pgHN-ntx6\">662</strong></a></div><div class=\"_2Q0vrZJNK1\"><span class=\"_2lJgrD1cyO\">사용자 총 평점</span><strong class=\"_2pgHN-ntx6\">4.7<span class=\"_1RFxMQxpZW\"><span class=\"blind\">/</span></span>5</strong></div></div></div><div class=\"_2QCa6wHHPy\"><fieldset class=\"_10hph879os\"><legend class=\"blind\">상품 상세 구매</legend><div class=\"_1ziwSSdAv8\"><div class=\"CxNYUPvHfB\"><h3 class=\"_3oDjSvLwq9 _copyable\">해물 누룽지탕 (참피디방영,캠핑밀키트,홈파티,술안주)</h3><div class=\"_2apc7ON2Ps\"></div></div><div class=\"WrkQhIlUY0\"><span class=\"_1G-IvlyANt\"><span class=\"blind\">7<!-- -->% 할인</span><span class=\"_2KqZ95eOnM _3BxC6F8TrA\"></span><span class=\"_2KqZ95eOnM tp3gUs4qAQ\"></span></span><div class=\"_3my-5FC8OB\"><del class=\"Xdhdpm0BD9\"><span class=\"blind\">할인 전 가격</span><span class=\"_1LY7DqCnwR\">13,900</span><span class=\"won\">원</span></del><strong class=\"aICRqgP9zw\"><span class=\"blind\">상품 가격</span><span class=\"_1LY7DqCnwR\">12,900</span><span class=\"won\">원</span></strong></div></div></div><div class=\"_2a18RJADk5\"><div class=\"_3Gm3LenGha\"><strong class=\"_2pmRd_bEFl\"><span class=\"_3QBCSk9AvE\">팜앤쿡<!-- --> </span><span class=\"_3lkhC8JLSf N-3lRFdSQA\">고객을 위한 혜택</span></strong></div><div class=\"_3gd5biYh9U\"><div class=\"_2GhQl0OAz5\"><strong class=\"ubp5Br-1H3\">최대 적립 포인트</strong><div class=\"_2nGXfNqoxc\"><span class=\"_1uWi-x17sn\">279</span>원<div class=\"_3lgeps4oWP\"><div class=\"_1NlW76gT_y _2bXlEJVJNe\"><button aria-expanded=\"false\" aria-haspopup=\"true\" class=\"_1A3wsu3VCB N=a:bnf.pmore\" type=\"button\"><span class=\"blind\">안내사항 보기</span></button></div></div></div></div><ul class=\"_1I447KtCFy\"><li class=\"_1_WA_OzU38\"><em class=\"_19Y8liKA3m\">129원</em><div class=\"_2DQuDuHzsO\"><div class=\"_26umr8OxIe\"><div class=\"_3UpGFyo9n5\"><div class=\"_3vCvYtmzRU\"><span class=\"_22lVfErWlO\"><span class=\"blind\">기본적립</span></span>기본적립</div></div></div></div></li></ul></div><div class=\"_1RDbGXIyZC\"><div class=\"_2-NQ_KNXSG\"><span class=\"_1AuAvwQVrX\">포인트 더 받는 방법</span><span class=\"_1vMhLvKfMe\"><span class=\"_2c4eNN8_XP\">+최대</span><strong class=\"NQsbmetEfd\">1,419</strong>원</span></div><ul class=\"_17mWEoYQXA\"><li class=\"hE_joIHvIh\"><span class=\"uqELGF9AIn\">516<!-- -->원</span><div class=\"fDO7shCYpJ\"><div class=\"_2zL4NUXtvR\"><span class=\"_137xKnW9el\"><span class=\"_2cHqUMcMcZ _3W40m5UMrp\"><span class=\"blind\">네이버 플러스 멤버십</span></span><a class=\"_2WY8Lb9mj0 N=a:bnf.memlink_join\" href=\"javascript:void(0)\">최대 5% 적립, 무료 시작</a></span></div></div></li><li class=\"hE_joIHvIh\"><span class=\"uqELGF9AIn\">645<!-- -->원</span><div class=\"fDO7shCYpJ\"><div class=\"_2zL4NUXtvR\"><span class=\"_137xKnW9el\"><span class=\"_2cHqUMcMcZ _3W40m5UMrp\"><span class=\"blind\">네이버 플러스 멤버십</span></span><a class=\"_2WY8Lb9mj0 N=a:bnf.memlink_promo\" href=\"javascript:void(0)\">네이버 현대카드로 결제 시</a></span></div></div></li><li class=\"hE_joIHvIh\"><span class=\"uqELGF9AIn\">258<!-- -->원</span><div class=\"fDO7shCYpJ\"><div class=\"_2zL4NUXtvR\"><span class=\"_137xKnW9el\"><span class=\"_2cHqUMcMcZ _1jOynMMBjU\"><span class=\"blind\">2% 적립</span></span><a class=\"_2WY8Lb9mj0 N=a:bnf.paylink\" href=\"javascript:void(0)\">충전포인트로 결제 시</a></span></div></div></li></ul></div></div><a class=\"YtaaqNNG3L _3Q-sOa-l3K PE3vp_pf0R N=a:banner.mem\" href=\"javascript:void(0)\" style=\"margin-top:11px;background-color:#4E50FB\"></a><ul class=\"_3tAzii7AAC\"><li class=\"_3PSm5YaiyP\"><div class=\"_10YmOw_HhF\">무이자할부</div><div class=\"_2yGarV8XbC\">카드 자세히보기<div class=\"_1FiytDqWF3\"><a aria-haspopup=\"true\" class=\"_1_kvkzWIXh N=a:pcs.card\" href=\"javascript:void(0)\" role=\"button\"><span class=\"blind\">카드 자세히보기</span></a></div></div></li></ul><div class=\"_2aYX1XhVN_\"></div><div class=\"_1rGSKv6aq_\" style=\"margin-top:12px\"><div class=\"bd_2-_JX bd_C8Tz1\"><span class=\"bd_ChMMo\">택배배송</span><span class=\"bd_ChMMo\"><span class=\"bd_3uare\">3,000</span>원<span class=\"bd_2XJf1\">(주문시 결제<!-- -->)</span></span></div><p class=\"bd_1g_zz\" style=\"margin-top:3px\">30,000원 이상 구매 시 무료</p><div class=\"_3_kSDK68pw\"><a class=\"_2Ugyq5gjSq _23ZcKYMJAs _2W6umRasi3 N=a:pcs.delivery\" href=\"/farmncook/bundle/1069169?prevProdId=2429028738\" target=\"_blank\">배송비 절약상품 보기</a></div></div><div class=\"bd_3LGgw\" style=\"margin:16px 0\"><span class=\"bd_DIwOP\">추가상품</span><div class=\"bd_1oVH9\"><a aria-expanded=\"false\" aria-haspopup=\"listbox\" class=\"bd_2gVQ5\" href=\"javascript:void(0)\" role=\"button\">튀긴누룽지<span class=\"bd_BXgb4\"><svg class=\"bd_2uKIk\" fill=\"#acb2bc\" fill-rule=\"evenodd\" height=\"8\" viewbox=\"0 0 14 8\" width=\"14\" xmlns=\"http://www.w3.org/2000/svg\"><path d=\"M13 2v1h-1v1h-1v1h-1v1H9v1H8v1H6V7H5V6H4V5H3V4H2V3H1V2H0V0h1v1h1v1h1v1h1v1h1v1h1v1h2V5h1V4h1V3h1V2h1V1h1V0h1v2h-1z\"></path></svg></span></a></div></div><div class=\"bd_cKJfB bd_2GgKt\"><ul class=\"bd_ypruy\"><li class=\"bd_2PDrk\"><div class=\"bd_ADEkA\"><div class=\"bd_33paV\"><div class=\"bd_2cuha\"><button class=\"bd_EZ05h bd_3ex46 bd_2jhSJ N=a:pcs.quantity\" disabled=\"\" type=\"button\"><span class=\"blind\">수량 빼기</span></button><input class=\"bd_2eiJL N=a:pcs.quantity\" type=\"number\" value=\"1\"/><button class=\"bd_EZ05h bd_2nJMW N=a:pcs.quantity\" type=\"button\"><span class=\"blind\">수량 추가</span></button></div></div></div></li></ul></div><div class=\"bd_1iwcI bd_xMsL8 bd_7h93m\" style=\"margin-top:26px\"><strong class=\"bd_28JKM\">총 상품 금액</strong><div class=\"bd_CVTqI\" style=\"margin:4px 0 0 6px\"><button aria-expanded=\"false\" aria-haspopup=\"true\" class=\"bd_32dL8 N=a:pcs.price\" type=\"button\"><svg class=\"bd_3GYLw\" height=\"8\" width=\"6\" xmlns=\"http://www.w3.org/2000/svg\"><path d=\"M5 3v1H4v2H2V4h1V3h1V1H2v1H0V1h1V0h4v1h1v2H5zM4 8H2V7h2v1z\" fill=\"#5f5f5f\" fill-rule=\"evenodd\"></path></svg> <span class=\"blind\">도움말</span></button><div class=\"bd_y5n6u bd_2ZJCl bd_2K79u\" style=\"display:none\"><i class=\"bd_1XGXQ\"></i><button class=\"bd_3gqWB\" type=\"button\"><svg class=\"bd_K4Ce9\" height=\"11\" viewbox=\"0 0 17 17\" width=\"11\" xmlns=\"http://www.w3.org/2000/svg\"><path d=\"M16.272 0L8.5 7.772.728 0 0 .728 7.772 8.5 0 16.272.728 17 8.5 9.228 16.272 17l.728-.728L9.228 8.5 17 .728 16.272 0z\" fill-rule=\"evenodd\"></path></svg><span class=\"blind\">닫기</span></button></div></div><div class=\"bd_3XvVU\"><em class=\"bd_1hU3G\">총 수량 <!-- -->1<!-- -->개</em><strong class=\"bd_1Ukv5 bd_2WCtq\"><span class=\"bd_32Qz_\">12,900</span>원</strong></div></div><div class=\"XqRGHcrncz\"><div class=\"_3YA58cPPsy\"><div class=\"OgETmrvExa N=a:pcs.buy\"><a class=\"_2-uvQuRWK5\" href=\"javascript:void(0)\"><span class=\"blind\">구매하기</span></a></div></div><div class=\"_3YA58cPPsy\"><div class=\"_39-ECjV6I9 N=a:pcs.talk\"><a class=\"H4-2Au4vay\" href=\"javascript:void(0)\" role=\"button\"><span class=\"blind\">톡톡문의</span></a></div><div class=\"_3Dy-2NaoiG N=a:pcs.fav\"><a aria-pressed=\"false\" class=\"_8ToEZI8a1P\" href=\"javascript:void(0)\" role=\"button\"><span class=\"_1F0dbkDlNA\"><span class=\"blind\">찜하기</span></span><em class=\"_1c-2nfzJqH\">0</em></a></div><div class=\"C_muF3UG0- N=a:pcs.cart\"><a class=\"_3g6Aiz5G_O\" href=\"javascript:void(0)\" role=\"button\"><span class=\"blind\">장바구니</span></a></div></div></div><div class=\"aJuhuTnqSk\"><span class=\"_3xupw7lyht\">쇼핑할 때 필독</span><a class=\"Cmxi1kYHdo N=a:pcs.safe\" href=\"https://ips.smartstore.naver.com/main/rules/safety/tip\" target=\"_blank\">안전거래TIP</a></div><div class=\"_1-AmbOd6-s\"><span class=\"_2rrRsP1ieh\">상품정보에 문제가 있나요?</span><a class=\"_2milcSBYyV\" href=\"javascript:void(0)\">신고하기</a></div></fieldset></div></div>]\n"
     ]
    }
   ],
   "source": [
    "soup.select('#wrap div._19QB6iPgUU > div._3ZEeXLwPLs > div._2ZMO1PVXbA > div._2-I30XS1lA')"
   ]
  },
  {
   "cell_type": "code",
   "execution_count": 138,
   "id": "d4233958-337c-408a-aa0c-1d6de4835f44",
   "metadata": {},
   "outputs": [
    {
     "data": {
      "text/plain": [
       "['https://smartstore.naver.com/farmncook/products/2429028738',\n",
       " 'https://smartstore.naver.com/farmncook/products/2430872594',\n",
       " 'https://smartstore.naver.com/farmncook/products/2430805770',\n",
       " 'https://smartstore.naver.com/farmncook/products/4520546328',\n",
       " 'https://smartstore.naver.com/farmncook/products/4505601428',\n",
       " 'https://smartstore.naver.com/farmncook/products/5538105691',\n",
       " 'https://smartstore.naver.com/farmncook/products/6044383835',\n",
       " 'https://smartstore.naver.com/farmncook/products/6093350921',\n",
       " 'https://smartstore.naver.com/farmncook/products/6052246842']"
      ]
     },
     "execution_count": 138,
     "metadata": {},
     "output_type": "execute_result"
    }
   ],
   "source": [
    "link_all"
   ]
  },
  {
   "cell_type": "code",
   "execution_count": 208,
   "id": "66d35f31-e09a-4333-9d23-c4bd0b48bfa8",
   "metadata": {
    "tags": []
   },
   "outputs": [],
   "source": [
    "import bs4\n",
    "from selenium import webdriver\n",
    "from selenium.webdriver.common.keys import Keys\n",
    "from time import sleep"
   ]
  },
  {
   "cell_type": "code",
   "execution_count": 289,
   "id": "023c4c2a-05da-4d46-8425-4dd0a02ed8b1",
   "metadata": {},
   "outputs": [
    {
     "name": "stderr",
     "output_type": "stream",
     "text": [
      "C:\\Users\\dbsal\\AppData\\Local\\Temp/ipykernel_18244/1503448852.py:1: DeprecationWarning: executable_path has been deprecated, please pass in a Service object\n",
      "  brower = webdriver.Chrome('C:\\\\BigData\\\\chromedriver.exe')\n"
     ]
    }
   ],
   "source": [
    "brower = webdriver.Chrome('C:\\\\BigData\\\\chromedriver.exe')\n",
    "url = link_all[1]"
   ]
  },
  {
   "cell_type": "code",
   "execution_count": 290,
   "id": "65afcd4d-9149-4db0-9330-e8c6cbe543f6",
   "metadata": {},
   "outputs": [],
   "source": [
    "brower.get(url)"
   ]
  },
  {
   "cell_type": "markdown",
   "id": "65514ba5-1c4a-42eb-a920-e166d73eba8a",
   "metadata": {},
   "source": [
    "### brower.page_source 이거는 selenium  소스 코드 다 가져옴"
   ]
  },
  {
   "cell_type": "code",
   "execution_count": 291,
   "id": "15445093-0a5a-46b9-935e-d205023fa8be",
   "metadata": {},
   "outputs": [],
   "source": [
    "kk = brower.page_source\n",
    "ssoup = bs(kk, 'html.parser')"
   ]
  },
  {
   "cell_type": "code",
   "execution_count": 292,
   "id": "48953a76-4942-478e-9286-36d9ddb12733",
   "metadata": {},
   "outputs": [
    {
     "data": {
      "text/plain": [
       "[<img alt=\"\" class=\"se-image-resource\" data-src=\"https://shop-phinf.pstatic.net/20220214_121/1644800789760HiDc9_PNG/00_%EC%9D%B8%ED%8A%B8%EB%A1%9C%ED%8E%98%EC%9D%B4%EC%A7%80.png?type=w860\" src=\"data:image/png;base64,iVBORw0KGgoAAAANSUhEUgAAAAEAAAABCAQAAAC1HAwCAAAAC0lEQVR42mP8/x8AAwMCAO+ip1sAAAAASUVORK5CYII=\"/>,\n",
       " <img alt=\"\" class=\"se-image-resource\" data-src=\"https://shop-phinf.pstatic.net/20220111_38/1641885588785CJKts_JPEG/%EA%B3%A0%EC%B6%94%EC%9E%A1%EC%B1%841-1.jpg?type=w860\" src=\"data:image/png;base64,iVBORw0KGgoAAAANSUhEUgAAAAEAAAABCAQAAAC1HAwCAAAAC0lEQVR42mP8/x8AAwMCAO+ip1sAAAAASUVORK5CYII=\"/>,\n",
       " <img alt=\"\" class=\"se-image-resource\" data-src=\"https://shop-phinf.pstatic.net/20211204_261/1638608168911U3C9j_JPEG/%EA%B3%A0%EC%B6%94%EC%9E%A1%EC%B1%841-2.jpg?type=w860\" src=\"data:image/png;base64,iVBORw0KGgoAAAANSUhEUgAAAAEAAAABCAQAAAC1HAwCAAAAC0lEQVR42mP8/x8AAwMCAO+ip1sAAAAASUVORK5CYII=\"/>,\n",
       " <img alt=\"\" class=\"se-image-resource\" data-src=\"https://shop-phinf.pstatic.net/20220130_72/1643536682984Vuecm_JPEG/%EA%B3%A0%EC%B6%94%EC%9E%A1%EC%B1%841-3.jpg?type=w860\" src=\"data:image/png;base64,iVBORw0KGgoAAAANSUhEUgAAAAEAAAABCAQAAAC1HAwCAAAAC0lEQVR42mP8/x8AAwMCAO+ip1sAAAAASUVORK5CYII=\"/>,\n",
       " <img alt=\"\" class=\"se-image-resource\" data-src=\"https://shop-phinf.pstatic.net/20220209_167/1644365481436m9d3a_PNG/02_About_brand.jpg.png?type=w860\" src=\"data:image/png;base64,iVBORw0KGgoAAAANSUhEUgAAAAEAAAABCAQAAAC1HAwCAAAAC0lEQVR42mP8/x8AAwMCAO+ip1sAAAAASUVORK5CYII=\"/>,\n",
       " <img alt=\"\" class=\"se-image-resource\" data-src=\"https://shop-phinf.pstatic.net/20220115_163/1642210922945Pqte6_PNG/03_%EB%B0%B0%EC%86%A1_%EB%B0%8F_%ED%99%98%EB%B6%88.png?type=w860\" src=\"data:image/png;base64,iVBORw0KGgoAAAANSUhEUgAAAAEAAAABCAQAAAC1HAwCAAAAC0lEQVR42mP8/x8AAwMCAO+ip1sAAAAASUVORK5CYII=\"/>]"
      ]
     },
     "execution_count": 292,
     "metadata": {},
     "output_type": "execute_result"
    }
   ],
   "source": [
    "zz = ssoup.select('#INTRODUCE > div > div:nth-child(6) > div > div > div > div > div img')\n",
    "zz"
   ]
  },
  {
   "cell_type": "code",
   "execution_count": 293,
   "id": "2795de3e-6d1b-43ac-b05d-614affd7f78f",
   "metadata": {
    "collapsed": true,
    "jupyter": {
     "outputs_hidden": true
    },
    "tags": []
   },
   "outputs": [
    {
     "name": "stderr",
     "output_type": "stream",
     "text": [
      "C:\\Users\\dbsal\\AppData\\Local\\Temp/ipykernel_18244/273747139.py:1: DeprecationWarning: executable_path has been deprecated, please pass in a Service object\n",
      "  brower = webdriver.Chrome('C:\\\\BigData\\\\chromedriver.exe')\n"
     ]
    },
    {
     "name": "stdout",
     "output_type": "stream",
     "text": [
      "[<img alt=\"\" class=\"se-image-resource\" data-src=\"https://shop-phinf.pstatic.net/20220214_169/1644805534814R7IYp_PNG/00_%EC%9D%B8%ED%8A%B8%EB%A1%9C%ED%8E%98%EC%9D%B4%EC%A7%80.png?type=w860\" src=\"data:image/png;base64,iVBORw0KGgoAAAANSUhEUgAAAAEAAAABCAQAAAC1HAwCAAAAC0lEQVR42mP8/x8AAwMCAO+ip1sAAAAASUVORK5CYII=\"/>, <img alt=\"\" class=\"se-image-resource\" data-src=\"https://shop-phinf.pstatic.net/20220216_137/1644979996046JAsUV_JPEG/%ED%95%B4%EB%AC%BC%EB%88%84%EB%A3%BD%EC%A7%80%ED%83%95_1(%EC%9D%BC%EB%B0%98).jpg?type=w860\" src=\"data:image/png;base64,iVBORw0KGgoAAAANSUhEUgAAAAEAAAABCAQAAAC1HAwCAAAAC0lEQVR42mP8/x8AAwMCAO+ip1sAAAAASUVORK5CYII=\"/>, <img alt=\"\" class=\"se-image-resource\" data-src=\"https://shop-phinf.pstatic.net/20220129_266/1643428310915PITjC_JPEG/%ED%95%B4%EB%AC%BC%EB%88%84%EB%A3%BD%EC%A7%80%ED%83%95_2(%EC%9D%BC%EB%B0%98).jpg?type=w860\" src=\"data:image/png;base64,iVBORw0KGgoAAAANSUhEUgAAAAEAAAABCAQAAAC1HAwCAAAAC0lEQVR42mP8/x8AAwMCAO+ip1sAAAAASUVORK5CYII=\"/>, <img alt=\"\" class=\"se-image-resource\" data-src=\"https://shop-phinf.pstatic.net/20220129_286/1643428310776YE2KK_JPEG/%ED%95%B4%EB%AC%BC%EB%88%84%EB%A3%BD%EC%A7%80%ED%83%95_3(%EC%9D%BC%EB%B0%98).jpg?type=w860\" src=\"data:image/png;base64,iVBORw0KGgoAAAANSUhEUgAAAAEAAAABCAQAAAC1HAwCAAAAC0lEQVR42mP8/x8AAwMCAO+ip1sAAAAASUVORK5CYII=\"/>, <img alt=\"\" class=\"se-image-resource\" data-src=\"https://shop-phinf.pstatic.net/20220209_293/1644365609969TQbf3_PNG/02_About_brand.jpg.png?type=w860\" src=\"data:image/png;base64,iVBORw0KGgoAAAANSUhEUgAAAAEAAAABCAQAAAC1HAwCAAAAC0lEQVR42mP8/x8AAwMCAO+ip1sAAAAASUVORK5CYII=\"/>, <img alt=\"\" class=\"se-image-resource\" data-src=\"https://shop-phinf.pstatic.net/20220115_234/16422112205299HJn1_PNG/03_%EB%B0%B0%EC%86%A1_%EB%B0%8F_%ED%99%98%EB%B6%88.png?type=w860\" src=\"data:image/png;base64,iVBORw0KGgoAAAANSUhEUgAAAAEAAAABCAQAAAC1HAwCAAAAC0lEQVR42mP8/x8AAwMCAO+ip1sAAAAASUVORK5CYII=\"/>]\n",
      "https://shop-phinf.pstatic.net/20220214_169/1644805534814R7IYp_PNG/00_%EC%9D%B8%ED%8A%B8%EB%A1%9C%ED%8E%98%EC%9D%B4%EC%A7%80.png?type=w860\n",
      "https://shop-phinf.pstatic.net/20220216_137/1644979996046JAsUV_JPEG/%ED%95%B4%EB%AC%BC%EB%88%84%EB%A3%BD%EC%A7%80%ED%83%95_1(%EC%9D%BC%EB%B0%98).jpg?type=w860\n",
      "https://shop-phinf.pstatic.net/20220129_266/1643428310915PITjC_JPEG/%ED%95%B4%EB%AC%BC%EB%88%84%EB%A3%BD%EC%A7%80%ED%83%95_2(%EC%9D%BC%EB%B0%98).jpg?type=w860\n",
      "https://shop-phinf.pstatic.net/20220129_286/1643428310776YE2KK_JPEG/%ED%95%B4%EB%AC%BC%EB%88%84%EB%A3%BD%EC%A7%80%ED%83%95_3(%EC%9D%BC%EB%B0%98).jpg?type=w860\n",
      "https://shop-phinf.pstatic.net/20220209_293/1644365609969TQbf3_PNG/02_About_brand.jpg.png?type=w860\n",
      "https://shop-phinf.pstatic.net/20220115_234/16422112205299HJn1_PNG/03_%EB%B0%B0%EC%86%A1_%EB%B0%8F_%ED%99%98%EB%B6%88.png?type=w860\n",
      "[<img alt=\"\" class=\"se-image-resource\" data-src=\"https://shop-phinf.pstatic.net/20220214_121/1644800789760HiDc9_PNG/00_%EC%9D%B8%ED%8A%B8%EB%A1%9C%ED%8E%98%EC%9D%B4%EC%A7%80.png?type=w860\" src=\"data:image/png;base64,iVBORw0KGgoAAAANSUhEUgAAAAEAAAABCAQAAAC1HAwCAAAAC0lEQVR42mP8/x8AAwMCAO+ip1sAAAAASUVORK5CYII=\"/>, <img alt=\"\" class=\"se-image-resource\" data-src=\"https://shop-phinf.pstatic.net/20220111_38/1641885588785CJKts_JPEG/%EA%B3%A0%EC%B6%94%EC%9E%A1%EC%B1%841-1.jpg?type=w860\" src=\"data:image/png;base64,iVBORw0KGgoAAAANSUhEUgAAAAEAAAABCAQAAAC1HAwCAAAAC0lEQVR42mP8/x8AAwMCAO+ip1sAAAAASUVORK5CYII=\"/>, <img alt=\"\" class=\"se-image-resource\" data-src=\"https://shop-phinf.pstatic.net/20211204_261/1638608168911U3C9j_JPEG/%EA%B3%A0%EC%B6%94%EC%9E%A1%EC%B1%841-2.jpg?type=w860\" src=\"data:image/png;base64,iVBORw0KGgoAAAANSUhEUgAAAAEAAAABCAQAAAC1HAwCAAAAC0lEQVR42mP8/x8AAwMCAO+ip1sAAAAASUVORK5CYII=\"/>, <img alt=\"\" class=\"se-image-resource\" data-src=\"https://shop-phinf.pstatic.net/20220130_72/1643536682984Vuecm_JPEG/%EA%B3%A0%EC%B6%94%EC%9E%A1%EC%B1%841-3.jpg?type=w860\" src=\"data:image/png;base64,iVBORw0KGgoAAAANSUhEUgAAAAEAAAABCAQAAAC1HAwCAAAAC0lEQVR42mP8/x8AAwMCAO+ip1sAAAAASUVORK5CYII=\"/>, <img alt=\"\" class=\"se-image-resource\" data-src=\"https://shop-phinf.pstatic.net/20220209_167/1644365481436m9d3a_PNG/02_About_brand.jpg.png?type=w860\" src=\"data:image/png;base64,iVBORw0KGgoAAAANSUhEUgAAAAEAAAABCAQAAAC1HAwCAAAAC0lEQVR42mP8/x8AAwMCAO+ip1sAAAAASUVORK5CYII=\"/>, <img alt=\"\" class=\"se-image-resource\" data-src=\"https://shop-phinf.pstatic.net/20220115_163/1642210922945Pqte6_PNG/03_%EB%B0%B0%EC%86%A1_%EB%B0%8F_%ED%99%98%EB%B6%88.png?type=w860\" src=\"data:image/png;base64,iVBORw0KGgoAAAANSUhEUgAAAAEAAAABCAQAAAC1HAwCAAAAC0lEQVR42mP8/x8AAwMCAO+ip1sAAAAASUVORK5CYII=\"/>]\n",
      "https://shop-phinf.pstatic.net/20220214_121/1644800789760HiDc9_PNG/00_%EC%9D%B8%ED%8A%B8%EB%A1%9C%ED%8E%98%EC%9D%B4%EC%A7%80.png?type=w860\n",
      "https://shop-phinf.pstatic.net/20220111_38/1641885588785CJKts_JPEG/%EA%B3%A0%EC%B6%94%EC%9E%A1%EC%B1%841-1.jpg?type=w860\n",
      "https://shop-phinf.pstatic.net/20211204_261/1638608168911U3C9j_JPEG/%EA%B3%A0%EC%B6%94%EC%9E%A1%EC%B1%841-2.jpg?type=w860\n",
      "https://shop-phinf.pstatic.net/20220130_72/1643536682984Vuecm_JPEG/%EA%B3%A0%EC%B6%94%EC%9E%A1%EC%B1%841-3.jpg?type=w860\n",
      "https://shop-phinf.pstatic.net/20220209_167/1644365481436m9d3a_PNG/02_About_brand.jpg.png?type=w860\n",
      "https://shop-phinf.pstatic.net/20220115_163/1642210922945Pqte6_PNG/03_%EB%B0%B0%EC%86%A1_%EB%B0%8F_%ED%99%98%EB%B6%88.png?type=w860\n",
      "[<img alt=\"\" class=\"se-image-resource\" data-src=\"https://shop-phinf.pstatic.net/20220214_64/1644800750204MKQgO_PNG/00_%EC%9D%B8%ED%8A%B8%EB%A1%9C%ED%8E%98%EC%9D%B4%EC%A7%80.png?type=w860\" src=\"data:image/png;base64,iVBORw0KGgoAAAANSUhEUgAAAAEAAAABCAQAAAC1HAwCAAAAC0lEQVR42mP8/x8AAwMCAO+ip1sAAAAASUVORK5CYII=\"/>, <img alt=\"\" class=\"se-image-resource\" data-src=\"https://shop-phinf.pstatic.net/20220216_225/1644983401177UaHEA_JPEG/%EC%96%91%EC%9E%A5%ED%94%BC_01.jpg?type=w860\" src=\"data:image/png;base64,iVBORw0KGgoAAAANSUhEUgAAAAEAAAABCAQAAAC1HAwCAAAAC0lEQVR42mP8/x8AAwMCAO+ip1sAAAAASUVORK5CYII=\"/>, <img alt=\"\" class=\"se-image-resource\" data-src=\"https://shop-phinf.pstatic.net/20220111_106/1641886173030lrPVS_JPEG/%EC%96%91%EC%9E%A5%ED%94%BC_02.jpg?type=w860\" src=\"data:image/png;base64,iVBORw0KGgoAAAANSUhEUgAAAAEAAAABCAQAAAC1HAwCAAAAC0lEQVR42mP8/x8AAwMCAO+ip1sAAAAASUVORK5CYII=\"/>, <img alt=\"\" class=\"se-image-resource\" data-src=\"https://shop-phinf.pstatic.net/20220106_178/1641425884757jWRMY_JPEG/%EC%96%91%EC%9E%A5%ED%94%BC_03.jpg?type=w860\" src=\"data:image/png;base64,iVBORw0KGgoAAAANSUhEUgAAAAEAAAABCAQAAAC1HAwCAAAAC0lEQVR42mP8/x8AAwMCAO+ip1sAAAAASUVORK5CYII=\"/>, <img alt=\"\" class=\"se-image-resource\" data-src=\"https://shop-phinf.pstatic.net/20220209_260/1644365548837i1qwS_PNG/02_About_brand.jpg.png?type=w860\" src=\"data:image/png;base64,iVBORw0KGgoAAAANSUhEUgAAAAEAAAABCAQAAAC1HAwCAAAAC0lEQVR42mP8/x8AAwMCAO+ip1sAAAAASUVORK5CYII=\"/>, <img alt=\"\" class=\"se-image-resource\" data-src=\"https://shop-phinf.pstatic.net/20220115_221/1642204894454iFumL_PNG/03_%EB%B0%B0%EC%86%A1_%EB%B0%8F_%ED%99%98%EB%B6%88.png?type=w860\" src=\"data:image/png;base64,iVBORw0KGgoAAAANSUhEUgAAAAEAAAABCAQAAAC1HAwCAAAAC0lEQVR42mP8/x8AAwMCAO+ip1sAAAAASUVORK5CYII=\"/>]\n",
      "https://shop-phinf.pstatic.net/20220214_64/1644800750204MKQgO_PNG/00_%EC%9D%B8%ED%8A%B8%EB%A1%9C%ED%8E%98%EC%9D%B4%EC%A7%80.png?type=w860\n",
      "https://shop-phinf.pstatic.net/20220216_225/1644983401177UaHEA_JPEG/%EC%96%91%EC%9E%A5%ED%94%BC_01.jpg?type=w860\n",
      "https://shop-phinf.pstatic.net/20220111_106/1641886173030lrPVS_JPEG/%EC%96%91%EC%9E%A5%ED%94%BC_02.jpg?type=w860\n",
      "https://shop-phinf.pstatic.net/20220106_178/1641425884757jWRMY_JPEG/%EC%96%91%EC%9E%A5%ED%94%BC_03.jpg?type=w860\n",
      "https://shop-phinf.pstatic.net/20220209_260/1644365548837i1qwS_PNG/02_About_brand.jpg.png?type=w860\n",
      "https://shop-phinf.pstatic.net/20220115_221/1642204894454iFumL_PNG/03_%EB%B0%B0%EC%86%A1_%EB%B0%8F_%ED%99%98%EB%B6%88.png?type=w860\n",
      "[<img alt=\"\" class=\"se-image-resource\" data-src=\"https://shop-phinf.pstatic.net/20220214_283/1644805909945VyMM2_PNG/00_%EC%9D%B8%ED%8A%B8%EB%A1%9C%ED%8E%98%EC%9D%B4%EC%A7%80.png?type=w860\" src=\"data:image/png;base64,iVBORw0KGgoAAAANSUhEUgAAAAEAAAABCAQAAAC1HAwCAAAAC0lEQVR42mP8/x8AAwMCAO+ip1sAAAAASUVORK5CYII=\"/>, <img alt=\"\" class=\"se-image-resource\" data-src=\"https://shop-phinf.pstatic.net/20220216_4/1644983107254gfGTw_JPEG/%EC%9C%A0%EC%82%B0%EC%8A%AC_01.jpg?type=w860\" src=\"data:image/png;base64,iVBORw0KGgoAAAANSUhEUgAAAAEAAAABCAQAAAC1HAwCAAAAC0lEQVR42mP8/x8AAwMCAO+ip1sAAAAASUVORK5CYII=\"/>, <img alt=\"\" class=\"se-image-resource\" data-src=\"https://shop-phinf.pstatic.net/20220131_11/1643623158407VhJJL_JPEG/%EC%9C%A0%EC%82%B0%EC%8A%AC_02.jpg?type=w860\" src=\"data:image/png;base64,iVBORw0KGgoAAAANSUhEUgAAAAEAAAABCAQAAAC1HAwCAAAAC0lEQVR42mP8/x8AAwMCAO+ip1sAAAAASUVORK5CYII=\"/>, <img alt=\"\" class=\"se-image-resource\" data-src=\"https://shop-phinf.pstatic.net/20220209_207/1644364188695p9GVF_PNG/02_About_brand.jpg.png?type=w860\" src=\"data:image/png;base64,iVBORw0KGgoAAAANSUhEUgAAAAEAAAABCAQAAAC1HAwCAAAAC0lEQVR42mP8/x8AAwMCAO+ip1sAAAAASUVORK5CYII=\"/>, <img alt=\"\" class=\"se-image-resource\" data-src=\"https://shop-phinf.pstatic.net/20220115_165/1642211654904oVGt3_PNG/03_%EB%B0%B0%EC%86%A1_%EB%B0%8F_%ED%99%98%EB%B6%88.png?type=w860\" src=\"data:image/png;base64,iVBORw0KGgoAAAANSUhEUgAAAAEAAAABCAQAAAC1HAwCAAAAC0lEQVR42mP8/x8AAwMCAO+ip1sAAAAASUVORK5CYII=\"/>]\n",
      "https://shop-phinf.pstatic.net/20220214_283/1644805909945VyMM2_PNG/00_%EC%9D%B8%ED%8A%B8%EB%A1%9C%ED%8E%98%EC%9D%B4%EC%A7%80.png?type=w860\n",
      "https://shop-phinf.pstatic.net/20220216_4/1644983107254gfGTw_JPEG/%EC%9C%A0%EC%82%B0%EC%8A%AC_01.jpg?type=w860\n",
      "https://shop-phinf.pstatic.net/20220131_11/1643623158407VhJJL_JPEG/%EC%9C%A0%EC%82%B0%EC%8A%AC_02.jpg?type=w860\n",
      "https://shop-phinf.pstatic.net/20220209_207/1644364188695p9GVF_PNG/02_About_brand.jpg.png?type=w860\n",
      "https://shop-phinf.pstatic.net/20220115_165/1642211654904oVGt3_PNG/03_%EB%B0%B0%EC%86%A1_%EB%B0%8F_%ED%99%98%EB%B6%88.png?type=w860\n",
      "[<img alt=\"\" class=\"se-image-resource\" data-src=\"https://shop-phinf.pstatic.net/20220214_258/1644805868703dXwgA_PNG/00_%EC%9D%B8%ED%8A%B8%EB%A1%9C%ED%8E%98%EC%9D%B4%EC%A7%80.png?type=w860\" src=\"data:image/png;base64,iVBORw0KGgoAAAANSUhEUgAAAAEAAAABCAQAAAC1HAwCAAAAC0lEQVR42mP8/x8AAwMCAO+ip1sAAAAASUVORK5CYII=\"/>, <img alt=\"\" class=\"se-image-resource\" data-src=\"https://shop-phinf.pstatic.net/20220119_151/1642545979752TC5Tn_PNG/%EC%A4%91%ED%99%94%EC%9A%94%EB%A6%AC%ED%99%88%ED%8C%8C%ED%8B%B0_4-1.jpg.png?type=w860\" src=\"data:image/png;base64,iVBORw0KGgoAAAANSUhEUgAAAAEAAAABCAQAAAC1HAwCAAAAC0lEQVR42mP8/x8AAwMCAO+ip1sAAAAASUVORK5CYII=\"/>, <img alt=\"\" class=\"se-image-resource\" data-src=\"https://shop-phinf.pstatic.net/20220112_283/1641947560515vfzG7_JPEG/%EA%B3%A0%EC%B6%94%EC%9E%A1%EC%B1%841-1.jpg?type=w860\" src=\"data:image/png;base64,iVBORw0KGgoAAAANSUhEUgAAAAEAAAABCAQAAAC1HAwCAAAAC0lEQVR42mP8/x8AAwMCAO+ip1sAAAAASUVORK5CYII=\"/>, <img alt=\"\" class=\"se-image-resource\" data-src=\"https://shop-phinf.pstatic.net/20220112_134/16419475602140JY1v_JPEG/%EA%B3%A0%EC%B6%94%EC%9E%A1%EC%B1%841-2.jpg?type=w860\" src=\"data:image/png;base64,iVBORw0KGgoAAAANSUhEUgAAAAEAAAABCAQAAAC1HAwCAAAAC0lEQVR42mP8/x8AAwMCAO+ip1sAAAAASUVORK5CYII=\"/>, <img alt=\"\" class=\"se-image-resource\" data-src=\"https://shop-phinf.pstatic.net/20220204_22/1643975352393E5C32_JPEG/%EA%B3%A0%EC%B6%94%EC%9E%A1%EC%B1%841-3.jpg?type=w860\" src=\"data:image/png;base64,iVBORw0KGgoAAAANSUhEUgAAAAEAAAABCAQAAAC1HAwCAAAAC0lEQVR42mP8/x8AAwMCAO+ip1sAAAAASUVORK5CYII=\"/>, <img alt=\"\" class=\"se-image-resource\" data-src=\"https://shop-phinf.pstatic.net/20220112_148/1641947560222Dh7oB_JPEG/%EC%96%91%EC%9E%A5%ED%94%BC_01.jpg?type=w860\" src=\"data:image/png;base64,iVBORw0KGgoAAAANSUhEUgAAAAEAAAABCAQAAAC1HAwCAAAAC0lEQVR42mP8/x8AAwMCAO+ip1sAAAAASUVORK5CYII=\"/>, <img alt=\"\" class=\"se-image-resource\" data-src=\"https://shop-phinf.pstatic.net/20220112_165/1641947560231ltF3i_JPEG/%EC%96%91%EC%9E%A5%ED%94%BC_02.jpg?type=w860\" src=\"data:image/png;base64,iVBORw0KGgoAAAANSUhEUgAAAAEAAAABCAQAAAC1HAwCAAAAC0lEQVR42mP8/x8AAwMCAO+ip1sAAAAASUVORK5CYII=\"/>, <img alt=\"\" class=\"se-image-resource\" data-src=\"https://shop-phinf.pstatic.net/20220112_90/1641947560532RykA0_JPEG/%EC%96%91%EC%9E%A5%ED%94%BC_03.jpg?type=w860\" src=\"data:image/png;base64,iVBORw0KGgoAAAANSUhEUgAAAAEAAAABCAQAAAC1HAwCAAAAC0lEQVR42mP8/x8AAwMCAO+ip1sAAAAASUVORK5CYII=\"/>, <img alt=\"\" class=\"se-image-resource\" data-src=\"https://shop-phinf.pstatic.net/20220204_90/16439753193932r606_JPEG/%ED%95%B4%EB%AC%BC%EB%88%84%EB%A3%BD%EC%A7%80%ED%83%95_1(%EC%9D%BC%EB%B0%98).jpg?type=w860\" src=\"data:image/png;base64,iVBORw0KGgoAAAANSUhEUgAAAAEAAAABCAQAAAC1HAwCAAAAC0lEQVR42mP8/x8AAwMCAO+ip1sAAAAASUVORK5CYII=\"/>, <img alt=\"\" class=\"se-image-resource\" data-src=\"https://shop-phinf.pstatic.net/20220204_2/1643975319391v1fGJ_JPEG/%ED%95%B4%EB%AC%BC%EB%88%84%EB%A3%BD%EC%A7%80%ED%83%95_2(%EC%9D%BC%EB%B0%98).jpg?type=w860\" src=\"data:image/png;base64,iVBORw0KGgoAAAANSUhEUgAAAAEAAAABCAQAAAC1HAwCAAAAC0lEQVR42mP8/x8AAwMCAO+ip1sAAAAASUVORK5CYII=\"/>, <img alt=\"\" class=\"se-image-resource\" data-src=\"https://shop-phinf.pstatic.net/20220209_142/1644364779287Qps9r_PNG/02_About_brand.jpg.png?type=w860\" src=\"data:image/png;base64,iVBORw0KGgoAAAANSUhEUgAAAAEAAAABCAQAAAC1HAwCAAAAC0lEQVR42mP8/x8AAwMCAO+ip1sAAAAASUVORK5CYII=\"/>, <img alt=\"\" class=\"se-image-resource\" data-src=\"https://shop-phinf.pstatic.net/20220115_282/1642211620078eDaje_PNG/03_%EB%B0%B0%EC%86%A1_%EB%B0%8F_%ED%99%98%EB%B6%88.png?type=w860\" src=\"data:image/png;base64,iVBORw0KGgoAAAANSUhEUgAAAAEAAAABCAQAAAC1HAwCAAAAC0lEQVR42mP8/x8AAwMCAO+ip1sAAAAASUVORK5CYII=\"/>]\n",
      "https://shop-phinf.pstatic.net/20220214_258/1644805868703dXwgA_PNG/00_%EC%9D%B8%ED%8A%B8%EB%A1%9C%ED%8E%98%EC%9D%B4%EC%A7%80.png?type=w860\n",
      "https://shop-phinf.pstatic.net/20220119_151/1642545979752TC5Tn_PNG/%EC%A4%91%ED%99%94%EC%9A%94%EB%A6%AC%ED%99%88%ED%8C%8C%ED%8B%B0_4-1.jpg.png?type=w860\n",
      "https://shop-phinf.pstatic.net/20220112_283/1641947560515vfzG7_JPEG/%EA%B3%A0%EC%B6%94%EC%9E%A1%EC%B1%841-1.jpg?type=w860\n",
      "https://shop-phinf.pstatic.net/20220112_134/16419475602140JY1v_JPEG/%EA%B3%A0%EC%B6%94%EC%9E%A1%EC%B1%841-2.jpg?type=w860\n",
      "https://shop-phinf.pstatic.net/20220204_22/1643975352393E5C32_JPEG/%EA%B3%A0%EC%B6%94%EC%9E%A1%EC%B1%841-3.jpg?type=w860\n",
      "https://shop-phinf.pstatic.net/20220112_148/1641947560222Dh7oB_JPEG/%EC%96%91%EC%9E%A5%ED%94%BC_01.jpg?type=w860\n",
      "https://shop-phinf.pstatic.net/20220112_165/1641947560231ltF3i_JPEG/%EC%96%91%EC%9E%A5%ED%94%BC_02.jpg?type=w860\n",
      "https://shop-phinf.pstatic.net/20220112_90/1641947560532RykA0_JPEG/%EC%96%91%EC%9E%A5%ED%94%BC_03.jpg?type=w860\n",
      "https://shop-phinf.pstatic.net/20220204_90/16439753193932r606_JPEG/%ED%95%B4%EB%AC%BC%EB%88%84%EB%A3%BD%EC%A7%80%ED%83%95_1(%EC%9D%BC%EB%B0%98).jpg?type=w860\n",
      "https://shop-phinf.pstatic.net/20220204_2/1643975319391v1fGJ_JPEG/%ED%95%B4%EB%AC%BC%EB%88%84%EB%A3%BD%EC%A7%80%ED%83%95_2(%EC%9D%BC%EB%B0%98).jpg?type=w860\n",
      "https://shop-phinf.pstatic.net/20220209_142/1644364779287Qps9r_PNG/02_About_brand.jpg.png?type=w860\n",
      "https://shop-phinf.pstatic.net/20220115_282/1642211620078eDaje_PNG/03_%EB%B0%B0%EC%86%A1_%EB%B0%8F_%ED%99%98%EB%B6%88.png?type=w860\n",
      "[<img alt=\"\" class=\"se-image-resource\" data-src=\"https://shop-phinf.pstatic.net/20220214_123/1644806082305UE7Te_PNG/00_%EC%9D%B8%ED%8A%B8%EB%A1%9C%ED%8E%98%EC%9D%B4%EC%A7%80.png?type=w860\" src=\"data:image/png;base64,iVBORw0KGgoAAAANSUhEUgAAAAEAAAABCAQAAAC1HAwCAAAAC0lEQVR42mP8/x8AAwMCAO+ip1sAAAAASUVORK5CYII=\"/>, <img alt=\"\" class=\"se-image-resource\" data-src=\"https://shop-phinf.pstatic.net/20220217_181/1645057067437JeP92_PNG/%EC%A4%91%ED%99%94%EC%9A%94%EB%A6%AC_3%EC%A2%85_intro_%EC%9C%A0%EC%82%B0%EC%8A%AC.png?type=w860\" src=\"data:image/png;base64,iVBORw0KGgoAAAANSUhEUgAAAAEAAAABCAQAAAC1HAwCAAAAC0lEQVR42mP8/x8AAwMCAO+ip1sAAAAASUVORK5CYII=\"/>, <img alt=\"\" class=\"se-image-resource\" data-src=\"https://shop-phinf.pstatic.net/20220217_212/1645057085838Qo5vF_JPEG/%EA%B3%A0%EC%B6%94%EC%9E%A1%EC%B1%841-1.jpg?type=w860\" src=\"data:image/png;base64,iVBORw0KGgoAAAANSUhEUgAAAAEAAAABCAQAAAC1HAwCAAAAC0lEQVR42mP8/x8AAwMCAO+ip1sAAAAASUVORK5CYII=\"/>, <img alt=\"\" class=\"se-image-resource\" data-src=\"https://shop-phinf.pstatic.net/20220102_48/16411051291080IDP4_JPEG/%EA%B3%A0%EC%B6%94%EC%9E%A1%EC%B1%841-2.jpg?type=w860\" src=\"data:image/png;base64,iVBORw0KGgoAAAANSUhEUgAAAAEAAAABCAQAAAC1HAwCAAAAC0lEQVR42mP8/x8AAwMCAO+ip1sAAAAASUVORK5CYII=\"/>, <img alt=\"\" class=\"se-image-resource\" data-src=\"https://shop-phinf.pstatic.net/20220105_129/1641366261708T7MT0_JPEG/%EA%B3%A0%EC%B6%94%EC%9E%A1%EC%B1%841-3.jpg?type=w860\" src=\"data:image/png;base64,iVBORw0KGgoAAAANSUhEUgAAAAEAAAABCAQAAAC1HAwCAAAAC0lEQVR42mP8/x8AAwMCAO+ip1sAAAAASUVORK5CYII=\"/>, <img alt=\"\" class=\"se-image-resource\" data-src=\"https://shop-phinf.pstatic.net/20220217_250/1645057108080PJsvn_JPEG/%EC%9C%A0%EC%82%B0%EC%8A%AC_01.jpg?type=w860\" src=\"data:image/png;base64,iVBORw0KGgoAAAANSUhEUgAAAAEAAAABCAQAAAC1HAwCAAAAC0lEQVR42mP8/x8AAwMCAO+ip1sAAAAASUVORK5CYII=\"/>, <img alt=\"\" class=\"se-image-resource\" data-src=\"https://shop-phinf.pstatic.net/20220205_243/1644055086033Wh9ET_JPEG/%EC%9C%A0%EC%82%B0%EC%8A%AC_02.jpg?type=w860\" src=\"data:image/png;base64,iVBORw0KGgoAAAANSUhEUgAAAAEAAAABCAQAAAC1HAwCAAAAC0lEQVR42mP8/x8AAwMCAO+ip1sAAAAASUVORK5CYII=\"/>, <img alt=\"\" class=\"se-image-resource\" data-src=\"https://shop-phinf.pstatic.net/20220217_129/16450571283587cWO0_JPEG/%ED%95%B4%EB%AC%BC%EB%88%84%EB%A3%BD%EC%A7%80%ED%83%95_1(%EC%9D%BC%EB%B0%98).jpg?type=w860\" src=\"data:image/png;base64,iVBORw0KGgoAAAANSUhEUgAAAAEAAAABCAQAAAC1HAwCAAAAC0lEQVR42mP8/x8AAwMCAO+ip1sAAAAASUVORK5CYII=\"/>, <img alt=\"\" class=\"se-image-resource\" data-src=\"https://shop-phinf.pstatic.net/20220130_28/1643539301582KhD30_JPEG/%ED%95%B4%EB%AC%BC%EB%88%84%EB%A3%BD%EC%A7%80%ED%83%95_2(%EC%9D%BC%EB%B0%98).jpg?type=w860\" src=\"data:image/png;base64,iVBORw0KGgoAAAANSUhEUgAAAAEAAAABCAQAAAC1HAwCAAAAC0lEQVR42mP8/x8AAwMCAO+ip1sAAAAASUVORK5CYII=\"/>, <img alt=\"\" class=\"se-image-resource\" data-src=\"https://shop-phinf.pstatic.net/20220130_196/16435393014621OHtc_JPEG/%ED%95%B4%EB%AC%BC%EB%88%84%EB%A3%BD%EC%A7%80%ED%83%95_3(%EC%9D%BC%EB%B0%98).jpg?type=w860\" src=\"data:image/png;base64,iVBORw0KGgoAAAANSUhEUgAAAAEAAAABCAQAAAC1HAwCAAAAC0lEQVR42mP8/x8AAwMCAO+ip1sAAAAASUVORK5CYII=\"/>, <img alt=\"\" class=\"se-image-resource\" data-src=\"https://shop-phinf.pstatic.net/20220209_209/1644363859233h8YJa_PNG/02_About_brand.jpg.png?type=w860\" src=\"data:image/png;base64,iVBORw0KGgoAAAANSUhEUgAAAAEAAAABCAQAAAC1HAwCAAAAC0lEQVR42mP8/x8AAwMCAO+ip1sAAAAASUVORK5CYII=\"/>, <img alt=\"\" class=\"se-image-resource\" data-src=\"https://shop-phinf.pstatic.net/20220115_248/1642211885146w4mxb_PNG/03_%EB%B0%B0%EC%86%A1_%EB%B0%8F_%ED%99%98%EB%B6%88.png?type=w860\" src=\"data:image/png;base64,iVBORw0KGgoAAAANSUhEUgAAAAEAAAABCAQAAAC1HAwCAAAAC0lEQVR42mP8/x8AAwMCAO+ip1sAAAAASUVORK5CYII=\"/>]\n",
      "https://shop-phinf.pstatic.net/20220214_123/1644806082305UE7Te_PNG/00_%EC%9D%B8%ED%8A%B8%EB%A1%9C%ED%8E%98%EC%9D%B4%EC%A7%80.png?type=w860\n",
      "https://shop-phinf.pstatic.net/20220217_181/1645057067437JeP92_PNG/%EC%A4%91%ED%99%94%EC%9A%94%EB%A6%AC_3%EC%A2%85_intro_%EC%9C%A0%EC%82%B0%EC%8A%AC.png?type=w860\n",
      "https://shop-phinf.pstatic.net/20220217_212/1645057085838Qo5vF_JPEG/%EA%B3%A0%EC%B6%94%EC%9E%A1%EC%B1%841-1.jpg?type=w860\n",
      "https://shop-phinf.pstatic.net/20220102_48/16411051291080IDP4_JPEG/%EA%B3%A0%EC%B6%94%EC%9E%A1%EC%B1%841-2.jpg?type=w860\n",
      "https://shop-phinf.pstatic.net/20220105_129/1641366261708T7MT0_JPEG/%EA%B3%A0%EC%B6%94%EC%9E%A1%EC%B1%841-3.jpg?type=w860\n",
      "https://shop-phinf.pstatic.net/20220217_250/1645057108080PJsvn_JPEG/%EC%9C%A0%EC%82%B0%EC%8A%AC_01.jpg?type=w860\n",
      "https://shop-phinf.pstatic.net/20220205_243/1644055086033Wh9ET_JPEG/%EC%9C%A0%EC%82%B0%EC%8A%AC_02.jpg?type=w860\n",
      "https://shop-phinf.pstatic.net/20220217_129/16450571283587cWO0_JPEG/%ED%95%B4%EB%AC%BC%EB%88%84%EB%A3%BD%EC%A7%80%ED%83%95_1(%EC%9D%BC%EB%B0%98).jpg?type=w860\n",
      "https://shop-phinf.pstatic.net/20220130_28/1643539301582KhD30_JPEG/%ED%95%B4%EB%AC%BC%EB%88%84%EB%A3%BD%EC%A7%80%ED%83%95_2(%EC%9D%BC%EB%B0%98).jpg?type=w860\n",
      "https://shop-phinf.pstatic.net/20220130_196/16435393014621OHtc_JPEG/%ED%95%B4%EB%AC%BC%EB%88%84%EB%A3%BD%EC%A7%80%ED%83%95_3(%EC%9D%BC%EB%B0%98).jpg?type=w860\n",
      "https://shop-phinf.pstatic.net/20220209_209/1644363859233h8YJa_PNG/02_About_brand.jpg.png?type=w860\n",
      "https://shop-phinf.pstatic.net/20220115_248/1642211885146w4mxb_PNG/03_%EB%B0%B0%EC%86%A1_%EB%B0%8F_%ED%99%98%EB%B6%88.png?type=w860\n",
      "[<img alt=\"\" class=\"se-image-resource\" data-src=\"https://shop-phinf.pstatic.net/20220214_277/1644806747387bSsBC_PNG/00_%EC%9D%B8%ED%8A%B8%EB%A1%9C%ED%8E%98%EC%9D%B4%EC%A7%80.png?type=w860\" src=\"data:image/png;base64,iVBORw0KGgoAAAANSUhEUgAAAAEAAAABCAQAAAC1HAwCAAAAC0lEQVR42mP8/x8AAwMCAO+ip1sAAAAASUVORK5CYII=\"/>, <img alt=\"\" class=\"se-image-resource\" data-src=\"https://shop-phinf.pstatic.net/20220109_110/1641719334331n3IWj_JPEG/%EB%94%A4%EC%84%AC%EC%A0%84%EA%B3%A8_01.jpg?type=w860\" src=\"data:image/png;base64,iVBORw0KGgoAAAANSUhEUgAAAAEAAAABCAQAAAC1HAwCAAAAC0lEQVR42mP8/x8AAwMCAO+ip1sAAAAASUVORK5CYII=\"/>, <img alt=\"\" class=\"se-image-resource\" data-src=\"https://shop-phinf.pstatic.net/20220107_156/1641512094373LAblq_JPEG/%EB%94%A4%EC%84%AC%EC%A0%84%EA%B3%A8_02.jpg?type=w860\" src=\"data:image/png;base64,iVBORw0KGgoAAAANSUhEUgAAAAEAAAABCAQAAAC1HAwCAAAAC0lEQVR42mP8/x8AAwMCAO+ip1sAAAAASUVORK5CYII=\"/>, <img alt=\"\" class=\"se-image-resource\" data-src=\"https://shop-phinf.pstatic.net/20220209_18/1644363317642T8wUn_PNG/02_About_brand.jpg.png?type=w860\" src=\"data:image/png;base64,iVBORw0KGgoAAAANSUhEUgAAAAEAAAABCAQAAAC1HAwCAAAAC0lEQVR42mP8/x8AAwMCAO+ip1sAAAAASUVORK5CYII=\"/>, <img alt=\"\" class=\"se-image-resource\" data-src=\"https://shop-phinf.pstatic.net/20220115_235/1642212887661KYrKV_PNG/03_%EB%B0%B0%EC%86%A1_%EB%B0%8F_%ED%99%98%EB%B6%88.png?type=w860\" src=\"data:image/png;base64,iVBORw0KGgoAAAANSUhEUgAAAAEAAAABCAQAAAC1HAwCAAAAC0lEQVR42mP8/x8AAwMCAO+ip1sAAAAASUVORK5CYII=\"/>]\n",
      "https://shop-phinf.pstatic.net/20220214_277/1644806747387bSsBC_PNG/00_%EC%9D%B8%ED%8A%B8%EB%A1%9C%ED%8E%98%EC%9D%B4%EC%A7%80.png?type=w860\n",
      "https://shop-phinf.pstatic.net/20220109_110/1641719334331n3IWj_JPEG/%EB%94%A4%EC%84%AC%EC%A0%84%EA%B3%A8_01.jpg?type=w860\n",
      "https://shop-phinf.pstatic.net/20220107_156/1641512094373LAblq_JPEG/%EB%94%A4%EC%84%AC%EC%A0%84%EA%B3%A8_02.jpg?type=w860\n",
      "https://shop-phinf.pstatic.net/20220209_18/1644363317642T8wUn_PNG/02_About_brand.jpg.png?type=w860\n",
      "https://shop-phinf.pstatic.net/20220115_235/1642212887661KYrKV_PNG/03_%EB%B0%B0%EC%86%A1_%EB%B0%8F_%ED%99%98%EB%B6%88.png?type=w860\n",
      "[<img alt=\"\" class=\"se-image-resource\" data-src=\"https://shop-phinf.pstatic.net/20220214_154/1644806957467ifTbz_PNG/00_%EC%9D%B8%ED%8A%B8%EB%A1%9C%ED%8E%98%EC%9D%B4%EC%A7%80.png?type=w860\" src=\"data:image/png;base64,iVBORw0KGgoAAAANSUhEUgAAAAEAAAABCAQAAAC1HAwCAAAAC0lEQVR42mP8/x8AAwMCAO+ip1sAAAAASUVORK5CYII=\"/>, <img alt=\"\" class=\"se-image-resource\" data-src=\"https://shop-phinf.pstatic.net/20220114_104/1642127529344LkE0m_JPEG/%EA%B3%A0%EC%B6%94%EC%9E%A1%EC%B1%841-1.jpg?type=w860\" src=\"data:image/png;base64,iVBORw0KGgoAAAANSUhEUgAAAAEAAAABCAQAAAC1HAwCAAAAC0lEQVR42mP8/x8AAwMCAO+ip1sAAAAASUVORK5CYII=\"/>, <img alt=\"\" class=\"se-image-resource\" data-src=\"https://shop-phinf.pstatic.net/20211230_187/1640821699500vMqdI_JPEG/%EA%B3%A0%EC%B6%94%EC%9E%A1%EC%B1%841-2.jpg?type=w860\" src=\"data:image/png;base64,iVBORw0KGgoAAAANSUhEUgAAAAEAAAABCAQAAAC1HAwCAAAAC0lEQVR42mP8/x8AAwMCAO+ip1sAAAAASUVORK5CYII=\"/>, <img alt=\"\" class=\"se-image-resource\" data-src=\"https://shop-phinf.pstatic.net/20220130_216/1643543169144iwkNg_JPEG/%EA%B3%A0%EC%B6%94%EC%9E%A1%EC%B1%841-3.jpg?type=w860\" src=\"data:image/png;base64,iVBORw0KGgoAAAANSUhEUgAAAAEAAAABCAQAAAC1HAwCAAAAC0lEQVR42mP8/x8AAwMCAO+ip1sAAAAASUVORK5CYII=\"/>, <img alt=\"\" class=\"se-image-resource\" data-src=\"https://shop-phinf.pstatic.net/20211214_250/1639455339765NFkiT_JPEG/%EA%B3%A0%EC%B6%94%EC%9E%A1%EC%B1%841-4(%EC%84%A0%EB%AC%BC%ED%8F%AC%EC%9E%A5).jpg?type=w860\" src=\"data:image/png;base64,iVBORw0KGgoAAAANSUhEUgAAAAEAAAABCAQAAAC1HAwCAAAAC0lEQVR42mP8/x8AAwMCAO+ip1sAAAAASUVORK5CYII=\"/>, <img alt=\"\" class=\"se-image-resource\" data-src=\"https://shop-phinf.pstatic.net/20220209_33/1644363101009RmxuO_PNG/02_About_brand.jpg.png?type=w860\" src=\"data:image/png;base64,iVBORw0KGgoAAAANSUhEUgAAAAEAAAABCAQAAAC1HAwCAAAAC0lEQVR42mP8/x8AAwMCAO+ip1sAAAAASUVORK5CYII=\"/>, <img alt=\"\" class=\"se-image-resource\" data-src=\"https://shop-phinf.pstatic.net/20220115_201/1642213293325J00Nt_PNG/03_%EB%B0%B0%EC%86%A1_%EB%B0%8F_%ED%99%98%EB%B6%88.png?type=w860\" src=\"data:image/png;base64,iVBORw0KGgoAAAANSUhEUgAAAAEAAAABCAQAAAC1HAwCAAAAC0lEQVR42mP8/x8AAwMCAO+ip1sAAAAASUVORK5CYII=\"/>]\n",
      "https://shop-phinf.pstatic.net/20220214_154/1644806957467ifTbz_PNG/00_%EC%9D%B8%ED%8A%B8%EB%A1%9C%ED%8E%98%EC%9D%B4%EC%A7%80.png?type=w860\n",
      "https://shop-phinf.pstatic.net/20220114_104/1642127529344LkE0m_JPEG/%EA%B3%A0%EC%B6%94%EC%9E%A1%EC%B1%841-1.jpg?type=w860\n",
      "https://shop-phinf.pstatic.net/20211230_187/1640821699500vMqdI_JPEG/%EA%B3%A0%EC%B6%94%EC%9E%A1%EC%B1%841-2.jpg?type=w860\n",
      "https://shop-phinf.pstatic.net/20220130_216/1643543169144iwkNg_JPEG/%EA%B3%A0%EC%B6%94%EC%9E%A1%EC%B1%841-3.jpg?type=w860\n",
      "https://shop-phinf.pstatic.net/20211214_250/1639455339765NFkiT_JPEG/%EA%B3%A0%EC%B6%94%EC%9E%A1%EC%B1%841-4(%EC%84%A0%EB%AC%BC%ED%8F%AC%EC%9E%A5).jpg?type=w860\n",
      "https://shop-phinf.pstatic.net/20220209_33/1644363101009RmxuO_PNG/02_About_brand.jpg.png?type=w860\n",
      "https://shop-phinf.pstatic.net/20220115_201/1642213293325J00Nt_PNG/03_%EB%B0%B0%EC%86%A1_%EB%B0%8F_%ED%99%98%EB%B6%88.png?type=w860\n",
      "[<img alt=\"\" class=\"se-image-resource\" data-src=\"https://shop-phinf.pstatic.net/20220214_165/16448068078200FS88_PNG/00_%EC%9D%B8%ED%8A%B8%EB%A1%9C%ED%8E%98%EC%9D%B4%EC%A7%80.png?type=w860\" src=\"data:image/png;base64,iVBORw0KGgoAAAANSUhEUgAAAAEAAAABCAQAAAC1HAwCAAAAC0lEQVR42mP8/x8AAwMCAO+ip1sAAAAASUVORK5CYII=\"/>, <img alt=\"\" class=\"se-image-resource\" data-src=\"https://shop-phinf.pstatic.net/20220111_276/1641860914508G7Ic1_JPEG/%EC%B9%A0%EB%A6%AC%EC%83%88%EC%9A%B0_01.jpg?type=w860\" src=\"data:image/png;base64,iVBORw0KGgoAAAANSUhEUgAAAAEAAAABCAQAAAC1HAwCAAAAC0lEQVR42mP8/x8AAwMCAO+ip1sAAAAASUVORK5CYII=\"/>, <img alt=\"\" class=\"se-image-resource\" data-src=\"https://shop-phinf.pstatic.net/20211130_179/16382334238091fCgn_JPEG/%EC%B9%A0%EB%A6%AC%EC%83%88%EC%9A%B0_02.jpg?type=w860\" src=\"data:image/png;base64,iVBORw0KGgoAAAANSUhEUgAAAAEAAAABCAQAAAC1HAwCAAAAC0lEQVR42mP8/x8AAwMCAO+ip1sAAAAASUVORK5CYII=\"/>, <img alt=\"\" class=\"se-image-resource\" data-src=\"https://shop-phinf.pstatic.net/20220209_286/16443632672272yxN2_PNG/02_About_brand.jpg.png?type=w860\" src=\"data:image/png;base64,iVBORw0KGgoAAAANSUhEUgAAAAEAAAABCAQAAAC1HAwCAAAAC0lEQVR42mP8/x8AAwMCAO+ip1sAAAAASUVORK5CYII=\"/>, <img alt=\"\" class=\"se-image-resource\" data-src=\"https://shop-phinf.pstatic.net/20220115_22/1642212937220mnneU_PNG/03_%EB%B0%B0%EC%86%A1_%EB%B0%8F_%ED%99%98%EB%B6%88.png?type=w860\" src=\"data:image/png;base64,iVBORw0KGgoAAAANSUhEUgAAAAEAAAABCAQAAAC1HAwCAAAAC0lEQVR42mP8/x8AAwMCAO+ip1sAAAAASUVORK5CYII=\"/>]\n",
      "https://shop-phinf.pstatic.net/20220214_165/16448068078200FS88_PNG/00_%EC%9D%B8%ED%8A%B8%EB%A1%9C%ED%8E%98%EC%9D%B4%EC%A7%80.png?type=w860\n",
      "https://shop-phinf.pstatic.net/20220111_276/1641860914508G7Ic1_JPEG/%EC%B9%A0%EB%A6%AC%EC%83%88%EC%9A%B0_01.jpg?type=w860\n",
      "https://shop-phinf.pstatic.net/20211130_179/16382334238091fCgn_JPEG/%EC%B9%A0%EB%A6%AC%EC%83%88%EC%9A%B0_02.jpg?type=w860\n",
      "https://shop-phinf.pstatic.net/20220209_286/16443632672272yxN2_PNG/02_About_brand.jpg.png?type=w860\n",
      "https://shop-phinf.pstatic.net/20220115_22/1642212937220mnneU_PNG/03_%EB%B0%B0%EC%86%A1_%EB%B0%8F_%ED%99%98%EB%B6%88.png?type=w860\n"
     ]
    }
   ],
   "source": [
    "brower = webdriver.Chrome('C:\\\\BigData\\\\chromedriver.exe')\n",
    "# brower.implicitly_wait(3)\n",
    "link_img = []\n",
    "# link_1 = []\n",
    "for i in range(len(link_all)):\n",
    "    brower.implicitly_wait(15)\n",
    "    url = link_all[i]\n",
    "    llong = []\n",
    "    brower.get(link_all[i])\n",
    "    sleep(15)\n",
    "    kk = brower.page_source\n",
    "    sleep(15)\n",
    "    ssoup = bs(kk, 'html.parser')\n",
    "    # print(ssoup)\n",
    "    # link_1.append(ssoup)\n",
    "    # for i in range(len(link_1)):\n",
    "    sleep(15)\n",
    "    zz = ssoup.select('#INTRODUCE > div > div:nth-child(6) > div > div > div > div > div img')\n",
    "    print(zz)\n",
    "    sleep(15)\n",
    "    for i in zz:\n",
    "        llong.append(i['data-src'])\n",
    "        print(i['data-src'])\n",
    "    link_img.append(llong)\n",
    "    sleep(5)    \n",
    "brower.close()"
   ]
  },
  {
   "cell_type": "code",
   "execution_count": 296,
   "id": "6418124e-fdd7-4767-ace4-2d2f12fd8946",
   "metadata": {
    "tags": []
   },
   "outputs": [],
   "source": [
    "dk = link_img"
   ]
  },
  {
   "cell_type": "code",
   "execution_count": 297,
   "id": "c897b59b-692e-4466-bd6e-989eb1381707",
   "metadata": {},
   "outputs": [
    {
     "data": {
      "text/plain": [
       "[['https://shop-phinf.pstatic.net/20220214_169/1644805534814R7IYp_PNG/00_%EC%9D%B8%ED%8A%B8%EB%A1%9C%ED%8E%98%EC%9D%B4%EC%A7%80.png?type=w860',\n",
       "  'https://shop-phinf.pstatic.net/20220216_137/1644979996046JAsUV_JPEG/%ED%95%B4%EB%AC%BC%EB%88%84%EB%A3%BD%EC%A7%80%ED%83%95_1(%EC%9D%BC%EB%B0%98).jpg?type=w860',\n",
       "  'https://shop-phinf.pstatic.net/20220129_266/1643428310915PITjC_JPEG/%ED%95%B4%EB%AC%BC%EB%88%84%EB%A3%BD%EC%A7%80%ED%83%95_2(%EC%9D%BC%EB%B0%98).jpg?type=w860',\n",
       "  'https://shop-phinf.pstatic.net/20220129_286/1643428310776YE2KK_JPEG/%ED%95%B4%EB%AC%BC%EB%88%84%EB%A3%BD%EC%A7%80%ED%83%95_3(%EC%9D%BC%EB%B0%98).jpg?type=w860',\n",
       "  'https://shop-phinf.pstatic.net/20220209_293/1644365609969TQbf3_PNG/02_About_brand.jpg.png?type=w860',\n",
       "  'https://shop-phinf.pstatic.net/20220115_234/16422112205299HJn1_PNG/03_%EB%B0%B0%EC%86%A1_%EB%B0%8F_%ED%99%98%EB%B6%88.png?type=w860'],\n",
       " ['https://shop-phinf.pstatic.net/20220214_121/1644800789760HiDc9_PNG/00_%EC%9D%B8%ED%8A%B8%EB%A1%9C%ED%8E%98%EC%9D%B4%EC%A7%80.png?type=w860',\n",
       "  'https://shop-phinf.pstatic.net/20220111_38/1641885588785CJKts_JPEG/%EA%B3%A0%EC%B6%94%EC%9E%A1%EC%B1%841-1.jpg?type=w860',\n",
       "  'https://shop-phinf.pstatic.net/20211204_261/1638608168911U3C9j_JPEG/%EA%B3%A0%EC%B6%94%EC%9E%A1%EC%B1%841-2.jpg?type=w860',\n",
       "  'https://shop-phinf.pstatic.net/20220130_72/1643536682984Vuecm_JPEG/%EA%B3%A0%EC%B6%94%EC%9E%A1%EC%B1%841-3.jpg?type=w860',\n",
       "  'https://shop-phinf.pstatic.net/20220209_167/1644365481436m9d3a_PNG/02_About_brand.jpg.png?type=w860',\n",
       "  'https://shop-phinf.pstatic.net/20220115_163/1642210922945Pqte6_PNG/03_%EB%B0%B0%EC%86%A1_%EB%B0%8F_%ED%99%98%EB%B6%88.png?type=w860'],\n",
       " ['https://shop-phinf.pstatic.net/20220214_64/1644800750204MKQgO_PNG/00_%EC%9D%B8%ED%8A%B8%EB%A1%9C%ED%8E%98%EC%9D%B4%EC%A7%80.png?type=w860',\n",
       "  'https://shop-phinf.pstatic.net/20220216_225/1644983401177UaHEA_JPEG/%EC%96%91%EC%9E%A5%ED%94%BC_01.jpg?type=w860',\n",
       "  'https://shop-phinf.pstatic.net/20220111_106/1641886173030lrPVS_JPEG/%EC%96%91%EC%9E%A5%ED%94%BC_02.jpg?type=w860',\n",
       "  'https://shop-phinf.pstatic.net/20220106_178/1641425884757jWRMY_JPEG/%EC%96%91%EC%9E%A5%ED%94%BC_03.jpg?type=w860',\n",
       "  'https://shop-phinf.pstatic.net/20220209_260/1644365548837i1qwS_PNG/02_About_brand.jpg.png?type=w860',\n",
       "  'https://shop-phinf.pstatic.net/20220115_221/1642204894454iFumL_PNG/03_%EB%B0%B0%EC%86%A1_%EB%B0%8F_%ED%99%98%EB%B6%88.png?type=w860'],\n",
       " ['https://shop-phinf.pstatic.net/20220214_283/1644805909945VyMM2_PNG/00_%EC%9D%B8%ED%8A%B8%EB%A1%9C%ED%8E%98%EC%9D%B4%EC%A7%80.png?type=w860',\n",
       "  'https://shop-phinf.pstatic.net/20220216_4/1644983107254gfGTw_JPEG/%EC%9C%A0%EC%82%B0%EC%8A%AC_01.jpg?type=w860',\n",
       "  'https://shop-phinf.pstatic.net/20220131_11/1643623158407VhJJL_JPEG/%EC%9C%A0%EC%82%B0%EC%8A%AC_02.jpg?type=w860',\n",
       "  'https://shop-phinf.pstatic.net/20220209_207/1644364188695p9GVF_PNG/02_About_brand.jpg.png?type=w860',\n",
       "  'https://shop-phinf.pstatic.net/20220115_165/1642211654904oVGt3_PNG/03_%EB%B0%B0%EC%86%A1_%EB%B0%8F_%ED%99%98%EB%B6%88.png?type=w860'],\n",
       " ['https://shop-phinf.pstatic.net/20220214_258/1644805868703dXwgA_PNG/00_%EC%9D%B8%ED%8A%B8%EB%A1%9C%ED%8E%98%EC%9D%B4%EC%A7%80.png?type=w860',\n",
       "  'https://shop-phinf.pstatic.net/20220119_151/1642545979752TC5Tn_PNG/%EC%A4%91%ED%99%94%EC%9A%94%EB%A6%AC%ED%99%88%ED%8C%8C%ED%8B%B0_4-1.jpg.png?type=w860',\n",
       "  'https://shop-phinf.pstatic.net/20220112_283/1641947560515vfzG7_JPEG/%EA%B3%A0%EC%B6%94%EC%9E%A1%EC%B1%841-1.jpg?type=w860',\n",
       "  'https://shop-phinf.pstatic.net/20220112_134/16419475602140JY1v_JPEG/%EA%B3%A0%EC%B6%94%EC%9E%A1%EC%B1%841-2.jpg?type=w860',\n",
       "  'https://shop-phinf.pstatic.net/20220204_22/1643975352393E5C32_JPEG/%EA%B3%A0%EC%B6%94%EC%9E%A1%EC%B1%841-3.jpg?type=w860',\n",
       "  'https://shop-phinf.pstatic.net/20220112_148/1641947560222Dh7oB_JPEG/%EC%96%91%EC%9E%A5%ED%94%BC_01.jpg?type=w860',\n",
       "  'https://shop-phinf.pstatic.net/20220112_165/1641947560231ltF3i_JPEG/%EC%96%91%EC%9E%A5%ED%94%BC_02.jpg?type=w860',\n",
       "  'https://shop-phinf.pstatic.net/20220112_90/1641947560532RykA0_JPEG/%EC%96%91%EC%9E%A5%ED%94%BC_03.jpg?type=w860',\n",
       "  'https://shop-phinf.pstatic.net/20220204_90/16439753193932r606_JPEG/%ED%95%B4%EB%AC%BC%EB%88%84%EB%A3%BD%EC%A7%80%ED%83%95_1(%EC%9D%BC%EB%B0%98).jpg?type=w860',\n",
       "  'https://shop-phinf.pstatic.net/20220204_2/1643975319391v1fGJ_JPEG/%ED%95%B4%EB%AC%BC%EB%88%84%EB%A3%BD%EC%A7%80%ED%83%95_2(%EC%9D%BC%EB%B0%98).jpg?type=w860',\n",
       "  'https://shop-phinf.pstatic.net/20220209_142/1644364779287Qps9r_PNG/02_About_brand.jpg.png?type=w860',\n",
       "  'https://shop-phinf.pstatic.net/20220115_282/1642211620078eDaje_PNG/03_%EB%B0%B0%EC%86%A1_%EB%B0%8F_%ED%99%98%EB%B6%88.png?type=w860'],\n",
       " ['https://shop-phinf.pstatic.net/20220214_123/1644806082305UE7Te_PNG/00_%EC%9D%B8%ED%8A%B8%EB%A1%9C%ED%8E%98%EC%9D%B4%EC%A7%80.png?type=w860',\n",
       "  'https://shop-phinf.pstatic.net/20220217_181/1645057067437JeP92_PNG/%EC%A4%91%ED%99%94%EC%9A%94%EB%A6%AC_3%EC%A2%85_intro_%EC%9C%A0%EC%82%B0%EC%8A%AC.png?type=w860',\n",
       "  'https://shop-phinf.pstatic.net/20220217_212/1645057085838Qo5vF_JPEG/%EA%B3%A0%EC%B6%94%EC%9E%A1%EC%B1%841-1.jpg?type=w860',\n",
       "  'https://shop-phinf.pstatic.net/20220102_48/16411051291080IDP4_JPEG/%EA%B3%A0%EC%B6%94%EC%9E%A1%EC%B1%841-2.jpg?type=w860',\n",
       "  'https://shop-phinf.pstatic.net/20220105_129/1641366261708T7MT0_JPEG/%EA%B3%A0%EC%B6%94%EC%9E%A1%EC%B1%841-3.jpg?type=w860',\n",
       "  'https://shop-phinf.pstatic.net/20220217_250/1645057108080PJsvn_JPEG/%EC%9C%A0%EC%82%B0%EC%8A%AC_01.jpg?type=w860',\n",
       "  'https://shop-phinf.pstatic.net/20220205_243/1644055086033Wh9ET_JPEG/%EC%9C%A0%EC%82%B0%EC%8A%AC_02.jpg?type=w860',\n",
       "  'https://shop-phinf.pstatic.net/20220217_129/16450571283587cWO0_JPEG/%ED%95%B4%EB%AC%BC%EB%88%84%EB%A3%BD%EC%A7%80%ED%83%95_1(%EC%9D%BC%EB%B0%98).jpg?type=w860',\n",
       "  'https://shop-phinf.pstatic.net/20220130_28/1643539301582KhD30_JPEG/%ED%95%B4%EB%AC%BC%EB%88%84%EB%A3%BD%EC%A7%80%ED%83%95_2(%EC%9D%BC%EB%B0%98).jpg?type=w860',\n",
       "  'https://shop-phinf.pstatic.net/20220130_196/16435393014621OHtc_JPEG/%ED%95%B4%EB%AC%BC%EB%88%84%EB%A3%BD%EC%A7%80%ED%83%95_3(%EC%9D%BC%EB%B0%98).jpg?type=w860',\n",
       "  'https://shop-phinf.pstatic.net/20220209_209/1644363859233h8YJa_PNG/02_About_brand.jpg.png?type=w860',\n",
       "  'https://shop-phinf.pstatic.net/20220115_248/1642211885146w4mxb_PNG/03_%EB%B0%B0%EC%86%A1_%EB%B0%8F_%ED%99%98%EB%B6%88.png?type=w860'],\n",
       " ['https://shop-phinf.pstatic.net/20220214_277/1644806747387bSsBC_PNG/00_%EC%9D%B8%ED%8A%B8%EB%A1%9C%ED%8E%98%EC%9D%B4%EC%A7%80.png?type=w860',\n",
       "  'https://shop-phinf.pstatic.net/20220109_110/1641719334331n3IWj_JPEG/%EB%94%A4%EC%84%AC%EC%A0%84%EA%B3%A8_01.jpg?type=w860',\n",
       "  'https://shop-phinf.pstatic.net/20220107_156/1641512094373LAblq_JPEG/%EB%94%A4%EC%84%AC%EC%A0%84%EA%B3%A8_02.jpg?type=w860',\n",
       "  'https://shop-phinf.pstatic.net/20220209_18/1644363317642T8wUn_PNG/02_About_brand.jpg.png?type=w860',\n",
       "  'https://shop-phinf.pstatic.net/20220115_235/1642212887661KYrKV_PNG/03_%EB%B0%B0%EC%86%A1_%EB%B0%8F_%ED%99%98%EB%B6%88.png?type=w860'],\n",
       " ['https://shop-phinf.pstatic.net/20220214_154/1644806957467ifTbz_PNG/00_%EC%9D%B8%ED%8A%B8%EB%A1%9C%ED%8E%98%EC%9D%B4%EC%A7%80.png?type=w860',\n",
       "  'https://shop-phinf.pstatic.net/20220114_104/1642127529344LkE0m_JPEG/%EA%B3%A0%EC%B6%94%EC%9E%A1%EC%B1%841-1.jpg?type=w860',\n",
       "  'https://shop-phinf.pstatic.net/20211230_187/1640821699500vMqdI_JPEG/%EA%B3%A0%EC%B6%94%EC%9E%A1%EC%B1%841-2.jpg?type=w860',\n",
       "  'https://shop-phinf.pstatic.net/20220130_216/1643543169144iwkNg_JPEG/%EA%B3%A0%EC%B6%94%EC%9E%A1%EC%B1%841-3.jpg?type=w860',\n",
       "  'https://shop-phinf.pstatic.net/20211214_250/1639455339765NFkiT_JPEG/%EA%B3%A0%EC%B6%94%EC%9E%A1%EC%B1%841-4(%EC%84%A0%EB%AC%BC%ED%8F%AC%EC%9E%A5).jpg?type=w860',\n",
       "  'https://shop-phinf.pstatic.net/20220209_33/1644363101009RmxuO_PNG/02_About_brand.jpg.png?type=w860',\n",
       "  'https://shop-phinf.pstatic.net/20220115_201/1642213293325J00Nt_PNG/03_%EB%B0%B0%EC%86%A1_%EB%B0%8F_%ED%99%98%EB%B6%88.png?type=w860'],\n",
       " ['https://shop-phinf.pstatic.net/20220214_165/16448068078200FS88_PNG/00_%EC%9D%B8%ED%8A%B8%EB%A1%9C%ED%8E%98%EC%9D%B4%EC%A7%80.png?type=w860',\n",
       "  'https://shop-phinf.pstatic.net/20220111_276/1641860914508G7Ic1_JPEG/%EC%B9%A0%EB%A6%AC%EC%83%88%EC%9A%B0_01.jpg?type=w860',\n",
       "  'https://shop-phinf.pstatic.net/20211130_179/16382334238091fCgn_JPEG/%EC%B9%A0%EB%A6%AC%EC%83%88%EC%9A%B0_02.jpg?type=w860',\n",
       "  'https://shop-phinf.pstatic.net/20220209_286/16443632672272yxN2_PNG/02_About_brand.jpg.png?type=w860',\n",
       "  'https://shop-phinf.pstatic.net/20220115_22/1642212937220mnneU_PNG/03_%EB%B0%B0%EC%86%A1_%EB%B0%8F_%ED%99%98%EB%B6%88.png?type=w860']]"
      ]
     },
     "execution_count": 297,
     "metadata": {},
     "output_type": "execute_result"
    }
   ],
   "source": [
    "dk"
   ]
  },
  {
   "cell_type": "code",
   "execution_count": 303,
   "id": "c29caf4a-6f62-4dda-937e-6a0d1d3776b9",
   "metadata": {},
   "outputs": [],
   "source": [
    "df.to_csv('중식추가.csv', index=False)"
   ]
  },
  {
   "cell_type": "code",
   "execution_count": 298,
   "id": "a774e2d5-e9e4-4f37-90c6-a00b4bf439a6",
   "metadata": {},
   "outputs": [
    {
     "data": {
      "text/html": [
       "<div>\n",
       "<style scoped>\n",
       "    .dataframe tbody tr th:only-of-type {\n",
       "        vertical-align: middle;\n",
       "    }\n",
       "\n",
       "    .dataframe tbody tr th {\n",
       "        vertical-align: top;\n",
       "    }\n",
       "\n",
       "    .dataframe thead th {\n",
       "        text-align: right;\n",
       "    }\n",
       "</style>\n",
       "<table border=\"1\" class=\"dataframe\">\n",
       "  <thead>\n",
       "    <tr style=\"text-align: right;\">\n",
       "      <th></th>\n",
       "      <th>상품 코드</th>\n",
       "      <th>상품 이름</th>\n",
       "      <th>상품 가격</th>\n",
       "      <th>상품사진링크</th>\n",
       "    </tr>\n",
       "  </thead>\n",
       "  <tbody>\n",
       "    <tr>\n",
       "      <th>0</th>\n",
       "      <td>0</td>\n",
       "      <td>해물 누룽지탕 (참피디방영,캠핑밀키트,홈파티,술안주)</td>\n",
       "      <td>12,900</td>\n",
       "      <td>https://shop-phinf.pstatic.net/20210504_143/16...</td>\n",
       "    </tr>\n",
       "    <tr>\n",
       "      <th>1</th>\n",
       "      <td>1</td>\n",
       "      <td>소고기 고추잡채 밀키트</td>\n",
       "      <td>14,900</td>\n",
       "      <td>https://shop-phinf.pstatic.net/20210505_177/16...</td>\n",
       "    </tr>\n",
       "    <tr>\n",
       "      <th>2</th>\n",
       "      <td>2</td>\n",
       "      <td>양장피 밀키트 (술안주,캠핑밀키트)</td>\n",
       "      <td>13,900</td>\n",
       "      <td>https://shop-phinf.pstatic.net/20220217_5/1645...</td>\n",
       "    </tr>\n",
       "    <tr>\n",
       "      <th>3</th>\n",
       "      <td>3</td>\n",
       "      <td>씹는 식감이 예술~ 유산슬 밀키트 (고급중화요리)</td>\n",
       "      <td>13,900</td>\n",
       "      <td>https://shop-phinf.pstatic.net/20210624_185/16...</td>\n",
       "    </tr>\n",
       "    <tr>\n",
       "      <th>4</th>\n",
       "      <td>4</td>\n",
       "      <td>고품질 중화요리 홈파티밀키트 (3종)_양장피,고추잡채,해물누룽지탕</td>\n",
       "      <td>39,900</td>\n",
       "      <td>https://shop-phinf.pstatic.net/20210617_278/16...</td>\n",
       "    </tr>\n",
       "    <tr>\n",
       "      <th>5</th>\n",
       "      <td>5</td>\n",
       "      <td>고품질 중화요리 밀키트 3종_해물누룽지탕,고추잡채,유산슬</td>\n",
       "      <td>39,900</td>\n",
       "      <td>https://shop-phinf.pstatic.net/20210505_128/16...</td>\n",
       "    </tr>\n",
       "    <tr>\n",
       "      <th>6</th>\n",
       "      <td>6</td>\n",
       "      <td>딤섬전골 밀키트 (홈파티,생일상)</td>\n",
       "      <td>15,900</td>\n",
       "      <td>https://shop-phinf.pstatic.net/20211126_254/16...</td>\n",
       "    </tr>\n",
       "    <tr>\n",
       "      <th>7</th>\n",
       "      <td>7</td>\n",
       "      <td>소고기 고추잡채 밀키트(선물세트)</td>\n",
       "      <td>18,500</td>\n",
       "      <td>https://shop-phinf.pstatic.net/20211214_56/163...</td>\n",
       "    </tr>\n",
       "    <tr>\n",
       "      <th>8</th>\n",
       "      <td>8</td>\n",
       "      <td>칠리새우 밀키트 (홈파티,생일상,간식)</td>\n",
       "      <td>10,900</td>\n",
       "      <td>https://shop-phinf.pstatic.net/20220104_138/16...</td>\n",
       "    </tr>\n",
       "  </tbody>\n",
       "</table>\n",
       "</div>"
      ],
      "text/plain": [
       "   상품 코드                                 상품 이름   상품 가격  \\\n",
       "0      0         해물 누룽지탕 (참피디방영,캠핑밀키트,홈파티,술안주)  12,900   \n",
       "1      1                          소고기 고추잡채 밀키트  14,900   \n",
       "2      2                   양장피 밀키트 (술안주,캠핑밀키트)  13,900   \n",
       "3      3           씹는 식감이 예술~ 유산슬 밀키트 (고급중화요리)  13,900   \n",
       "4      4  고품질 중화요리 홈파티밀키트 (3종)_양장피,고추잡채,해물누룽지탕  39,900   \n",
       "5      5       고품질 중화요리 밀키트 3종_해물누룽지탕,고추잡채,유산슬  39,900   \n",
       "6      6                    딤섬전골 밀키트 (홈파티,생일상)  15,900   \n",
       "7      7                    소고기 고추잡채 밀키트(선물세트)  18,500   \n",
       "8      8                 칠리새우 밀키트 (홈파티,생일상,간식)  10,900   \n",
       "\n",
       "                                              상품사진링크  \n",
       "0  https://shop-phinf.pstatic.net/20210504_143/16...  \n",
       "1  https://shop-phinf.pstatic.net/20210505_177/16...  \n",
       "2  https://shop-phinf.pstatic.net/20220217_5/1645...  \n",
       "3  https://shop-phinf.pstatic.net/20210624_185/16...  \n",
       "4  https://shop-phinf.pstatic.net/20210617_278/16...  \n",
       "5  https://shop-phinf.pstatic.net/20210505_128/16...  \n",
       "6  https://shop-phinf.pstatic.net/20211126_254/16...  \n",
       "7  https://shop-phinf.pstatic.net/20211214_56/163...  \n",
       "8  https://shop-phinf.pstatic.net/20220104_138/16...  "
      ]
     },
     "execution_count": 298,
     "metadata": {},
     "output_type": "execute_result"
    }
   ],
   "source": [
    "df"
   ]
  },
  {
   "cell_type": "code",
   "execution_count": 304,
   "id": "b7261590-dc9d-4d29-9864-0e53098b4bea",
   "metadata": {},
   "outputs": [],
   "source": [
    "aa =[]\n",
    "for i in range(len(df['상품 이름'])):\n",
    "    str_aa = 'chi/{}.jpg'.format(df['상품 이름'][i])\n",
    "    aa.append(str_aa)\n",
    "df['상품사진'] = aa    "
   ]
  },
  {
   "cell_type": "code",
   "execution_count": 306,
   "id": "7616048c-7722-49ef-b514-f44f2aa2dc8d",
   "metadata": {},
   "outputs": [
    {
     "data": {
      "text/html": [
       "<div>\n",
       "<style scoped>\n",
       "    .dataframe tbody tr th:only-of-type {\n",
       "        vertical-align: middle;\n",
       "    }\n",
       "\n",
       "    .dataframe tbody tr th {\n",
       "        vertical-align: top;\n",
       "    }\n",
       "\n",
       "    .dataframe thead th {\n",
       "        text-align: right;\n",
       "    }\n",
       "</style>\n",
       "<table border=\"1\" class=\"dataframe\">\n",
       "  <thead>\n",
       "    <tr style=\"text-align: right;\">\n",
       "      <th></th>\n",
       "      <th>상품 코드</th>\n",
       "      <th>상품 이름</th>\n",
       "      <th>상품 가격</th>\n",
       "      <th>상품사진링크</th>\n",
       "      <th>상품사진</th>\n",
       "    </tr>\n",
       "  </thead>\n",
       "  <tbody>\n",
       "    <tr>\n",
       "      <th>0</th>\n",
       "      <td>0</td>\n",
       "      <td>해물 누룽지탕 (참피디방영,캠핑밀키트,홈파티,술안주)</td>\n",
       "      <td>12,900</td>\n",
       "      <td>https://shop-phinf.pstatic.net/20210504_143/16...</td>\n",
       "      <td>chi/해물 누룽지탕 (참피디방영,캠핑밀키트,홈파티,술안주).jpg</td>\n",
       "    </tr>\n",
       "    <tr>\n",
       "      <th>1</th>\n",
       "      <td>1</td>\n",
       "      <td>소고기 고추잡채 밀키트</td>\n",
       "      <td>14,900</td>\n",
       "      <td>https://shop-phinf.pstatic.net/20210505_177/16...</td>\n",
       "      <td>chi/소고기 고추잡채 밀키트.jpg</td>\n",
       "    </tr>\n",
       "    <tr>\n",
       "      <th>2</th>\n",
       "      <td>2</td>\n",
       "      <td>양장피 밀키트 (술안주,캠핑밀키트)</td>\n",
       "      <td>13,900</td>\n",
       "      <td>https://shop-phinf.pstatic.net/20220217_5/1645...</td>\n",
       "      <td>chi/양장피 밀키트 (술안주,캠핑밀키트).jpg</td>\n",
       "    </tr>\n",
       "    <tr>\n",
       "      <th>3</th>\n",
       "      <td>3</td>\n",
       "      <td>씹는 식감이 예술~ 유산슬 밀키트 (고급중화요리)</td>\n",
       "      <td>13,900</td>\n",
       "      <td>https://shop-phinf.pstatic.net/20210624_185/16...</td>\n",
       "      <td>chi/씹는 식감이 예술~ 유산슬 밀키트 (고급중화요리).jpg</td>\n",
       "    </tr>\n",
       "    <tr>\n",
       "      <th>4</th>\n",
       "      <td>4</td>\n",
       "      <td>고품질 중화요리 홈파티밀키트 (3종)_양장피,고추잡채,해물누룽지탕</td>\n",
       "      <td>39,900</td>\n",
       "      <td>https://shop-phinf.pstatic.net/20210617_278/16...</td>\n",
       "      <td>chi/고품질 중화요리 홈파티밀키트 (3종)_양장피,고추잡채,해물누룽지탕.jpg</td>\n",
       "    </tr>\n",
       "    <tr>\n",
       "      <th>5</th>\n",
       "      <td>5</td>\n",
       "      <td>고품질 중화요리 밀키트 3종_해물누룽지탕,고추잡채,유산슬</td>\n",
       "      <td>39,900</td>\n",
       "      <td>https://shop-phinf.pstatic.net/20210505_128/16...</td>\n",
       "      <td>chi/고품질 중화요리 밀키트 3종_해물누룽지탕,고추잡채,유산슬.jpg</td>\n",
       "    </tr>\n",
       "    <tr>\n",
       "      <th>6</th>\n",
       "      <td>6</td>\n",
       "      <td>딤섬전골 밀키트 (홈파티,생일상)</td>\n",
       "      <td>15,900</td>\n",
       "      <td>https://shop-phinf.pstatic.net/20211126_254/16...</td>\n",
       "      <td>chi/딤섬전골 밀키트 (홈파티,생일상).jpg</td>\n",
       "    </tr>\n",
       "    <tr>\n",
       "      <th>7</th>\n",
       "      <td>7</td>\n",
       "      <td>소고기 고추잡채 밀키트(선물세트)</td>\n",
       "      <td>18,500</td>\n",
       "      <td>https://shop-phinf.pstatic.net/20211214_56/163...</td>\n",
       "      <td>chi/소고기 고추잡채 밀키트(선물세트).jpg</td>\n",
       "    </tr>\n",
       "    <tr>\n",
       "      <th>8</th>\n",
       "      <td>8</td>\n",
       "      <td>칠리새우 밀키트 (홈파티,생일상,간식)</td>\n",
       "      <td>10,900</td>\n",
       "      <td>https://shop-phinf.pstatic.net/20220104_138/16...</td>\n",
       "      <td>chi/칠리새우 밀키트 (홈파티,생일상,간식).jpg</td>\n",
       "    </tr>\n",
       "  </tbody>\n",
       "</table>\n",
       "</div>"
      ],
      "text/plain": [
       "   상품 코드                                 상품 이름   상품 가격  \\\n",
       "0      0         해물 누룽지탕 (참피디방영,캠핑밀키트,홈파티,술안주)  12,900   \n",
       "1      1                          소고기 고추잡채 밀키트  14,900   \n",
       "2      2                   양장피 밀키트 (술안주,캠핑밀키트)  13,900   \n",
       "3      3           씹는 식감이 예술~ 유산슬 밀키트 (고급중화요리)  13,900   \n",
       "4      4  고품질 중화요리 홈파티밀키트 (3종)_양장피,고추잡채,해물누룽지탕  39,900   \n",
       "5      5       고품질 중화요리 밀키트 3종_해물누룽지탕,고추잡채,유산슬  39,900   \n",
       "6      6                    딤섬전골 밀키트 (홈파티,생일상)  15,900   \n",
       "7      7                    소고기 고추잡채 밀키트(선물세트)  18,500   \n",
       "8      8                 칠리새우 밀키트 (홈파티,생일상,간식)  10,900   \n",
       "\n",
       "                                              상품사진링크  \\\n",
       "0  https://shop-phinf.pstatic.net/20210504_143/16...   \n",
       "1  https://shop-phinf.pstatic.net/20210505_177/16...   \n",
       "2  https://shop-phinf.pstatic.net/20220217_5/1645...   \n",
       "3  https://shop-phinf.pstatic.net/20210624_185/16...   \n",
       "4  https://shop-phinf.pstatic.net/20210617_278/16...   \n",
       "5  https://shop-phinf.pstatic.net/20210505_128/16...   \n",
       "6  https://shop-phinf.pstatic.net/20211126_254/16...   \n",
       "7  https://shop-phinf.pstatic.net/20211214_56/163...   \n",
       "8  https://shop-phinf.pstatic.net/20220104_138/16...   \n",
       "\n",
       "                                           상품사진  \n",
       "0         chi/해물 누룽지탕 (참피디방영,캠핑밀키트,홈파티,술안주).jpg  \n",
       "1                          chi/소고기 고추잡채 밀키트.jpg  \n",
       "2                   chi/양장피 밀키트 (술안주,캠핑밀키트).jpg  \n",
       "3           chi/씹는 식감이 예술~ 유산슬 밀키트 (고급중화요리).jpg  \n",
       "4  chi/고품질 중화요리 홈파티밀키트 (3종)_양장피,고추잡채,해물누룽지탕.jpg  \n",
       "5       chi/고품질 중화요리 밀키트 3종_해물누룽지탕,고추잡채,유산슬.jpg  \n",
       "6                    chi/딤섬전골 밀키트 (홈파티,생일상).jpg  \n",
       "7                    chi/소고기 고추잡채 밀키트(선물세트).jpg  \n",
       "8                 chi/칠리새우 밀키트 (홈파티,생일상,간식).jpg  "
      ]
     },
     "execution_count": 306,
     "metadata": {},
     "output_type": "execute_result"
    }
   ],
   "source": [
    "df"
   ]
  },
  {
   "cell_type": "code",
   "execution_count": 307,
   "id": "68ae4c5f-79bc-45a5-9eb8-ac7e2cbaef29",
   "metadata": {},
   "outputs": [],
   "source": [
    "# df = df.drop(['상품코드'], axis=1)\n",
    "df = df[['상품 코드','상품 이름','상품 가격','상품사진']]"
   ]
  },
  {
   "cell_type": "code",
   "execution_count": 308,
   "id": "b8a611f3-6e53-45e1-84aa-e825f202ea94",
   "metadata": {},
   "outputs": [
    {
     "data": {
      "text/html": [
       "<div>\n",
       "<style scoped>\n",
       "    .dataframe tbody tr th:only-of-type {\n",
       "        vertical-align: middle;\n",
       "    }\n",
       "\n",
       "    .dataframe tbody tr th {\n",
       "        vertical-align: top;\n",
       "    }\n",
       "\n",
       "    .dataframe thead th {\n",
       "        text-align: right;\n",
       "    }\n",
       "</style>\n",
       "<table border=\"1\" class=\"dataframe\">\n",
       "  <thead>\n",
       "    <tr style=\"text-align: right;\">\n",
       "      <th></th>\n",
       "      <th>상품 코드</th>\n",
       "      <th>상품 이름</th>\n",
       "      <th>상품 가격</th>\n",
       "      <th>상품사진</th>\n",
       "    </tr>\n",
       "  </thead>\n",
       "  <tbody>\n",
       "    <tr>\n",
       "      <th>0</th>\n",
       "      <td>0</td>\n",
       "      <td>해물 누룽지탕 (참피디방영,캠핑밀키트,홈파티,술안주)</td>\n",
       "      <td>12,900</td>\n",
       "      <td>chi/해물 누룽지탕 (참피디방영,캠핑밀키트,홈파티,술안주).jpg</td>\n",
       "    </tr>\n",
       "    <tr>\n",
       "      <th>1</th>\n",
       "      <td>1</td>\n",
       "      <td>소고기 고추잡채 밀키트</td>\n",
       "      <td>14,900</td>\n",
       "      <td>chi/소고기 고추잡채 밀키트.jpg</td>\n",
       "    </tr>\n",
       "    <tr>\n",
       "      <th>2</th>\n",
       "      <td>2</td>\n",
       "      <td>양장피 밀키트 (술안주,캠핑밀키트)</td>\n",
       "      <td>13,900</td>\n",
       "      <td>chi/양장피 밀키트 (술안주,캠핑밀키트).jpg</td>\n",
       "    </tr>\n",
       "    <tr>\n",
       "      <th>3</th>\n",
       "      <td>3</td>\n",
       "      <td>씹는 식감이 예술~ 유산슬 밀키트 (고급중화요리)</td>\n",
       "      <td>13,900</td>\n",
       "      <td>chi/씹는 식감이 예술~ 유산슬 밀키트 (고급중화요리).jpg</td>\n",
       "    </tr>\n",
       "    <tr>\n",
       "      <th>4</th>\n",
       "      <td>4</td>\n",
       "      <td>고품질 중화요리 홈파티밀키트 (3종)_양장피,고추잡채,해물누룽지탕</td>\n",
       "      <td>39,900</td>\n",
       "      <td>chi/고품질 중화요리 홈파티밀키트 (3종)_양장피,고추잡채,해물누룽지탕.jpg</td>\n",
       "    </tr>\n",
       "    <tr>\n",
       "      <th>5</th>\n",
       "      <td>5</td>\n",
       "      <td>고품질 중화요리 밀키트 3종_해물누룽지탕,고추잡채,유산슬</td>\n",
       "      <td>39,900</td>\n",
       "      <td>chi/고품질 중화요리 밀키트 3종_해물누룽지탕,고추잡채,유산슬.jpg</td>\n",
       "    </tr>\n",
       "    <tr>\n",
       "      <th>6</th>\n",
       "      <td>6</td>\n",
       "      <td>딤섬전골 밀키트 (홈파티,생일상)</td>\n",
       "      <td>15,900</td>\n",
       "      <td>chi/딤섬전골 밀키트 (홈파티,생일상).jpg</td>\n",
       "    </tr>\n",
       "    <tr>\n",
       "      <th>7</th>\n",
       "      <td>7</td>\n",
       "      <td>소고기 고추잡채 밀키트(선물세트)</td>\n",
       "      <td>18,500</td>\n",
       "      <td>chi/소고기 고추잡채 밀키트(선물세트).jpg</td>\n",
       "    </tr>\n",
       "    <tr>\n",
       "      <th>8</th>\n",
       "      <td>8</td>\n",
       "      <td>칠리새우 밀키트 (홈파티,생일상,간식)</td>\n",
       "      <td>10,900</td>\n",
       "      <td>chi/칠리새우 밀키트 (홈파티,생일상,간식).jpg</td>\n",
       "    </tr>\n",
       "  </tbody>\n",
       "</table>\n",
       "</div>"
      ],
      "text/plain": [
       "   상품 코드                                 상품 이름   상품 가격  \\\n",
       "0      0         해물 누룽지탕 (참피디방영,캠핑밀키트,홈파티,술안주)  12,900   \n",
       "1      1                          소고기 고추잡채 밀키트  14,900   \n",
       "2      2                   양장피 밀키트 (술안주,캠핑밀키트)  13,900   \n",
       "3      3           씹는 식감이 예술~ 유산슬 밀키트 (고급중화요리)  13,900   \n",
       "4      4  고품질 중화요리 홈파티밀키트 (3종)_양장피,고추잡채,해물누룽지탕  39,900   \n",
       "5      5       고품질 중화요리 밀키트 3종_해물누룽지탕,고추잡채,유산슬  39,900   \n",
       "6      6                    딤섬전골 밀키트 (홈파티,생일상)  15,900   \n",
       "7      7                    소고기 고추잡채 밀키트(선물세트)  18,500   \n",
       "8      8                 칠리새우 밀키트 (홈파티,생일상,간식)  10,900   \n",
       "\n",
       "                                           상품사진  \n",
       "0         chi/해물 누룽지탕 (참피디방영,캠핑밀키트,홈파티,술안주).jpg  \n",
       "1                          chi/소고기 고추잡채 밀키트.jpg  \n",
       "2                   chi/양장피 밀키트 (술안주,캠핑밀키트).jpg  \n",
       "3           chi/씹는 식감이 예술~ 유산슬 밀키트 (고급중화요리).jpg  \n",
       "4  chi/고품질 중화요리 홈파티밀키트 (3종)_양장피,고추잡채,해물누룽지탕.jpg  \n",
       "5       chi/고품질 중화요리 밀키트 3종_해물누룽지탕,고추잡채,유산슬.jpg  \n",
       "6                    chi/딤섬전골 밀키트 (홈파티,생일상).jpg  \n",
       "7                    chi/소고기 고추잡채 밀키트(선물세트).jpg  \n",
       "8                 chi/칠리새우 밀키트 (홈파티,생일상,간식).jpg  "
      ]
     },
     "execution_count": 308,
     "metadata": {},
     "output_type": "execute_result"
    }
   ],
   "source": [
    "df.columns = ['상품 코드', '상품 이름', '상품 가격', '상품사진']\n",
    "df"
   ]
  },
  {
   "cell_type": "code",
   "execution_count": 309,
   "id": "5b5c98c2-c76d-4914-9e16-ede375d4c76f",
   "metadata": {},
   "outputs": [],
   "source": [
    "df.to_csv('중식추가.csv', index=False)"
   ]
  },
  {
   "cell_type": "markdown",
   "id": "8e42b3f1-1e6b-4287-9870-f350f531cf16",
   "metadata": {},
   "source": [
    "## 사진 저장"
   ]
  },
  {
   "cell_type": "code",
   "execution_count": 301,
   "id": "6c3f17aa-b7a3-4b61-839d-e7f5064db16c",
   "metadata": {},
   "outputs": [
    {
     "name": "stdout",
     "output_type": "stream",
     "text": [
      "팜앤쿡/중식/해물 누룽지탕 (참피디방영,캠핑밀키트,홈파티,술안주).jpg\n",
      "https://shop-phinf.pstatic.net/20210504_143/16201256287314wPOx_JPEG/21261462528924181_893557394.jpg?type=f295_381\n",
      "팜앤쿡/중식/소고기 고추잡채 밀키트.jpg\n",
      "https://shop-phinf.pstatic.net/20210505_177/1620215290609zsD6w_JPEG/21351189292594209_1900253414.jpg?type=f295_381\n",
      "팜앤쿡/중식/양장피 밀키트 (술안주,캠핑밀키트).jpg\n",
      "https://shop-phinf.pstatic.net/20220217_5/1645055002893K6YN7_JPEG/46190830701014871_1906928042.jpg?type=f295_381\n",
      "팜앤쿡/중식/씹는 식감이 예술~ 유산슬 밀키트 (고급중화요리).jpg\n",
      "https://shop-phinf.pstatic.net/20210624_185/1624539961429JLxRM_JPEG/25675857163177667_944383142.jpg?type=f295_381\n",
      "팜앤쿡/중식/고품질 중화요리 홈파티밀키트 (3종)_양장피,고추잡채,해물누룽지탕.jpg\n",
      "https://shop-phinf.pstatic.net/20210617_278/1623929899112RCU5J_JPEG/25065726759094369_354185462.jpg?type=f295_381\n",
      "팜앤쿡/중식/고품질 중화요리 밀키트 3종_해물누룽지탕,고추잡채,유산슬.jpg\n",
      "https://shop-phinf.pstatic.net/20210505_128/1620163356974hO8Su_JPEG/21299245683860868_1236637805.jpg?type=f295_381\n",
      "팜앤쿡/중식/딤섬전골 밀키트 (홈파티,생일상).jpg\n",
      "https://shop-phinf.pstatic.net/20211126_254/1637925120128Q4EfI_JPEG/39060947725102586_35373800.jpg?type=f295_381\n",
      "팜앤쿡/중식/소고기 고추잡채 밀키트(선물세트).jpg\n",
      "https://shop-phinf.pstatic.net/20211214_56/1639456208280UiVF5_PNG/40592050801766707_1029496140.png?type=f295_381\n",
      "팜앤쿡/중식/칠리새우 밀키트 (홈파티,생일상,간식).jpg\n",
      "https://shop-phinf.pstatic.net/20220104_138/1641250895367IS6WG_PNG/42386729982919450_484203452.png?type=f295_381\n"
     ]
    }
   ],
   "source": [
    "import urllib.request\n",
    "import time\n",
    "\n",
    "# 다운받을 이미지 url\n",
    "for i, d in enumerate(df['상품사진링크']):\n",
    "    url = i\n",
    "\n",
    "    # time check\n",
    "    start = time.time()\n",
    "\n",
    "    # 이미지 요청 및 다운로드\n",
    "    str_aa = '팜앤쿡/중식/{}.jpg'.format(df['상품 이름'][i])\n",
    "    print(str_aa)\n",
    "    print(d)\n",
    "    urllib.request.urlretrieve(df['상품사진링크'][i], str_aa)"
   ]
  },
  {
   "cell_type": "code",
   "execution_count": null,
   "id": "08acf65c-e656-43c2-86bc-a694a45f07d3",
   "metadata": {},
   "outputs": [],
   "source": []
  },
  {
   "cell_type": "code",
   "execution_count": null,
   "id": "134c8a66-33e7-4471-b85f-0b15a6ada771",
   "metadata": {},
   "outputs": [],
   "source": []
  },
  {
   "cell_type": "code",
   "execution_count": 312,
   "id": "dbbfd5ba-79c5-43af-8de6-cfbf26ef668d",
   "metadata": {},
   "outputs": [],
   "source": [
    "import os\n",
    "\n",
    "for i in range(len(df['상품 이름'])):\n",
    "    os.makedirs(\"팜앤쿡/중식상세/\"+df['상품 이름'][i])\n",
    "    # print(df['상품이름'][i])"
   ]
  },
  {
   "cell_type": "code",
   "execution_count": null,
   "id": "1f1a4c98-5fe2-41f4-900f-7bb50b657535",
   "metadata": {},
   "outputs": [],
   "source": []
  },
  {
   "cell_type": "code",
   "execution_count": 313,
   "id": "1979d565-630b-4471-b6f2-cac94ed7336a",
   "metadata": {
    "tags": []
   },
   "outputs": [
    {
     "name": "stdout",
     "output_type": "stream",
     "text": [
      "팜앤쿡/중식상세/해물 누룽지탕 (참피디방영,캠핑밀키트,홈파티,술안주)/detail_해물 누룽지탕 (참피디방영,캠핑밀키트,홈파티,술안주)-0.jpg\n",
      "['https://shop-phinf.pstatic.net/20220214_169/1644805534814R7IYp_PNG/00_%EC%9D%B8%ED%8A%B8%EB%A1%9C%ED%8E%98%EC%9D%B4%EC%A7%80.png?type=w860', 'https://shop-phinf.pstatic.net/20220216_137/1644979996046JAsUV_JPEG/%ED%95%B4%EB%AC%BC%EB%88%84%EB%A3%BD%EC%A7%80%ED%83%95_1(%EC%9D%BC%EB%B0%98).jpg?type=w860', 'https://shop-phinf.pstatic.net/20220129_266/1643428310915PITjC_JPEG/%ED%95%B4%EB%AC%BC%EB%88%84%EB%A3%BD%EC%A7%80%ED%83%95_2(%EC%9D%BC%EB%B0%98).jpg?type=w860', 'https://shop-phinf.pstatic.net/20220129_286/1643428310776YE2KK_JPEG/%ED%95%B4%EB%AC%BC%EB%88%84%EB%A3%BD%EC%A7%80%ED%83%95_3(%EC%9D%BC%EB%B0%98).jpg?type=w860', 'https://shop-phinf.pstatic.net/20220209_293/1644365609969TQbf3_PNG/02_About_brand.jpg.png?type=w860', 'https://shop-phinf.pstatic.net/20220115_234/16422112205299HJn1_PNG/03_%EB%B0%B0%EC%86%A1_%EB%B0%8F_%ED%99%98%EB%B6%88.png?type=w860']\n",
      "팜앤쿡/중식상세/해물 누룽지탕 (참피디방영,캠핑밀키트,홈파티,술안주)/detail_해물 누룽지탕 (참피디방영,캠핑밀키트,홈파티,술안주)-1.jpg\n",
      "['https://shop-phinf.pstatic.net/20220214_169/1644805534814R7IYp_PNG/00_%EC%9D%B8%ED%8A%B8%EB%A1%9C%ED%8E%98%EC%9D%B4%EC%A7%80.png?type=w860', 'https://shop-phinf.pstatic.net/20220216_137/1644979996046JAsUV_JPEG/%ED%95%B4%EB%AC%BC%EB%88%84%EB%A3%BD%EC%A7%80%ED%83%95_1(%EC%9D%BC%EB%B0%98).jpg?type=w860', 'https://shop-phinf.pstatic.net/20220129_266/1643428310915PITjC_JPEG/%ED%95%B4%EB%AC%BC%EB%88%84%EB%A3%BD%EC%A7%80%ED%83%95_2(%EC%9D%BC%EB%B0%98).jpg?type=w860', 'https://shop-phinf.pstatic.net/20220129_286/1643428310776YE2KK_JPEG/%ED%95%B4%EB%AC%BC%EB%88%84%EB%A3%BD%EC%A7%80%ED%83%95_3(%EC%9D%BC%EB%B0%98).jpg?type=w860', 'https://shop-phinf.pstatic.net/20220209_293/1644365609969TQbf3_PNG/02_About_brand.jpg.png?type=w860', 'https://shop-phinf.pstatic.net/20220115_234/16422112205299HJn1_PNG/03_%EB%B0%B0%EC%86%A1_%EB%B0%8F_%ED%99%98%EB%B6%88.png?type=w860']\n",
      "팜앤쿡/중식상세/해물 누룽지탕 (참피디방영,캠핑밀키트,홈파티,술안주)/detail_해물 누룽지탕 (참피디방영,캠핑밀키트,홈파티,술안주)-2.jpg\n",
      "['https://shop-phinf.pstatic.net/20220214_169/1644805534814R7IYp_PNG/00_%EC%9D%B8%ED%8A%B8%EB%A1%9C%ED%8E%98%EC%9D%B4%EC%A7%80.png?type=w860', 'https://shop-phinf.pstatic.net/20220216_137/1644979996046JAsUV_JPEG/%ED%95%B4%EB%AC%BC%EB%88%84%EB%A3%BD%EC%A7%80%ED%83%95_1(%EC%9D%BC%EB%B0%98).jpg?type=w860', 'https://shop-phinf.pstatic.net/20220129_266/1643428310915PITjC_JPEG/%ED%95%B4%EB%AC%BC%EB%88%84%EB%A3%BD%EC%A7%80%ED%83%95_2(%EC%9D%BC%EB%B0%98).jpg?type=w860', 'https://shop-phinf.pstatic.net/20220129_286/1643428310776YE2KK_JPEG/%ED%95%B4%EB%AC%BC%EB%88%84%EB%A3%BD%EC%A7%80%ED%83%95_3(%EC%9D%BC%EB%B0%98).jpg?type=w860', 'https://shop-phinf.pstatic.net/20220209_293/1644365609969TQbf3_PNG/02_About_brand.jpg.png?type=w860', 'https://shop-phinf.pstatic.net/20220115_234/16422112205299HJn1_PNG/03_%EB%B0%B0%EC%86%A1_%EB%B0%8F_%ED%99%98%EB%B6%88.png?type=w860']\n",
      "팜앤쿡/중식상세/해물 누룽지탕 (참피디방영,캠핑밀키트,홈파티,술안주)/detail_해물 누룽지탕 (참피디방영,캠핑밀키트,홈파티,술안주)-3.jpg\n",
      "['https://shop-phinf.pstatic.net/20220214_169/1644805534814R7IYp_PNG/00_%EC%9D%B8%ED%8A%B8%EB%A1%9C%ED%8E%98%EC%9D%B4%EC%A7%80.png?type=w860', 'https://shop-phinf.pstatic.net/20220216_137/1644979996046JAsUV_JPEG/%ED%95%B4%EB%AC%BC%EB%88%84%EB%A3%BD%EC%A7%80%ED%83%95_1(%EC%9D%BC%EB%B0%98).jpg?type=w860', 'https://shop-phinf.pstatic.net/20220129_266/1643428310915PITjC_JPEG/%ED%95%B4%EB%AC%BC%EB%88%84%EB%A3%BD%EC%A7%80%ED%83%95_2(%EC%9D%BC%EB%B0%98).jpg?type=w860', 'https://shop-phinf.pstatic.net/20220129_286/1643428310776YE2KK_JPEG/%ED%95%B4%EB%AC%BC%EB%88%84%EB%A3%BD%EC%A7%80%ED%83%95_3(%EC%9D%BC%EB%B0%98).jpg?type=w860', 'https://shop-phinf.pstatic.net/20220209_293/1644365609969TQbf3_PNG/02_About_brand.jpg.png?type=w860', 'https://shop-phinf.pstatic.net/20220115_234/16422112205299HJn1_PNG/03_%EB%B0%B0%EC%86%A1_%EB%B0%8F_%ED%99%98%EB%B6%88.png?type=w860']\n",
      "팜앤쿡/중식상세/해물 누룽지탕 (참피디방영,캠핑밀키트,홈파티,술안주)/detail_해물 누룽지탕 (참피디방영,캠핑밀키트,홈파티,술안주)-4.jpg\n",
      "['https://shop-phinf.pstatic.net/20220214_169/1644805534814R7IYp_PNG/00_%EC%9D%B8%ED%8A%B8%EB%A1%9C%ED%8E%98%EC%9D%B4%EC%A7%80.png?type=w860', 'https://shop-phinf.pstatic.net/20220216_137/1644979996046JAsUV_JPEG/%ED%95%B4%EB%AC%BC%EB%88%84%EB%A3%BD%EC%A7%80%ED%83%95_1(%EC%9D%BC%EB%B0%98).jpg?type=w860', 'https://shop-phinf.pstatic.net/20220129_266/1643428310915PITjC_JPEG/%ED%95%B4%EB%AC%BC%EB%88%84%EB%A3%BD%EC%A7%80%ED%83%95_2(%EC%9D%BC%EB%B0%98).jpg?type=w860', 'https://shop-phinf.pstatic.net/20220129_286/1643428310776YE2KK_JPEG/%ED%95%B4%EB%AC%BC%EB%88%84%EB%A3%BD%EC%A7%80%ED%83%95_3(%EC%9D%BC%EB%B0%98).jpg?type=w860', 'https://shop-phinf.pstatic.net/20220209_293/1644365609969TQbf3_PNG/02_About_brand.jpg.png?type=w860', 'https://shop-phinf.pstatic.net/20220115_234/16422112205299HJn1_PNG/03_%EB%B0%B0%EC%86%A1_%EB%B0%8F_%ED%99%98%EB%B6%88.png?type=w860']\n",
      "팜앤쿡/중식상세/해물 누룽지탕 (참피디방영,캠핑밀키트,홈파티,술안주)/detail_해물 누룽지탕 (참피디방영,캠핑밀키트,홈파티,술안주)-5.jpg\n",
      "['https://shop-phinf.pstatic.net/20220214_169/1644805534814R7IYp_PNG/00_%EC%9D%B8%ED%8A%B8%EB%A1%9C%ED%8E%98%EC%9D%B4%EC%A7%80.png?type=w860', 'https://shop-phinf.pstatic.net/20220216_137/1644979996046JAsUV_JPEG/%ED%95%B4%EB%AC%BC%EB%88%84%EB%A3%BD%EC%A7%80%ED%83%95_1(%EC%9D%BC%EB%B0%98).jpg?type=w860', 'https://shop-phinf.pstatic.net/20220129_266/1643428310915PITjC_JPEG/%ED%95%B4%EB%AC%BC%EB%88%84%EB%A3%BD%EC%A7%80%ED%83%95_2(%EC%9D%BC%EB%B0%98).jpg?type=w860', 'https://shop-phinf.pstatic.net/20220129_286/1643428310776YE2KK_JPEG/%ED%95%B4%EB%AC%BC%EB%88%84%EB%A3%BD%EC%A7%80%ED%83%95_3(%EC%9D%BC%EB%B0%98).jpg?type=w860', 'https://shop-phinf.pstatic.net/20220209_293/1644365609969TQbf3_PNG/02_About_brand.jpg.png?type=w860', 'https://shop-phinf.pstatic.net/20220115_234/16422112205299HJn1_PNG/03_%EB%B0%B0%EC%86%A1_%EB%B0%8F_%ED%99%98%EB%B6%88.png?type=w860']\n",
      "팜앤쿡/중식상세/소고기 고추잡채 밀키트/detail_소고기 고추잡채 밀키트-0.jpg\n",
      "['https://shop-phinf.pstatic.net/20220214_121/1644800789760HiDc9_PNG/00_%EC%9D%B8%ED%8A%B8%EB%A1%9C%ED%8E%98%EC%9D%B4%EC%A7%80.png?type=w860', 'https://shop-phinf.pstatic.net/20220111_38/1641885588785CJKts_JPEG/%EA%B3%A0%EC%B6%94%EC%9E%A1%EC%B1%841-1.jpg?type=w860', 'https://shop-phinf.pstatic.net/20211204_261/1638608168911U3C9j_JPEG/%EA%B3%A0%EC%B6%94%EC%9E%A1%EC%B1%841-2.jpg?type=w860', 'https://shop-phinf.pstatic.net/20220130_72/1643536682984Vuecm_JPEG/%EA%B3%A0%EC%B6%94%EC%9E%A1%EC%B1%841-3.jpg?type=w860', 'https://shop-phinf.pstatic.net/20220209_167/1644365481436m9d3a_PNG/02_About_brand.jpg.png?type=w860', 'https://shop-phinf.pstatic.net/20220115_163/1642210922945Pqte6_PNG/03_%EB%B0%B0%EC%86%A1_%EB%B0%8F_%ED%99%98%EB%B6%88.png?type=w860']\n",
      "팜앤쿡/중식상세/소고기 고추잡채 밀키트/detail_소고기 고추잡채 밀키트-1.jpg\n",
      "['https://shop-phinf.pstatic.net/20220214_121/1644800789760HiDc9_PNG/00_%EC%9D%B8%ED%8A%B8%EB%A1%9C%ED%8E%98%EC%9D%B4%EC%A7%80.png?type=w860', 'https://shop-phinf.pstatic.net/20220111_38/1641885588785CJKts_JPEG/%EA%B3%A0%EC%B6%94%EC%9E%A1%EC%B1%841-1.jpg?type=w860', 'https://shop-phinf.pstatic.net/20211204_261/1638608168911U3C9j_JPEG/%EA%B3%A0%EC%B6%94%EC%9E%A1%EC%B1%841-2.jpg?type=w860', 'https://shop-phinf.pstatic.net/20220130_72/1643536682984Vuecm_JPEG/%EA%B3%A0%EC%B6%94%EC%9E%A1%EC%B1%841-3.jpg?type=w860', 'https://shop-phinf.pstatic.net/20220209_167/1644365481436m9d3a_PNG/02_About_brand.jpg.png?type=w860', 'https://shop-phinf.pstatic.net/20220115_163/1642210922945Pqte6_PNG/03_%EB%B0%B0%EC%86%A1_%EB%B0%8F_%ED%99%98%EB%B6%88.png?type=w860']\n",
      "팜앤쿡/중식상세/소고기 고추잡채 밀키트/detail_소고기 고추잡채 밀키트-2.jpg\n",
      "['https://shop-phinf.pstatic.net/20220214_121/1644800789760HiDc9_PNG/00_%EC%9D%B8%ED%8A%B8%EB%A1%9C%ED%8E%98%EC%9D%B4%EC%A7%80.png?type=w860', 'https://shop-phinf.pstatic.net/20220111_38/1641885588785CJKts_JPEG/%EA%B3%A0%EC%B6%94%EC%9E%A1%EC%B1%841-1.jpg?type=w860', 'https://shop-phinf.pstatic.net/20211204_261/1638608168911U3C9j_JPEG/%EA%B3%A0%EC%B6%94%EC%9E%A1%EC%B1%841-2.jpg?type=w860', 'https://shop-phinf.pstatic.net/20220130_72/1643536682984Vuecm_JPEG/%EA%B3%A0%EC%B6%94%EC%9E%A1%EC%B1%841-3.jpg?type=w860', 'https://shop-phinf.pstatic.net/20220209_167/1644365481436m9d3a_PNG/02_About_brand.jpg.png?type=w860', 'https://shop-phinf.pstatic.net/20220115_163/1642210922945Pqte6_PNG/03_%EB%B0%B0%EC%86%A1_%EB%B0%8F_%ED%99%98%EB%B6%88.png?type=w860']\n",
      "팜앤쿡/중식상세/소고기 고추잡채 밀키트/detail_소고기 고추잡채 밀키트-3.jpg\n",
      "['https://shop-phinf.pstatic.net/20220214_121/1644800789760HiDc9_PNG/00_%EC%9D%B8%ED%8A%B8%EB%A1%9C%ED%8E%98%EC%9D%B4%EC%A7%80.png?type=w860', 'https://shop-phinf.pstatic.net/20220111_38/1641885588785CJKts_JPEG/%EA%B3%A0%EC%B6%94%EC%9E%A1%EC%B1%841-1.jpg?type=w860', 'https://shop-phinf.pstatic.net/20211204_261/1638608168911U3C9j_JPEG/%EA%B3%A0%EC%B6%94%EC%9E%A1%EC%B1%841-2.jpg?type=w860', 'https://shop-phinf.pstatic.net/20220130_72/1643536682984Vuecm_JPEG/%EA%B3%A0%EC%B6%94%EC%9E%A1%EC%B1%841-3.jpg?type=w860', 'https://shop-phinf.pstatic.net/20220209_167/1644365481436m9d3a_PNG/02_About_brand.jpg.png?type=w860', 'https://shop-phinf.pstatic.net/20220115_163/1642210922945Pqte6_PNG/03_%EB%B0%B0%EC%86%A1_%EB%B0%8F_%ED%99%98%EB%B6%88.png?type=w860']\n",
      "팜앤쿡/중식상세/소고기 고추잡채 밀키트/detail_소고기 고추잡채 밀키트-4.jpg\n",
      "['https://shop-phinf.pstatic.net/20220214_121/1644800789760HiDc9_PNG/00_%EC%9D%B8%ED%8A%B8%EB%A1%9C%ED%8E%98%EC%9D%B4%EC%A7%80.png?type=w860', 'https://shop-phinf.pstatic.net/20220111_38/1641885588785CJKts_JPEG/%EA%B3%A0%EC%B6%94%EC%9E%A1%EC%B1%841-1.jpg?type=w860', 'https://shop-phinf.pstatic.net/20211204_261/1638608168911U3C9j_JPEG/%EA%B3%A0%EC%B6%94%EC%9E%A1%EC%B1%841-2.jpg?type=w860', 'https://shop-phinf.pstatic.net/20220130_72/1643536682984Vuecm_JPEG/%EA%B3%A0%EC%B6%94%EC%9E%A1%EC%B1%841-3.jpg?type=w860', 'https://shop-phinf.pstatic.net/20220209_167/1644365481436m9d3a_PNG/02_About_brand.jpg.png?type=w860', 'https://shop-phinf.pstatic.net/20220115_163/1642210922945Pqte6_PNG/03_%EB%B0%B0%EC%86%A1_%EB%B0%8F_%ED%99%98%EB%B6%88.png?type=w860']\n",
      "팜앤쿡/중식상세/소고기 고추잡채 밀키트/detail_소고기 고추잡채 밀키트-5.jpg\n",
      "['https://shop-phinf.pstatic.net/20220214_121/1644800789760HiDc9_PNG/00_%EC%9D%B8%ED%8A%B8%EB%A1%9C%ED%8E%98%EC%9D%B4%EC%A7%80.png?type=w860', 'https://shop-phinf.pstatic.net/20220111_38/1641885588785CJKts_JPEG/%EA%B3%A0%EC%B6%94%EC%9E%A1%EC%B1%841-1.jpg?type=w860', 'https://shop-phinf.pstatic.net/20211204_261/1638608168911U3C9j_JPEG/%EA%B3%A0%EC%B6%94%EC%9E%A1%EC%B1%841-2.jpg?type=w860', 'https://shop-phinf.pstatic.net/20220130_72/1643536682984Vuecm_JPEG/%EA%B3%A0%EC%B6%94%EC%9E%A1%EC%B1%841-3.jpg?type=w860', 'https://shop-phinf.pstatic.net/20220209_167/1644365481436m9d3a_PNG/02_About_brand.jpg.png?type=w860', 'https://shop-phinf.pstatic.net/20220115_163/1642210922945Pqte6_PNG/03_%EB%B0%B0%EC%86%A1_%EB%B0%8F_%ED%99%98%EB%B6%88.png?type=w860']\n",
      "팜앤쿡/중식상세/양장피 밀키트 (술안주,캠핑밀키트)/detail_양장피 밀키트 (술안주,캠핑밀키트)-0.jpg\n",
      "['https://shop-phinf.pstatic.net/20220214_64/1644800750204MKQgO_PNG/00_%EC%9D%B8%ED%8A%B8%EB%A1%9C%ED%8E%98%EC%9D%B4%EC%A7%80.png?type=w860', 'https://shop-phinf.pstatic.net/20220216_225/1644983401177UaHEA_JPEG/%EC%96%91%EC%9E%A5%ED%94%BC_01.jpg?type=w860', 'https://shop-phinf.pstatic.net/20220111_106/1641886173030lrPVS_JPEG/%EC%96%91%EC%9E%A5%ED%94%BC_02.jpg?type=w860', 'https://shop-phinf.pstatic.net/20220106_178/1641425884757jWRMY_JPEG/%EC%96%91%EC%9E%A5%ED%94%BC_03.jpg?type=w860', 'https://shop-phinf.pstatic.net/20220209_260/1644365548837i1qwS_PNG/02_About_brand.jpg.png?type=w860', 'https://shop-phinf.pstatic.net/20220115_221/1642204894454iFumL_PNG/03_%EB%B0%B0%EC%86%A1_%EB%B0%8F_%ED%99%98%EB%B6%88.png?type=w860']\n",
      "팜앤쿡/중식상세/양장피 밀키트 (술안주,캠핑밀키트)/detail_양장피 밀키트 (술안주,캠핑밀키트)-1.jpg\n",
      "['https://shop-phinf.pstatic.net/20220214_64/1644800750204MKQgO_PNG/00_%EC%9D%B8%ED%8A%B8%EB%A1%9C%ED%8E%98%EC%9D%B4%EC%A7%80.png?type=w860', 'https://shop-phinf.pstatic.net/20220216_225/1644983401177UaHEA_JPEG/%EC%96%91%EC%9E%A5%ED%94%BC_01.jpg?type=w860', 'https://shop-phinf.pstatic.net/20220111_106/1641886173030lrPVS_JPEG/%EC%96%91%EC%9E%A5%ED%94%BC_02.jpg?type=w860', 'https://shop-phinf.pstatic.net/20220106_178/1641425884757jWRMY_JPEG/%EC%96%91%EC%9E%A5%ED%94%BC_03.jpg?type=w860', 'https://shop-phinf.pstatic.net/20220209_260/1644365548837i1qwS_PNG/02_About_brand.jpg.png?type=w860', 'https://shop-phinf.pstatic.net/20220115_221/1642204894454iFumL_PNG/03_%EB%B0%B0%EC%86%A1_%EB%B0%8F_%ED%99%98%EB%B6%88.png?type=w860']\n",
      "팜앤쿡/중식상세/양장피 밀키트 (술안주,캠핑밀키트)/detail_양장피 밀키트 (술안주,캠핑밀키트)-2.jpg\n",
      "['https://shop-phinf.pstatic.net/20220214_64/1644800750204MKQgO_PNG/00_%EC%9D%B8%ED%8A%B8%EB%A1%9C%ED%8E%98%EC%9D%B4%EC%A7%80.png?type=w860', 'https://shop-phinf.pstatic.net/20220216_225/1644983401177UaHEA_JPEG/%EC%96%91%EC%9E%A5%ED%94%BC_01.jpg?type=w860', 'https://shop-phinf.pstatic.net/20220111_106/1641886173030lrPVS_JPEG/%EC%96%91%EC%9E%A5%ED%94%BC_02.jpg?type=w860', 'https://shop-phinf.pstatic.net/20220106_178/1641425884757jWRMY_JPEG/%EC%96%91%EC%9E%A5%ED%94%BC_03.jpg?type=w860', 'https://shop-phinf.pstatic.net/20220209_260/1644365548837i1qwS_PNG/02_About_brand.jpg.png?type=w860', 'https://shop-phinf.pstatic.net/20220115_221/1642204894454iFumL_PNG/03_%EB%B0%B0%EC%86%A1_%EB%B0%8F_%ED%99%98%EB%B6%88.png?type=w860']\n",
      "팜앤쿡/중식상세/양장피 밀키트 (술안주,캠핑밀키트)/detail_양장피 밀키트 (술안주,캠핑밀키트)-3.jpg\n",
      "['https://shop-phinf.pstatic.net/20220214_64/1644800750204MKQgO_PNG/00_%EC%9D%B8%ED%8A%B8%EB%A1%9C%ED%8E%98%EC%9D%B4%EC%A7%80.png?type=w860', 'https://shop-phinf.pstatic.net/20220216_225/1644983401177UaHEA_JPEG/%EC%96%91%EC%9E%A5%ED%94%BC_01.jpg?type=w860', 'https://shop-phinf.pstatic.net/20220111_106/1641886173030lrPVS_JPEG/%EC%96%91%EC%9E%A5%ED%94%BC_02.jpg?type=w860', 'https://shop-phinf.pstatic.net/20220106_178/1641425884757jWRMY_JPEG/%EC%96%91%EC%9E%A5%ED%94%BC_03.jpg?type=w860', 'https://shop-phinf.pstatic.net/20220209_260/1644365548837i1qwS_PNG/02_About_brand.jpg.png?type=w860', 'https://shop-phinf.pstatic.net/20220115_221/1642204894454iFumL_PNG/03_%EB%B0%B0%EC%86%A1_%EB%B0%8F_%ED%99%98%EB%B6%88.png?type=w860']\n",
      "팜앤쿡/중식상세/양장피 밀키트 (술안주,캠핑밀키트)/detail_양장피 밀키트 (술안주,캠핑밀키트)-4.jpg\n",
      "['https://shop-phinf.pstatic.net/20220214_64/1644800750204MKQgO_PNG/00_%EC%9D%B8%ED%8A%B8%EB%A1%9C%ED%8E%98%EC%9D%B4%EC%A7%80.png?type=w860', 'https://shop-phinf.pstatic.net/20220216_225/1644983401177UaHEA_JPEG/%EC%96%91%EC%9E%A5%ED%94%BC_01.jpg?type=w860', 'https://shop-phinf.pstatic.net/20220111_106/1641886173030lrPVS_JPEG/%EC%96%91%EC%9E%A5%ED%94%BC_02.jpg?type=w860', 'https://shop-phinf.pstatic.net/20220106_178/1641425884757jWRMY_JPEG/%EC%96%91%EC%9E%A5%ED%94%BC_03.jpg?type=w860', 'https://shop-phinf.pstatic.net/20220209_260/1644365548837i1qwS_PNG/02_About_brand.jpg.png?type=w860', 'https://shop-phinf.pstatic.net/20220115_221/1642204894454iFumL_PNG/03_%EB%B0%B0%EC%86%A1_%EB%B0%8F_%ED%99%98%EB%B6%88.png?type=w860']\n",
      "팜앤쿡/중식상세/양장피 밀키트 (술안주,캠핑밀키트)/detail_양장피 밀키트 (술안주,캠핑밀키트)-5.jpg\n",
      "['https://shop-phinf.pstatic.net/20220214_64/1644800750204MKQgO_PNG/00_%EC%9D%B8%ED%8A%B8%EB%A1%9C%ED%8E%98%EC%9D%B4%EC%A7%80.png?type=w860', 'https://shop-phinf.pstatic.net/20220216_225/1644983401177UaHEA_JPEG/%EC%96%91%EC%9E%A5%ED%94%BC_01.jpg?type=w860', 'https://shop-phinf.pstatic.net/20220111_106/1641886173030lrPVS_JPEG/%EC%96%91%EC%9E%A5%ED%94%BC_02.jpg?type=w860', 'https://shop-phinf.pstatic.net/20220106_178/1641425884757jWRMY_JPEG/%EC%96%91%EC%9E%A5%ED%94%BC_03.jpg?type=w860', 'https://shop-phinf.pstatic.net/20220209_260/1644365548837i1qwS_PNG/02_About_brand.jpg.png?type=w860', 'https://shop-phinf.pstatic.net/20220115_221/1642204894454iFumL_PNG/03_%EB%B0%B0%EC%86%A1_%EB%B0%8F_%ED%99%98%EB%B6%88.png?type=w860']\n",
      "팜앤쿡/중식상세/씹는 식감이 예술~ 유산슬 밀키트 (고급중화요리)/detail_씹는 식감이 예술~ 유산슬 밀키트 (고급중화요리)-0.jpg\n",
      "['https://shop-phinf.pstatic.net/20220214_283/1644805909945VyMM2_PNG/00_%EC%9D%B8%ED%8A%B8%EB%A1%9C%ED%8E%98%EC%9D%B4%EC%A7%80.png?type=w860', 'https://shop-phinf.pstatic.net/20220216_4/1644983107254gfGTw_JPEG/%EC%9C%A0%EC%82%B0%EC%8A%AC_01.jpg?type=w860', 'https://shop-phinf.pstatic.net/20220131_11/1643623158407VhJJL_JPEG/%EC%9C%A0%EC%82%B0%EC%8A%AC_02.jpg?type=w860', 'https://shop-phinf.pstatic.net/20220209_207/1644364188695p9GVF_PNG/02_About_brand.jpg.png?type=w860', 'https://shop-phinf.pstatic.net/20220115_165/1642211654904oVGt3_PNG/03_%EB%B0%B0%EC%86%A1_%EB%B0%8F_%ED%99%98%EB%B6%88.png?type=w860']\n",
      "팜앤쿡/중식상세/씹는 식감이 예술~ 유산슬 밀키트 (고급중화요리)/detail_씹는 식감이 예술~ 유산슬 밀키트 (고급중화요리)-1.jpg\n",
      "['https://shop-phinf.pstatic.net/20220214_283/1644805909945VyMM2_PNG/00_%EC%9D%B8%ED%8A%B8%EB%A1%9C%ED%8E%98%EC%9D%B4%EC%A7%80.png?type=w860', 'https://shop-phinf.pstatic.net/20220216_4/1644983107254gfGTw_JPEG/%EC%9C%A0%EC%82%B0%EC%8A%AC_01.jpg?type=w860', 'https://shop-phinf.pstatic.net/20220131_11/1643623158407VhJJL_JPEG/%EC%9C%A0%EC%82%B0%EC%8A%AC_02.jpg?type=w860', 'https://shop-phinf.pstatic.net/20220209_207/1644364188695p9GVF_PNG/02_About_brand.jpg.png?type=w860', 'https://shop-phinf.pstatic.net/20220115_165/1642211654904oVGt3_PNG/03_%EB%B0%B0%EC%86%A1_%EB%B0%8F_%ED%99%98%EB%B6%88.png?type=w860']\n",
      "팜앤쿡/중식상세/씹는 식감이 예술~ 유산슬 밀키트 (고급중화요리)/detail_씹는 식감이 예술~ 유산슬 밀키트 (고급중화요리)-2.jpg\n",
      "['https://shop-phinf.pstatic.net/20220214_283/1644805909945VyMM2_PNG/00_%EC%9D%B8%ED%8A%B8%EB%A1%9C%ED%8E%98%EC%9D%B4%EC%A7%80.png?type=w860', 'https://shop-phinf.pstatic.net/20220216_4/1644983107254gfGTw_JPEG/%EC%9C%A0%EC%82%B0%EC%8A%AC_01.jpg?type=w860', 'https://shop-phinf.pstatic.net/20220131_11/1643623158407VhJJL_JPEG/%EC%9C%A0%EC%82%B0%EC%8A%AC_02.jpg?type=w860', 'https://shop-phinf.pstatic.net/20220209_207/1644364188695p9GVF_PNG/02_About_brand.jpg.png?type=w860', 'https://shop-phinf.pstatic.net/20220115_165/1642211654904oVGt3_PNG/03_%EB%B0%B0%EC%86%A1_%EB%B0%8F_%ED%99%98%EB%B6%88.png?type=w860']\n",
      "팜앤쿡/중식상세/씹는 식감이 예술~ 유산슬 밀키트 (고급중화요리)/detail_씹는 식감이 예술~ 유산슬 밀키트 (고급중화요리)-3.jpg\n",
      "['https://shop-phinf.pstatic.net/20220214_283/1644805909945VyMM2_PNG/00_%EC%9D%B8%ED%8A%B8%EB%A1%9C%ED%8E%98%EC%9D%B4%EC%A7%80.png?type=w860', 'https://shop-phinf.pstatic.net/20220216_4/1644983107254gfGTw_JPEG/%EC%9C%A0%EC%82%B0%EC%8A%AC_01.jpg?type=w860', 'https://shop-phinf.pstatic.net/20220131_11/1643623158407VhJJL_JPEG/%EC%9C%A0%EC%82%B0%EC%8A%AC_02.jpg?type=w860', 'https://shop-phinf.pstatic.net/20220209_207/1644364188695p9GVF_PNG/02_About_brand.jpg.png?type=w860', 'https://shop-phinf.pstatic.net/20220115_165/1642211654904oVGt3_PNG/03_%EB%B0%B0%EC%86%A1_%EB%B0%8F_%ED%99%98%EB%B6%88.png?type=w860']\n",
      "팜앤쿡/중식상세/씹는 식감이 예술~ 유산슬 밀키트 (고급중화요리)/detail_씹는 식감이 예술~ 유산슬 밀키트 (고급중화요리)-4.jpg\n",
      "['https://shop-phinf.pstatic.net/20220214_283/1644805909945VyMM2_PNG/00_%EC%9D%B8%ED%8A%B8%EB%A1%9C%ED%8E%98%EC%9D%B4%EC%A7%80.png?type=w860', 'https://shop-phinf.pstatic.net/20220216_4/1644983107254gfGTw_JPEG/%EC%9C%A0%EC%82%B0%EC%8A%AC_01.jpg?type=w860', 'https://shop-phinf.pstatic.net/20220131_11/1643623158407VhJJL_JPEG/%EC%9C%A0%EC%82%B0%EC%8A%AC_02.jpg?type=w860', 'https://shop-phinf.pstatic.net/20220209_207/1644364188695p9GVF_PNG/02_About_brand.jpg.png?type=w860', 'https://shop-phinf.pstatic.net/20220115_165/1642211654904oVGt3_PNG/03_%EB%B0%B0%EC%86%A1_%EB%B0%8F_%ED%99%98%EB%B6%88.png?type=w860']\n",
      "팜앤쿡/중식상세/고품질 중화요리 홈파티밀키트 (3종)_양장피,고추잡채,해물누룽지탕/detail_고품질 중화요리 홈파티밀키트 (3종)_양장피,고추잡채,해물누룽지탕-0.jpg\n",
      "['https://shop-phinf.pstatic.net/20220214_258/1644805868703dXwgA_PNG/00_%EC%9D%B8%ED%8A%B8%EB%A1%9C%ED%8E%98%EC%9D%B4%EC%A7%80.png?type=w860', 'https://shop-phinf.pstatic.net/20220119_151/1642545979752TC5Tn_PNG/%EC%A4%91%ED%99%94%EC%9A%94%EB%A6%AC%ED%99%88%ED%8C%8C%ED%8B%B0_4-1.jpg.png?type=w860', 'https://shop-phinf.pstatic.net/20220112_283/1641947560515vfzG7_JPEG/%EA%B3%A0%EC%B6%94%EC%9E%A1%EC%B1%841-1.jpg?type=w860', 'https://shop-phinf.pstatic.net/20220112_134/16419475602140JY1v_JPEG/%EA%B3%A0%EC%B6%94%EC%9E%A1%EC%B1%841-2.jpg?type=w860', 'https://shop-phinf.pstatic.net/20220204_22/1643975352393E5C32_JPEG/%EA%B3%A0%EC%B6%94%EC%9E%A1%EC%B1%841-3.jpg?type=w860', 'https://shop-phinf.pstatic.net/20220112_148/1641947560222Dh7oB_JPEG/%EC%96%91%EC%9E%A5%ED%94%BC_01.jpg?type=w860', 'https://shop-phinf.pstatic.net/20220112_165/1641947560231ltF3i_JPEG/%EC%96%91%EC%9E%A5%ED%94%BC_02.jpg?type=w860', 'https://shop-phinf.pstatic.net/20220112_90/1641947560532RykA0_JPEG/%EC%96%91%EC%9E%A5%ED%94%BC_03.jpg?type=w860', 'https://shop-phinf.pstatic.net/20220204_90/16439753193932r606_JPEG/%ED%95%B4%EB%AC%BC%EB%88%84%EB%A3%BD%EC%A7%80%ED%83%95_1(%EC%9D%BC%EB%B0%98).jpg?type=w860', 'https://shop-phinf.pstatic.net/20220204_2/1643975319391v1fGJ_JPEG/%ED%95%B4%EB%AC%BC%EB%88%84%EB%A3%BD%EC%A7%80%ED%83%95_2(%EC%9D%BC%EB%B0%98).jpg?type=w860', 'https://shop-phinf.pstatic.net/20220209_142/1644364779287Qps9r_PNG/02_About_brand.jpg.png?type=w860', 'https://shop-phinf.pstatic.net/20220115_282/1642211620078eDaje_PNG/03_%EB%B0%B0%EC%86%A1_%EB%B0%8F_%ED%99%98%EB%B6%88.png?type=w860']\n",
      "팜앤쿡/중식상세/고품질 중화요리 홈파티밀키트 (3종)_양장피,고추잡채,해물누룽지탕/detail_고품질 중화요리 홈파티밀키트 (3종)_양장피,고추잡채,해물누룽지탕-1.jpg\n",
      "['https://shop-phinf.pstatic.net/20220214_258/1644805868703dXwgA_PNG/00_%EC%9D%B8%ED%8A%B8%EB%A1%9C%ED%8E%98%EC%9D%B4%EC%A7%80.png?type=w860', 'https://shop-phinf.pstatic.net/20220119_151/1642545979752TC5Tn_PNG/%EC%A4%91%ED%99%94%EC%9A%94%EB%A6%AC%ED%99%88%ED%8C%8C%ED%8B%B0_4-1.jpg.png?type=w860', 'https://shop-phinf.pstatic.net/20220112_283/1641947560515vfzG7_JPEG/%EA%B3%A0%EC%B6%94%EC%9E%A1%EC%B1%841-1.jpg?type=w860', 'https://shop-phinf.pstatic.net/20220112_134/16419475602140JY1v_JPEG/%EA%B3%A0%EC%B6%94%EC%9E%A1%EC%B1%841-2.jpg?type=w860', 'https://shop-phinf.pstatic.net/20220204_22/1643975352393E5C32_JPEG/%EA%B3%A0%EC%B6%94%EC%9E%A1%EC%B1%841-3.jpg?type=w860', 'https://shop-phinf.pstatic.net/20220112_148/1641947560222Dh7oB_JPEG/%EC%96%91%EC%9E%A5%ED%94%BC_01.jpg?type=w860', 'https://shop-phinf.pstatic.net/20220112_165/1641947560231ltF3i_JPEG/%EC%96%91%EC%9E%A5%ED%94%BC_02.jpg?type=w860', 'https://shop-phinf.pstatic.net/20220112_90/1641947560532RykA0_JPEG/%EC%96%91%EC%9E%A5%ED%94%BC_03.jpg?type=w860', 'https://shop-phinf.pstatic.net/20220204_90/16439753193932r606_JPEG/%ED%95%B4%EB%AC%BC%EB%88%84%EB%A3%BD%EC%A7%80%ED%83%95_1(%EC%9D%BC%EB%B0%98).jpg?type=w860', 'https://shop-phinf.pstatic.net/20220204_2/1643975319391v1fGJ_JPEG/%ED%95%B4%EB%AC%BC%EB%88%84%EB%A3%BD%EC%A7%80%ED%83%95_2(%EC%9D%BC%EB%B0%98).jpg?type=w860', 'https://shop-phinf.pstatic.net/20220209_142/1644364779287Qps9r_PNG/02_About_brand.jpg.png?type=w860', 'https://shop-phinf.pstatic.net/20220115_282/1642211620078eDaje_PNG/03_%EB%B0%B0%EC%86%A1_%EB%B0%8F_%ED%99%98%EB%B6%88.png?type=w860']\n",
      "팜앤쿡/중식상세/고품질 중화요리 홈파티밀키트 (3종)_양장피,고추잡채,해물누룽지탕/detail_고품질 중화요리 홈파티밀키트 (3종)_양장피,고추잡채,해물누룽지탕-2.jpg\n",
      "['https://shop-phinf.pstatic.net/20220214_258/1644805868703dXwgA_PNG/00_%EC%9D%B8%ED%8A%B8%EB%A1%9C%ED%8E%98%EC%9D%B4%EC%A7%80.png?type=w860', 'https://shop-phinf.pstatic.net/20220119_151/1642545979752TC5Tn_PNG/%EC%A4%91%ED%99%94%EC%9A%94%EB%A6%AC%ED%99%88%ED%8C%8C%ED%8B%B0_4-1.jpg.png?type=w860', 'https://shop-phinf.pstatic.net/20220112_283/1641947560515vfzG7_JPEG/%EA%B3%A0%EC%B6%94%EC%9E%A1%EC%B1%841-1.jpg?type=w860', 'https://shop-phinf.pstatic.net/20220112_134/16419475602140JY1v_JPEG/%EA%B3%A0%EC%B6%94%EC%9E%A1%EC%B1%841-2.jpg?type=w860', 'https://shop-phinf.pstatic.net/20220204_22/1643975352393E5C32_JPEG/%EA%B3%A0%EC%B6%94%EC%9E%A1%EC%B1%841-3.jpg?type=w860', 'https://shop-phinf.pstatic.net/20220112_148/1641947560222Dh7oB_JPEG/%EC%96%91%EC%9E%A5%ED%94%BC_01.jpg?type=w860', 'https://shop-phinf.pstatic.net/20220112_165/1641947560231ltF3i_JPEG/%EC%96%91%EC%9E%A5%ED%94%BC_02.jpg?type=w860', 'https://shop-phinf.pstatic.net/20220112_90/1641947560532RykA0_JPEG/%EC%96%91%EC%9E%A5%ED%94%BC_03.jpg?type=w860', 'https://shop-phinf.pstatic.net/20220204_90/16439753193932r606_JPEG/%ED%95%B4%EB%AC%BC%EB%88%84%EB%A3%BD%EC%A7%80%ED%83%95_1(%EC%9D%BC%EB%B0%98).jpg?type=w860', 'https://shop-phinf.pstatic.net/20220204_2/1643975319391v1fGJ_JPEG/%ED%95%B4%EB%AC%BC%EB%88%84%EB%A3%BD%EC%A7%80%ED%83%95_2(%EC%9D%BC%EB%B0%98).jpg?type=w860', 'https://shop-phinf.pstatic.net/20220209_142/1644364779287Qps9r_PNG/02_About_brand.jpg.png?type=w860', 'https://shop-phinf.pstatic.net/20220115_282/1642211620078eDaje_PNG/03_%EB%B0%B0%EC%86%A1_%EB%B0%8F_%ED%99%98%EB%B6%88.png?type=w860']\n",
      "팜앤쿡/중식상세/고품질 중화요리 홈파티밀키트 (3종)_양장피,고추잡채,해물누룽지탕/detail_고품질 중화요리 홈파티밀키트 (3종)_양장피,고추잡채,해물누룽지탕-3.jpg\n",
      "['https://shop-phinf.pstatic.net/20220214_258/1644805868703dXwgA_PNG/00_%EC%9D%B8%ED%8A%B8%EB%A1%9C%ED%8E%98%EC%9D%B4%EC%A7%80.png?type=w860', 'https://shop-phinf.pstatic.net/20220119_151/1642545979752TC5Tn_PNG/%EC%A4%91%ED%99%94%EC%9A%94%EB%A6%AC%ED%99%88%ED%8C%8C%ED%8B%B0_4-1.jpg.png?type=w860', 'https://shop-phinf.pstatic.net/20220112_283/1641947560515vfzG7_JPEG/%EA%B3%A0%EC%B6%94%EC%9E%A1%EC%B1%841-1.jpg?type=w860', 'https://shop-phinf.pstatic.net/20220112_134/16419475602140JY1v_JPEG/%EA%B3%A0%EC%B6%94%EC%9E%A1%EC%B1%841-2.jpg?type=w860', 'https://shop-phinf.pstatic.net/20220204_22/1643975352393E5C32_JPEG/%EA%B3%A0%EC%B6%94%EC%9E%A1%EC%B1%841-3.jpg?type=w860', 'https://shop-phinf.pstatic.net/20220112_148/1641947560222Dh7oB_JPEG/%EC%96%91%EC%9E%A5%ED%94%BC_01.jpg?type=w860', 'https://shop-phinf.pstatic.net/20220112_165/1641947560231ltF3i_JPEG/%EC%96%91%EC%9E%A5%ED%94%BC_02.jpg?type=w860', 'https://shop-phinf.pstatic.net/20220112_90/1641947560532RykA0_JPEG/%EC%96%91%EC%9E%A5%ED%94%BC_03.jpg?type=w860', 'https://shop-phinf.pstatic.net/20220204_90/16439753193932r606_JPEG/%ED%95%B4%EB%AC%BC%EB%88%84%EB%A3%BD%EC%A7%80%ED%83%95_1(%EC%9D%BC%EB%B0%98).jpg?type=w860', 'https://shop-phinf.pstatic.net/20220204_2/1643975319391v1fGJ_JPEG/%ED%95%B4%EB%AC%BC%EB%88%84%EB%A3%BD%EC%A7%80%ED%83%95_2(%EC%9D%BC%EB%B0%98).jpg?type=w860', 'https://shop-phinf.pstatic.net/20220209_142/1644364779287Qps9r_PNG/02_About_brand.jpg.png?type=w860', 'https://shop-phinf.pstatic.net/20220115_282/1642211620078eDaje_PNG/03_%EB%B0%B0%EC%86%A1_%EB%B0%8F_%ED%99%98%EB%B6%88.png?type=w860']\n",
      "팜앤쿡/중식상세/고품질 중화요리 홈파티밀키트 (3종)_양장피,고추잡채,해물누룽지탕/detail_고품질 중화요리 홈파티밀키트 (3종)_양장피,고추잡채,해물누룽지탕-4.jpg\n",
      "['https://shop-phinf.pstatic.net/20220214_258/1644805868703dXwgA_PNG/00_%EC%9D%B8%ED%8A%B8%EB%A1%9C%ED%8E%98%EC%9D%B4%EC%A7%80.png?type=w860', 'https://shop-phinf.pstatic.net/20220119_151/1642545979752TC5Tn_PNG/%EC%A4%91%ED%99%94%EC%9A%94%EB%A6%AC%ED%99%88%ED%8C%8C%ED%8B%B0_4-1.jpg.png?type=w860', 'https://shop-phinf.pstatic.net/20220112_283/1641947560515vfzG7_JPEG/%EA%B3%A0%EC%B6%94%EC%9E%A1%EC%B1%841-1.jpg?type=w860', 'https://shop-phinf.pstatic.net/20220112_134/16419475602140JY1v_JPEG/%EA%B3%A0%EC%B6%94%EC%9E%A1%EC%B1%841-2.jpg?type=w860', 'https://shop-phinf.pstatic.net/20220204_22/1643975352393E5C32_JPEG/%EA%B3%A0%EC%B6%94%EC%9E%A1%EC%B1%841-3.jpg?type=w860', 'https://shop-phinf.pstatic.net/20220112_148/1641947560222Dh7oB_JPEG/%EC%96%91%EC%9E%A5%ED%94%BC_01.jpg?type=w860', 'https://shop-phinf.pstatic.net/20220112_165/1641947560231ltF3i_JPEG/%EC%96%91%EC%9E%A5%ED%94%BC_02.jpg?type=w860', 'https://shop-phinf.pstatic.net/20220112_90/1641947560532RykA0_JPEG/%EC%96%91%EC%9E%A5%ED%94%BC_03.jpg?type=w860', 'https://shop-phinf.pstatic.net/20220204_90/16439753193932r606_JPEG/%ED%95%B4%EB%AC%BC%EB%88%84%EB%A3%BD%EC%A7%80%ED%83%95_1(%EC%9D%BC%EB%B0%98).jpg?type=w860', 'https://shop-phinf.pstatic.net/20220204_2/1643975319391v1fGJ_JPEG/%ED%95%B4%EB%AC%BC%EB%88%84%EB%A3%BD%EC%A7%80%ED%83%95_2(%EC%9D%BC%EB%B0%98).jpg?type=w860', 'https://shop-phinf.pstatic.net/20220209_142/1644364779287Qps9r_PNG/02_About_brand.jpg.png?type=w860', 'https://shop-phinf.pstatic.net/20220115_282/1642211620078eDaje_PNG/03_%EB%B0%B0%EC%86%A1_%EB%B0%8F_%ED%99%98%EB%B6%88.png?type=w860']\n",
      "팜앤쿡/중식상세/고품질 중화요리 홈파티밀키트 (3종)_양장피,고추잡채,해물누룽지탕/detail_고품질 중화요리 홈파티밀키트 (3종)_양장피,고추잡채,해물누룽지탕-5.jpg\n",
      "['https://shop-phinf.pstatic.net/20220214_258/1644805868703dXwgA_PNG/00_%EC%9D%B8%ED%8A%B8%EB%A1%9C%ED%8E%98%EC%9D%B4%EC%A7%80.png?type=w860', 'https://shop-phinf.pstatic.net/20220119_151/1642545979752TC5Tn_PNG/%EC%A4%91%ED%99%94%EC%9A%94%EB%A6%AC%ED%99%88%ED%8C%8C%ED%8B%B0_4-1.jpg.png?type=w860', 'https://shop-phinf.pstatic.net/20220112_283/1641947560515vfzG7_JPEG/%EA%B3%A0%EC%B6%94%EC%9E%A1%EC%B1%841-1.jpg?type=w860', 'https://shop-phinf.pstatic.net/20220112_134/16419475602140JY1v_JPEG/%EA%B3%A0%EC%B6%94%EC%9E%A1%EC%B1%841-2.jpg?type=w860', 'https://shop-phinf.pstatic.net/20220204_22/1643975352393E5C32_JPEG/%EA%B3%A0%EC%B6%94%EC%9E%A1%EC%B1%841-3.jpg?type=w860', 'https://shop-phinf.pstatic.net/20220112_148/1641947560222Dh7oB_JPEG/%EC%96%91%EC%9E%A5%ED%94%BC_01.jpg?type=w860', 'https://shop-phinf.pstatic.net/20220112_165/1641947560231ltF3i_JPEG/%EC%96%91%EC%9E%A5%ED%94%BC_02.jpg?type=w860', 'https://shop-phinf.pstatic.net/20220112_90/1641947560532RykA0_JPEG/%EC%96%91%EC%9E%A5%ED%94%BC_03.jpg?type=w860', 'https://shop-phinf.pstatic.net/20220204_90/16439753193932r606_JPEG/%ED%95%B4%EB%AC%BC%EB%88%84%EB%A3%BD%EC%A7%80%ED%83%95_1(%EC%9D%BC%EB%B0%98).jpg?type=w860', 'https://shop-phinf.pstatic.net/20220204_2/1643975319391v1fGJ_JPEG/%ED%95%B4%EB%AC%BC%EB%88%84%EB%A3%BD%EC%A7%80%ED%83%95_2(%EC%9D%BC%EB%B0%98).jpg?type=w860', 'https://shop-phinf.pstatic.net/20220209_142/1644364779287Qps9r_PNG/02_About_brand.jpg.png?type=w860', 'https://shop-phinf.pstatic.net/20220115_282/1642211620078eDaje_PNG/03_%EB%B0%B0%EC%86%A1_%EB%B0%8F_%ED%99%98%EB%B6%88.png?type=w860']\n",
      "팜앤쿡/중식상세/고품질 중화요리 홈파티밀키트 (3종)_양장피,고추잡채,해물누룽지탕/detail_고품질 중화요리 홈파티밀키트 (3종)_양장피,고추잡채,해물누룽지탕-6.jpg\n",
      "['https://shop-phinf.pstatic.net/20220214_258/1644805868703dXwgA_PNG/00_%EC%9D%B8%ED%8A%B8%EB%A1%9C%ED%8E%98%EC%9D%B4%EC%A7%80.png?type=w860', 'https://shop-phinf.pstatic.net/20220119_151/1642545979752TC5Tn_PNG/%EC%A4%91%ED%99%94%EC%9A%94%EB%A6%AC%ED%99%88%ED%8C%8C%ED%8B%B0_4-1.jpg.png?type=w860', 'https://shop-phinf.pstatic.net/20220112_283/1641947560515vfzG7_JPEG/%EA%B3%A0%EC%B6%94%EC%9E%A1%EC%B1%841-1.jpg?type=w860', 'https://shop-phinf.pstatic.net/20220112_134/16419475602140JY1v_JPEG/%EA%B3%A0%EC%B6%94%EC%9E%A1%EC%B1%841-2.jpg?type=w860', 'https://shop-phinf.pstatic.net/20220204_22/1643975352393E5C32_JPEG/%EA%B3%A0%EC%B6%94%EC%9E%A1%EC%B1%841-3.jpg?type=w860', 'https://shop-phinf.pstatic.net/20220112_148/1641947560222Dh7oB_JPEG/%EC%96%91%EC%9E%A5%ED%94%BC_01.jpg?type=w860', 'https://shop-phinf.pstatic.net/20220112_165/1641947560231ltF3i_JPEG/%EC%96%91%EC%9E%A5%ED%94%BC_02.jpg?type=w860', 'https://shop-phinf.pstatic.net/20220112_90/1641947560532RykA0_JPEG/%EC%96%91%EC%9E%A5%ED%94%BC_03.jpg?type=w860', 'https://shop-phinf.pstatic.net/20220204_90/16439753193932r606_JPEG/%ED%95%B4%EB%AC%BC%EB%88%84%EB%A3%BD%EC%A7%80%ED%83%95_1(%EC%9D%BC%EB%B0%98).jpg?type=w860', 'https://shop-phinf.pstatic.net/20220204_2/1643975319391v1fGJ_JPEG/%ED%95%B4%EB%AC%BC%EB%88%84%EB%A3%BD%EC%A7%80%ED%83%95_2(%EC%9D%BC%EB%B0%98).jpg?type=w860', 'https://shop-phinf.pstatic.net/20220209_142/1644364779287Qps9r_PNG/02_About_brand.jpg.png?type=w860', 'https://shop-phinf.pstatic.net/20220115_282/1642211620078eDaje_PNG/03_%EB%B0%B0%EC%86%A1_%EB%B0%8F_%ED%99%98%EB%B6%88.png?type=w860']\n",
      "팜앤쿡/중식상세/고품질 중화요리 홈파티밀키트 (3종)_양장피,고추잡채,해물누룽지탕/detail_고품질 중화요리 홈파티밀키트 (3종)_양장피,고추잡채,해물누룽지탕-7.jpg\n",
      "['https://shop-phinf.pstatic.net/20220214_258/1644805868703dXwgA_PNG/00_%EC%9D%B8%ED%8A%B8%EB%A1%9C%ED%8E%98%EC%9D%B4%EC%A7%80.png?type=w860', 'https://shop-phinf.pstatic.net/20220119_151/1642545979752TC5Tn_PNG/%EC%A4%91%ED%99%94%EC%9A%94%EB%A6%AC%ED%99%88%ED%8C%8C%ED%8B%B0_4-1.jpg.png?type=w860', 'https://shop-phinf.pstatic.net/20220112_283/1641947560515vfzG7_JPEG/%EA%B3%A0%EC%B6%94%EC%9E%A1%EC%B1%841-1.jpg?type=w860', 'https://shop-phinf.pstatic.net/20220112_134/16419475602140JY1v_JPEG/%EA%B3%A0%EC%B6%94%EC%9E%A1%EC%B1%841-2.jpg?type=w860', 'https://shop-phinf.pstatic.net/20220204_22/1643975352393E5C32_JPEG/%EA%B3%A0%EC%B6%94%EC%9E%A1%EC%B1%841-3.jpg?type=w860', 'https://shop-phinf.pstatic.net/20220112_148/1641947560222Dh7oB_JPEG/%EC%96%91%EC%9E%A5%ED%94%BC_01.jpg?type=w860', 'https://shop-phinf.pstatic.net/20220112_165/1641947560231ltF3i_JPEG/%EC%96%91%EC%9E%A5%ED%94%BC_02.jpg?type=w860', 'https://shop-phinf.pstatic.net/20220112_90/1641947560532RykA0_JPEG/%EC%96%91%EC%9E%A5%ED%94%BC_03.jpg?type=w860', 'https://shop-phinf.pstatic.net/20220204_90/16439753193932r606_JPEG/%ED%95%B4%EB%AC%BC%EB%88%84%EB%A3%BD%EC%A7%80%ED%83%95_1(%EC%9D%BC%EB%B0%98).jpg?type=w860', 'https://shop-phinf.pstatic.net/20220204_2/1643975319391v1fGJ_JPEG/%ED%95%B4%EB%AC%BC%EB%88%84%EB%A3%BD%EC%A7%80%ED%83%95_2(%EC%9D%BC%EB%B0%98).jpg?type=w860', 'https://shop-phinf.pstatic.net/20220209_142/1644364779287Qps9r_PNG/02_About_brand.jpg.png?type=w860', 'https://shop-phinf.pstatic.net/20220115_282/1642211620078eDaje_PNG/03_%EB%B0%B0%EC%86%A1_%EB%B0%8F_%ED%99%98%EB%B6%88.png?type=w860']\n",
      "팜앤쿡/중식상세/고품질 중화요리 홈파티밀키트 (3종)_양장피,고추잡채,해물누룽지탕/detail_고품질 중화요리 홈파티밀키트 (3종)_양장피,고추잡채,해물누룽지탕-8.jpg\n",
      "['https://shop-phinf.pstatic.net/20220214_258/1644805868703dXwgA_PNG/00_%EC%9D%B8%ED%8A%B8%EB%A1%9C%ED%8E%98%EC%9D%B4%EC%A7%80.png?type=w860', 'https://shop-phinf.pstatic.net/20220119_151/1642545979752TC5Tn_PNG/%EC%A4%91%ED%99%94%EC%9A%94%EB%A6%AC%ED%99%88%ED%8C%8C%ED%8B%B0_4-1.jpg.png?type=w860', 'https://shop-phinf.pstatic.net/20220112_283/1641947560515vfzG7_JPEG/%EA%B3%A0%EC%B6%94%EC%9E%A1%EC%B1%841-1.jpg?type=w860', 'https://shop-phinf.pstatic.net/20220112_134/16419475602140JY1v_JPEG/%EA%B3%A0%EC%B6%94%EC%9E%A1%EC%B1%841-2.jpg?type=w860', 'https://shop-phinf.pstatic.net/20220204_22/1643975352393E5C32_JPEG/%EA%B3%A0%EC%B6%94%EC%9E%A1%EC%B1%841-3.jpg?type=w860', 'https://shop-phinf.pstatic.net/20220112_148/1641947560222Dh7oB_JPEG/%EC%96%91%EC%9E%A5%ED%94%BC_01.jpg?type=w860', 'https://shop-phinf.pstatic.net/20220112_165/1641947560231ltF3i_JPEG/%EC%96%91%EC%9E%A5%ED%94%BC_02.jpg?type=w860', 'https://shop-phinf.pstatic.net/20220112_90/1641947560532RykA0_JPEG/%EC%96%91%EC%9E%A5%ED%94%BC_03.jpg?type=w860', 'https://shop-phinf.pstatic.net/20220204_90/16439753193932r606_JPEG/%ED%95%B4%EB%AC%BC%EB%88%84%EB%A3%BD%EC%A7%80%ED%83%95_1(%EC%9D%BC%EB%B0%98).jpg?type=w860', 'https://shop-phinf.pstatic.net/20220204_2/1643975319391v1fGJ_JPEG/%ED%95%B4%EB%AC%BC%EB%88%84%EB%A3%BD%EC%A7%80%ED%83%95_2(%EC%9D%BC%EB%B0%98).jpg?type=w860', 'https://shop-phinf.pstatic.net/20220209_142/1644364779287Qps9r_PNG/02_About_brand.jpg.png?type=w860', 'https://shop-phinf.pstatic.net/20220115_282/1642211620078eDaje_PNG/03_%EB%B0%B0%EC%86%A1_%EB%B0%8F_%ED%99%98%EB%B6%88.png?type=w860']\n",
      "팜앤쿡/중식상세/고품질 중화요리 홈파티밀키트 (3종)_양장피,고추잡채,해물누룽지탕/detail_고품질 중화요리 홈파티밀키트 (3종)_양장피,고추잡채,해물누룽지탕-9.jpg\n",
      "['https://shop-phinf.pstatic.net/20220214_258/1644805868703dXwgA_PNG/00_%EC%9D%B8%ED%8A%B8%EB%A1%9C%ED%8E%98%EC%9D%B4%EC%A7%80.png?type=w860', 'https://shop-phinf.pstatic.net/20220119_151/1642545979752TC5Tn_PNG/%EC%A4%91%ED%99%94%EC%9A%94%EB%A6%AC%ED%99%88%ED%8C%8C%ED%8B%B0_4-1.jpg.png?type=w860', 'https://shop-phinf.pstatic.net/20220112_283/1641947560515vfzG7_JPEG/%EA%B3%A0%EC%B6%94%EC%9E%A1%EC%B1%841-1.jpg?type=w860', 'https://shop-phinf.pstatic.net/20220112_134/16419475602140JY1v_JPEG/%EA%B3%A0%EC%B6%94%EC%9E%A1%EC%B1%841-2.jpg?type=w860', 'https://shop-phinf.pstatic.net/20220204_22/1643975352393E5C32_JPEG/%EA%B3%A0%EC%B6%94%EC%9E%A1%EC%B1%841-3.jpg?type=w860', 'https://shop-phinf.pstatic.net/20220112_148/1641947560222Dh7oB_JPEG/%EC%96%91%EC%9E%A5%ED%94%BC_01.jpg?type=w860', 'https://shop-phinf.pstatic.net/20220112_165/1641947560231ltF3i_JPEG/%EC%96%91%EC%9E%A5%ED%94%BC_02.jpg?type=w860', 'https://shop-phinf.pstatic.net/20220112_90/1641947560532RykA0_JPEG/%EC%96%91%EC%9E%A5%ED%94%BC_03.jpg?type=w860', 'https://shop-phinf.pstatic.net/20220204_90/16439753193932r606_JPEG/%ED%95%B4%EB%AC%BC%EB%88%84%EB%A3%BD%EC%A7%80%ED%83%95_1(%EC%9D%BC%EB%B0%98).jpg?type=w860', 'https://shop-phinf.pstatic.net/20220204_2/1643975319391v1fGJ_JPEG/%ED%95%B4%EB%AC%BC%EB%88%84%EB%A3%BD%EC%A7%80%ED%83%95_2(%EC%9D%BC%EB%B0%98).jpg?type=w860', 'https://shop-phinf.pstatic.net/20220209_142/1644364779287Qps9r_PNG/02_About_brand.jpg.png?type=w860', 'https://shop-phinf.pstatic.net/20220115_282/1642211620078eDaje_PNG/03_%EB%B0%B0%EC%86%A1_%EB%B0%8F_%ED%99%98%EB%B6%88.png?type=w860']\n",
      "팜앤쿡/중식상세/고품질 중화요리 홈파티밀키트 (3종)_양장피,고추잡채,해물누룽지탕/detail_고품질 중화요리 홈파티밀키트 (3종)_양장피,고추잡채,해물누룽지탕-10.jpg\n",
      "['https://shop-phinf.pstatic.net/20220214_258/1644805868703dXwgA_PNG/00_%EC%9D%B8%ED%8A%B8%EB%A1%9C%ED%8E%98%EC%9D%B4%EC%A7%80.png?type=w860', 'https://shop-phinf.pstatic.net/20220119_151/1642545979752TC5Tn_PNG/%EC%A4%91%ED%99%94%EC%9A%94%EB%A6%AC%ED%99%88%ED%8C%8C%ED%8B%B0_4-1.jpg.png?type=w860', 'https://shop-phinf.pstatic.net/20220112_283/1641947560515vfzG7_JPEG/%EA%B3%A0%EC%B6%94%EC%9E%A1%EC%B1%841-1.jpg?type=w860', 'https://shop-phinf.pstatic.net/20220112_134/16419475602140JY1v_JPEG/%EA%B3%A0%EC%B6%94%EC%9E%A1%EC%B1%841-2.jpg?type=w860', 'https://shop-phinf.pstatic.net/20220204_22/1643975352393E5C32_JPEG/%EA%B3%A0%EC%B6%94%EC%9E%A1%EC%B1%841-3.jpg?type=w860', 'https://shop-phinf.pstatic.net/20220112_148/1641947560222Dh7oB_JPEG/%EC%96%91%EC%9E%A5%ED%94%BC_01.jpg?type=w860', 'https://shop-phinf.pstatic.net/20220112_165/1641947560231ltF3i_JPEG/%EC%96%91%EC%9E%A5%ED%94%BC_02.jpg?type=w860', 'https://shop-phinf.pstatic.net/20220112_90/1641947560532RykA0_JPEG/%EC%96%91%EC%9E%A5%ED%94%BC_03.jpg?type=w860', 'https://shop-phinf.pstatic.net/20220204_90/16439753193932r606_JPEG/%ED%95%B4%EB%AC%BC%EB%88%84%EB%A3%BD%EC%A7%80%ED%83%95_1(%EC%9D%BC%EB%B0%98).jpg?type=w860', 'https://shop-phinf.pstatic.net/20220204_2/1643975319391v1fGJ_JPEG/%ED%95%B4%EB%AC%BC%EB%88%84%EB%A3%BD%EC%A7%80%ED%83%95_2(%EC%9D%BC%EB%B0%98).jpg?type=w860', 'https://shop-phinf.pstatic.net/20220209_142/1644364779287Qps9r_PNG/02_About_brand.jpg.png?type=w860', 'https://shop-phinf.pstatic.net/20220115_282/1642211620078eDaje_PNG/03_%EB%B0%B0%EC%86%A1_%EB%B0%8F_%ED%99%98%EB%B6%88.png?type=w860']\n",
      "팜앤쿡/중식상세/고품질 중화요리 홈파티밀키트 (3종)_양장피,고추잡채,해물누룽지탕/detail_고품질 중화요리 홈파티밀키트 (3종)_양장피,고추잡채,해물누룽지탕-11.jpg\n",
      "['https://shop-phinf.pstatic.net/20220214_258/1644805868703dXwgA_PNG/00_%EC%9D%B8%ED%8A%B8%EB%A1%9C%ED%8E%98%EC%9D%B4%EC%A7%80.png?type=w860', 'https://shop-phinf.pstatic.net/20220119_151/1642545979752TC5Tn_PNG/%EC%A4%91%ED%99%94%EC%9A%94%EB%A6%AC%ED%99%88%ED%8C%8C%ED%8B%B0_4-1.jpg.png?type=w860', 'https://shop-phinf.pstatic.net/20220112_283/1641947560515vfzG7_JPEG/%EA%B3%A0%EC%B6%94%EC%9E%A1%EC%B1%841-1.jpg?type=w860', 'https://shop-phinf.pstatic.net/20220112_134/16419475602140JY1v_JPEG/%EA%B3%A0%EC%B6%94%EC%9E%A1%EC%B1%841-2.jpg?type=w860', 'https://shop-phinf.pstatic.net/20220204_22/1643975352393E5C32_JPEG/%EA%B3%A0%EC%B6%94%EC%9E%A1%EC%B1%841-3.jpg?type=w860', 'https://shop-phinf.pstatic.net/20220112_148/1641947560222Dh7oB_JPEG/%EC%96%91%EC%9E%A5%ED%94%BC_01.jpg?type=w860', 'https://shop-phinf.pstatic.net/20220112_165/1641947560231ltF3i_JPEG/%EC%96%91%EC%9E%A5%ED%94%BC_02.jpg?type=w860', 'https://shop-phinf.pstatic.net/20220112_90/1641947560532RykA0_JPEG/%EC%96%91%EC%9E%A5%ED%94%BC_03.jpg?type=w860', 'https://shop-phinf.pstatic.net/20220204_90/16439753193932r606_JPEG/%ED%95%B4%EB%AC%BC%EB%88%84%EB%A3%BD%EC%A7%80%ED%83%95_1(%EC%9D%BC%EB%B0%98).jpg?type=w860', 'https://shop-phinf.pstatic.net/20220204_2/1643975319391v1fGJ_JPEG/%ED%95%B4%EB%AC%BC%EB%88%84%EB%A3%BD%EC%A7%80%ED%83%95_2(%EC%9D%BC%EB%B0%98).jpg?type=w860', 'https://shop-phinf.pstatic.net/20220209_142/1644364779287Qps9r_PNG/02_About_brand.jpg.png?type=w860', 'https://shop-phinf.pstatic.net/20220115_282/1642211620078eDaje_PNG/03_%EB%B0%B0%EC%86%A1_%EB%B0%8F_%ED%99%98%EB%B6%88.png?type=w860']\n",
      "팜앤쿡/중식상세/고품질 중화요리 밀키트 3종_해물누룽지탕,고추잡채,유산슬/detail_고품질 중화요리 밀키트 3종_해물누룽지탕,고추잡채,유산슬-0.jpg\n",
      "['https://shop-phinf.pstatic.net/20220214_123/1644806082305UE7Te_PNG/00_%EC%9D%B8%ED%8A%B8%EB%A1%9C%ED%8E%98%EC%9D%B4%EC%A7%80.png?type=w860', 'https://shop-phinf.pstatic.net/20220217_181/1645057067437JeP92_PNG/%EC%A4%91%ED%99%94%EC%9A%94%EB%A6%AC_3%EC%A2%85_intro_%EC%9C%A0%EC%82%B0%EC%8A%AC.png?type=w860', 'https://shop-phinf.pstatic.net/20220217_212/1645057085838Qo5vF_JPEG/%EA%B3%A0%EC%B6%94%EC%9E%A1%EC%B1%841-1.jpg?type=w860', 'https://shop-phinf.pstatic.net/20220102_48/16411051291080IDP4_JPEG/%EA%B3%A0%EC%B6%94%EC%9E%A1%EC%B1%841-2.jpg?type=w860', 'https://shop-phinf.pstatic.net/20220105_129/1641366261708T7MT0_JPEG/%EA%B3%A0%EC%B6%94%EC%9E%A1%EC%B1%841-3.jpg?type=w860', 'https://shop-phinf.pstatic.net/20220217_250/1645057108080PJsvn_JPEG/%EC%9C%A0%EC%82%B0%EC%8A%AC_01.jpg?type=w860', 'https://shop-phinf.pstatic.net/20220205_243/1644055086033Wh9ET_JPEG/%EC%9C%A0%EC%82%B0%EC%8A%AC_02.jpg?type=w860', 'https://shop-phinf.pstatic.net/20220217_129/16450571283587cWO0_JPEG/%ED%95%B4%EB%AC%BC%EB%88%84%EB%A3%BD%EC%A7%80%ED%83%95_1(%EC%9D%BC%EB%B0%98).jpg?type=w860', 'https://shop-phinf.pstatic.net/20220130_28/1643539301582KhD30_JPEG/%ED%95%B4%EB%AC%BC%EB%88%84%EB%A3%BD%EC%A7%80%ED%83%95_2(%EC%9D%BC%EB%B0%98).jpg?type=w860', 'https://shop-phinf.pstatic.net/20220130_196/16435393014621OHtc_JPEG/%ED%95%B4%EB%AC%BC%EB%88%84%EB%A3%BD%EC%A7%80%ED%83%95_3(%EC%9D%BC%EB%B0%98).jpg?type=w860', 'https://shop-phinf.pstatic.net/20220209_209/1644363859233h8YJa_PNG/02_About_brand.jpg.png?type=w860', 'https://shop-phinf.pstatic.net/20220115_248/1642211885146w4mxb_PNG/03_%EB%B0%B0%EC%86%A1_%EB%B0%8F_%ED%99%98%EB%B6%88.png?type=w860']\n",
      "팜앤쿡/중식상세/고품질 중화요리 밀키트 3종_해물누룽지탕,고추잡채,유산슬/detail_고품질 중화요리 밀키트 3종_해물누룽지탕,고추잡채,유산슬-1.jpg\n",
      "['https://shop-phinf.pstatic.net/20220214_123/1644806082305UE7Te_PNG/00_%EC%9D%B8%ED%8A%B8%EB%A1%9C%ED%8E%98%EC%9D%B4%EC%A7%80.png?type=w860', 'https://shop-phinf.pstatic.net/20220217_181/1645057067437JeP92_PNG/%EC%A4%91%ED%99%94%EC%9A%94%EB%A6%AC_3%EC%A2%85_intro_%EC%9C%A0%EC%82%B0%EC%8A%AC.png?type=w860', 'https://shop-phinf.pstatic.net/20220217_212/1645057085838Qo5vF_JPEG/%EA%B3%A0%EC%B6%94%EC%9E%A1%EC%B1%841-1.jpg?type=w860', 'https://shop-phinf.pstatic.net/20220102_48/16411051291080IDP4_JPEG/%EA%B3%A0%EC%B6%94%EC%9E%A1%EC%B1%841-2.jpg?type=w860', 'https://shop-phinf.pstatic.net/20220105_129/1641366261708T7MT0_JPEG/%EA%B3%A0%EC%B6%94%EC%9E%A1%EC%B1%841-3.jpg?type=w860', 'https://shop-phinf.pstatic.net/20220217_250/1645057108080PJsvn_JPEG/%EC%9C%A0%EC%82%B0%EC%8A%AC_01.jpg?type=w860', 'https://shop-phinf.pstatic.net/20220205_243/1644055086033Wh9ET_JPEG/%EC%9C%A0%EC%82%B0%EC%8A%AC_02.jpg?type=w860', 'https://shop-phinf.pstatic.net/20220217_129/16450571283587cWO0_JPEG/%ED%95%B4%EB%AC%BC%EB%88%84%EB%A3%BD%EC%A7%80%ED%83%95_1(%EC%9D%BC%EB%B0%98).jpg?type=w860', 'https://shop-phinf.pstatic.net/20220130_28/1643539301582KhD30_JPEG/%ED%95%B4%EB%AC%BC%EB%88%84%EB%A3%BD%EC%A7%80%ED%83%95_2(%EC%9D%BC%EB%B0%98).jpg?type=w860', 'https://shop-phinf.pstatic.net/20220130_196/16435393014621OHtc_JPEG/%ED%95%B4%EB%AC%BC%EB%88%84%EB%A3%BD%EC%A7%80%ED%83%95_3(%EC%9D%BC%EB%B0%98).jpg?type=w860', 'https://shop-phinf.pstatic.net/20220209_209/1644363859233h8YJa_PNG/02_About_brand.jpg.png?type=w860', 'https://shop-phinf.pstatic.net/20220115_248/1642211885146w4mxb_PNG/03_%EB%B0%B0%EC%86%A1_%EB%B0%8F_%ED%99%98%EB%B6%88.png?type=w860']\n",
      "팜앤쿡/중식상세/고품질 중화요리 밀키트 3종_해물누룽지탕,고추잡채,유산슬/detail_고품질 중화요리 밀키트 3종_해물누룽지탕,고추잡채,유산슬-2.jpg\n",
      "['https://shop-phinf.pstatic.net/20220214_123/1644806082305UE7Te_PNG/00_%EC%9D%B8%ED%8A%B8%EB%A1%9C%ED%8E%98%EC%9D%B4%EC%A7%80.png?type=w860', 'https://shop-phinf.pstatic.net/20220217_181/1645057067437JeP92_PNG/%EC%A4%91%ED%99%94%EC%9A%94%EB%A6%AC_3%EC%A2%85_intro_%EC%9C%A0%EC%82%B0%EC%8A%AC.png?type=w860', 'https://shop-phinf.pstatic.net/20220217_212/1645057085838Qo5vF_JPEG/%EA%B3%A0%EC%B6%94%EC%9E%A1%EC%B1%841-1.jpg?type=w860', 'https://shop-phinf.pstatic.net/20220102_48/16411051291080IDP4_JPEG/%EA%B3%A0%EC%B6%94%EC%9E%A1%EC%B1%841-2.jpg?type=w860', 'https://shop-phinf.pstatic.net/20220105_129/1641366261708T7MT0_JPEG/%EA%B3%A0%EC%B6%94%EC%9E%A1%EC%B1%841-3.jpg?type=w860', 'https://shop-phinf.pstatic.net/20220217_250/1645057108080PJsvn_JPEG/%EC%9C%A0%EC%82%B0%EC%8A%AC_01.jpg?type=w860', 'https://shop-phinf.pstatic.net/20220205_243/1644055086033Wh9ET_JPEG/%EC%9C%A0%EC%82%B0%EC%8A%AC_02.jpg?type=w860', 'https://shop-phinf.pstatic.net/20220217_129/16450571283587cWO0_JPEG/%ED%95%B4%EB%AC%BC%EB%88%84%EB%A3%BD%EC%A7%80%ED%83%95_1(%EC%9D%BC%EB%B0%98).jpg?type=w860', 'https://shop-phinf.pstatic.net/20220130_28/1643539301582KhD30_JPEG/%ED%95%B4%EB%AC%BC%EB%88%84%EB%A3%BD%EC%A7%80%ED%83%95_2(%EC%9D%BC%EB%B0%98).jpg?type=w860', 'https://shop-phinf.pstatic.net/20220130_196/16435393014621OHtc_JPEG/%ED%95%B4%EB%AC%BC%EB%88%84%EB%A3%BD%EC%A7%80%ED%83%95_3(%EC%9D%BC%EB%B0%98).jpg?type=w860', 'https://shop-phinf.pstatic.net/20220209_209/1644363859233h8YJa_PNG/02_About_brand.jpg.png?type=w860', 'https://shop-phinf.pstatic.net/20220115_248/1642211885146w4mxb_PNG/03_%EB%B0%B0%EC%86%A1_%EB%B0%8F_%ED%99%98%EB%B6%88.png?type=w860']\n",
      "팜앤쿡/중식상세/고품질 중화요리 밀키트 3종_해물누룽지탕,고추잡채,유산슬/detail_고품질 중화요리 밀키트 3종_해물누룽지탕,고추잡채,유산슬-3.jpg\n",
      "['https://shop-phinf.pstatic.net/20220214_123/1644806082305UE7Te_PNG/00_%EC%9D%B8%ED%8A%B8%EB%A1%9C%ED%8E%98%EC%9D%B4%EC%A7%80.png?type=w860', 'https://shop-phinf.pstatic.net/20220217_181/1645057067437JeP92_PNG/%EC%A4%91%ED%99%94%EC%9A%94%EB%A6%AC_3%EC%A2%85_intro_%EC%9C%A0%EC%82%B0%EC%8A%AC.png?type=w860', 'https://shop-phinf.pstatic.net/20220217_212/1645057085838Qo5vF_JPEG/%EA%B3%A0%EC%B6%94%EC%9E%A1%EC%B1%841-1.jpg?type=w860', 'https://shop-phinf.pstatic.net/20220102_48/16411051291080IDP4_JPEG/%EA%B3%A0%EC%B6%94%EC%9E%A1%EC%B1%841-2.jpg?type=w860', 'https://shop-phinf.pstatic.net/20220105_129/1641366261708T7MT0_JPEG/%EA%B3%A0%EC%B6%94%EC%9E%A1%EC%B1%841-3.jpg?type=w860', 'https://shop-phinf.pstatic.net/20220217_250/1645057108080PJsvn_JPEG/%EC%9C%A0%EC%82%B0%EC%8A%AC_01.jpg?type=w860', 'https://shop-phinf.pstatic.net/20220205_243/1644055086033Wh9ET_JPEG/%EC%9C%A0%EC%82%B0%EC%8A%AC_02.jpg?type=w860', 'https://shop-phinf.pstatic.net/20220217_129/16450571283587cWO0_JPEG/%ED%95%B4%EB%AC%BC%EB%88%84%EB%A3%BD%EC%A7%80%ED%83%95_1(%EC%9D%BC%EB%B0%98).jpg?type=w860', 'https://shop-phinf.pstatic.net/20220130_28/1643539301582KhD30_JPEG/%ED%95%B4%EB%AC%BC%EB%88%84%EB%A3%BD%EC%A7%80%ED%83%95_2(%EC%9D%BC%EB%B0%98).jpg?type=w860', 'https://shop-phinf.pstatic.net/20220130_196/16435393014621OHtc_JPEG/%ED%95%B4%EB%AC%BC%EB%88%84%EB%A3%BD%EC%A7%80%ED%83%95_3(%EC%9D%BC%EB%B0%98).jpg?type=w860', 'https://shop-phinf.pstatic.net/20220209_209/1644363859233h8YJa_PNG/02_About_brand.jpg.png?type=w860', 'https://shop-phinf.pstatic.net/20220115_248/1642211885146w4mxb_PNG/03_%EB%B0%B0%EC%86%A1_%EB%B0%8F_%ED%99%98%EB%B6%88.png?type=w860']\n",
      "팜앤쿡/중식상세/고품질 중화요리 밀키트 3종_해물누룽지탕,고추잡채,유산슬/detail_고품질 중화요리 밀키트 3종_해물누룽지탕,고추잡채,유산슬-4.jpg\n",
      "['https://shop-phinf.pstatic.net/20220214_123/1644806082305UE7Te_PNG/00_%EC%9D%B8%ED%8A%B8%EB%A1%9C%ED%8E%98%EC%9D%B4%EC%A7%80.png?type=w860', 'https://shop-phinf.pstatic.net/20220217_181/1645057067437JeP92_PNG/%EC%A4%91%ED%99%94%EC%9A%94%EB%A6%AC_3%EC%A2%85_intro_%EC%9C%A0%EC%82%B0%EC%8A%AC.png?type=w860', 'https://shop-phinf.pstatic.net/20220217_212/1645057085838Qo5vF_JPEG/%EA%B3%A0%EC%B6%94%EC%9E%A1%EC%B1%841-1.jpg?type=w860', 'https://shop-phinf.pstatic.net/20220102_48/16411051291080IDP4_JPEG/%EA%B3%A0%EC%B6%94%EC%9E%A1%EC%B1%841-2.jpg?type=w860', 'https://shop-phinf.pstatic.net/20220105_129/1641366261708T7MT0_JPEG/%EA%B3%A0%EC%B6%94%EC%9E%A1%EC%B1%841-3.jpg?type=w860', 'https://shop-phinf.pstatic.net/20220217_250/1645057108080PJsvn_JPEG/%EC%9C%A0%EC%82%B0%EC%8A%AC_01.jpg?type=w860', 'https://shop-phinf.pstatic.net/20220205_243/1644055086033Wh9ET_JPEG/%EC%9C%A0%EC%82%B0%EC%8A%AC_02.jpg?type=w860', 'https://shop-phinf.pstatic.net/20220217_129/16450571283587cWO0_JPEG/%ED%95%B4%EB%AC%BC%EB%88%84%EB%A3%BD%EC%A7%80%ED%83%95_1(%EC%9D%BC%EB%B0%98).jpg?type=w860', 'https://shop-phinf.pstatic.net/20220130_28/1643539301582KhD30_JPEG/%ED%95%B4%EB%AC%BC%EB%88%84%EB%A3%BD%EC%A7%80%ED%83%95_2(%EC%9D%BC%EB%B0%98).jpg?type=w860', 'https://shop-phinf.pstatic.net/20220130_196/16435393014621OHtc_JPEG/%ED%95%B4%EB%AC%BC%EB%88%84%EB%A3%BD%EC%A7%80%ED%83%95_3(%EC%9D%BC%EB%B0%98).jpg?type=w860', 'https://shop-phinf.pstatic.net/20220209_209/1644363859233h8YJa_PNG/02_About_brand.jpg.png?type=w860', 'https://shop-phinf.pstatic.net/20220115_248/1642211885146w4mxb_PNG/03_%EB%B0%B0%EC%86%A1_%EB%B0%8F_%ED%99%98%EB%B6%88.png?type=w860']\n",
      "팜앤쿡/중식상세/고품질 중화요리 밀키트 3종_해물누룽지탕,고추잡채,유산슬/detail_고품질 중화요리 밀키트 3종_해물누룽지탕,고추잡채,유산슬-5.jpg\n",
      "['https://shop-phinf.pstatic.net/20220214_123/1644806082305UE7Te_PNG/00_%EC%9D%B8%ED%8A%B8%EB%A1%9C%ED%8E%98%EC%9D%B4%EC%A7%80.png?type=w860', 'https://shop-phinf.pstatic.net/20220217_181/1645057067437JeP92_PNG/%EC%A4%91%ED%99%94%EC%9A%94%EB%A6%AC_3%EC%A2%85_intro_%EC%9C%A0%EC%82%B0%EC%8A%AC.png?type=w860', 'https://shop-phinf.pstatic.net/20220217_212/1645057085838Qo5vF_JPEG/%EA%B3%A0%EC%B6%94%EC%9E%A1%EC%B1%841-1.jpg?type=w860', 'https://shop-phinf.pstatic.net/20220102_48/16411051291080IDP4_JPEG/%EA%B3%A0%EC%B6%94%EC%9E%A1%EC%B1%841-2.jpg?type=w860', 'https://shop-phinf.pstatic.net/20220105_129/1641366261708T7MT0_JPEG/%EA%B3%A0%EC%B6%94%EC%9E%A1%EC%B1%841-3.jpg?type=w860', 'https://shop-phinf.pstatic.net/20220217_250/1645057108080PJsvn_JPEG/%EC%9C%A0%EC%82%B0%EC%8A%AC_01.jpg?type=w860', 'https://shop-phinf.pstatic.net/20220205_243/1644055086033Wh9ET_JPEG/%EC%9C%A0%EC%82%B0%EC%8A%AC_02.jpg?type=w860', 'https://shop-phinf.pstatic.net/20220217_129/16450571283587cWO0_JPEG/%ED%95%B4%EB%AC%BC%EB%88%84%EB%A3%BD%EC%A7%80%ED%83%95_1(%EC%9D%BC%EB%B0%98).jpg?type=w860', 'https://shop-phinf.pstatic.net/20220130_28/1643539301582KhD30_JPEG/%ED%95%B4%EB%AC%BC%EB%88%84%EB%A3%BD%EC%A7%80%ED%83%95_2(%EC%9D%BC%EB%B0%98).jpg?type=w860', 'https://shop-phinf.pstatic.net/20220130_196/16435393014621OHtc_JPEG/%ED%95%B4%EB%AC%BC%EB%88%84%EB%A3%BD%EC%A7%80%ED%83%95_3(%EC%9D%BC%EB%B0%98).jpg?type=w860', 'https://shop-phinf.pstatic.net/20220209_209/1644363859233h8YJa_PNG/02_About_brand.jpg.png?type=w860', 'https://shop-phinf.pstatic.net/20220115_248/1642211885146w4mxb_PNG/03_%EB%B0%B0%EC%86%A1_%EB%B0%8F_%ED%99%98%EB%B6%88.png?type=w860']\n",
      "팜앤쿡/중식상세/고품질 중화요리 밀키트 3종_해물누룽지탕,고추잡채,유산슬/detail_고품질 중화요리 밀키트 3종_해물누룽지탕,고추잡채,유산슬-6.jpg\n",
      "['https://shop-phinf.pstatic.net/20220214_123/1644806082305UE7Te_PNG/00_%EC%9D%B8%ED%8A%B8%EB%A1%9C%ED%8E%98%EC%9D%B4%EC%A7%80.png?type=w860', 'https://shop-phinf.pstatic.net/20220217_181/1645057067437JeP92_PNG/%EC%A4%91%ED%99%94%EC%9A%94%EB%A6%AC_3%EC%A2%85_intro_%EC%9C%A0%EC%82%B0%EC%8A%AC.png?type=w860', 'https://shop-phinf.pstatic.net/20220217_212/1645057085838Qo5vF_JPEG/%EA%B3%A0%EC%B6%94%EC%9E%A1%EC%B1%841-1.jpg?type=w860', 'https://shop-phinf.pstatic.net/20220102_48/16411051291080IDP4_JPEG/%EA%B3%A0%EC%B6%94%EC%9E%A1%EC%B1%841-2.jpg?type=w860', 'https://shop-phinf.pstatic.net/20220105_129/1641366261708T7MT0_JPEG/%EA%B3%A0%EC%B6%94%EC%9E%A1%EC%B1%841-3.jpg?type=w860', 'https://shop-phinf.pstatic.net/20220217_250/1645057108080PJsvn_JPEG/%EC%9C%A0%EC%82%B0%EC%8A%AC_01.jpg?type=w860', 'https://shop-phinf.pstatic.net/20220205_243/1644055086033Wh9ET_JPEG/%EC%9C%A0%EC%82%B0%EC%8A%AC_02.jpg?type=w860', 'https://shop-phinf.pstatic.net/20220217_129/16450571283587cWO0_JPEG/%ED%95%B4%EB%AC%BC%EB%88%84%EB%A3%BD%EC%A7%80%ED%83%95_1(%EC%9D%BC%EB%B0%98).jpg?type=w860', 'https://shop-phinf.pstatic.net/20220130_28/1643539301582KhD30_JPEG/%ED%95%B4%EB%AC%BC%EB%88%84%EB%A3%BD%EC%A7%80%ED%83%95_2(%EC%9D%BC%EB%B0%98).jpg?type=w860', 'https://shop-phinf.pstatic.net/20220130_196/16435393014621OHtc_JPEG/%ED%95%B4%EB%AC%BC%EB%88%84%EB%A3%BD%EC%A7%80%ED%83%95_3(%EC%9D%BC%EB%B0%98).jpg?type=w860', 'https://shop-phinf.pstatic.net/20220209_209/1644363859233h8YJa_PNG/02_About_brand.jpg.png?type=w860', 'https://shop-phinf.pstatic.net/20220115_248/1642211885146w4mxb_PNG/03_%EB%B0%B0%EC%86%A1_%EB%B0%8F_%ED%99%98%EB%B6%88.png?type=w860']\n",
      "팜앤쿡/중식상세/고품질 중화요리 밀키트 3종_해물누룽지탕,고추잡채,유산슬/detail_고품질 중화요리 밀키트 3종_해물누룽지탕,고추잡채,유산슬-7.jpg\n",
      "['https://shop-phinf.pstatic.net/20220214_123/1644806082305UE7Te_PNG/00_%EC%9D%B8%ED%8A%B8%EB%A1%9C%ED%8E%98%EC%9D%B4%EC%A7%80.png?type=w860', 'https://shop-phinf.pstatic.net/20220217_181/1645057067437JeP92_PNG/%EC%A4%91%ED%99%94%EC%9A%94%EB%A6%AC_3%EC%A2%85_intro_%EC%9C%A0%EC%82%B0%EC%8A%AC.png?type=w860', 'https://shop-phinf.pstatic.net/20220217_212/1645057085838Qo5vF_JPEG/%EA%B3%A0%EC%B6%94%EC%9E%A1%EC%B1%841-1.jpg?type=w860', 'https://shop-phinf.pstatic.net/20220102_48/16411051291080IDP4_JPEG/%EA%B3%A0%EC%B6%94%EC%9E%A1%EC%B1%841-2.jpg?type=w860', 'https://shop-phinf.pstatic.net/20220105_129/1641366261708T7MT0_JPEG/%EA%B3%A0%EC%B6%94%EC%9E%A1%EC%B1%841-3.jpg?type=w860', 'https://shop-phinf.pstatic.net/20220217_250/1645057108080PJsvn_JPEG/%EC%9C%A0%EC%82%B0%EC%8A%AC_01.jpg?type=w860', 'https://shop-phinf.pstatic.net/20220205_243/1644055086033Wh9ET_JPEG/%EC%9C%A0%EC%82%B0%EC%8A%AC_02.jpg?type=w860', 'https://shop-phinf.pstatic.net/20220217_129/16450571283587cWO0_JPEG/%ED%95%B4%EB%AC%BC%EB%88%84%EB%A3%BD%EC%A7%80%ED%83%95_1(%EC%9D%BC%EB%B0%98).jpg?type=w860', 'https://shop-phinf.pstatic.net/20220130_28/1643539301582KhD30_JPEG/%ED%95%B4%EB%AC%BC%EB%88%84%EB%A3%BD%EC%A7%80%ED%83%95_2(%EC%9D%BC%EB%B0%98).jpg?type=w860', 'https://shop-phinf.pstatic.net/20220130_196/16435393014621OHtc_JPEG/%ED%95%B4%EB%AC%BC%EB%88%84%EB%A3%BD%EC%A7%80%ED%83%95_3(%EC%9D%BC%EB%B0%98).jpg?type=w860', 'https://shop-phinf.pstatic.net/20220209_209/1644363859233h8YJa_PNG/02_About_brand.jpg.png?type=w860', 'https://shop-phinf.pstatic.net/20220115_248/1642211885146w4mxb_PNG/03_%EB%B0%B0%EC%86%A1_%EB%B0%8F_%ED%99%98%EB%B6%88.png?type=w860']\n",
      "팜앤쿡/중식상세/고품질 중화요리 밀키트 3종_해물누룽지탕,고추잡채,유산슬/detail_고품질 중화요리 밀키트 3종_해물누룽지탕,고추잡채,유산슬-8.jpg\n",
      "['https://shop-phinf.pstatic.net/20220214_123/1644806082305UE7Te_PNG/00_%EC%9D%B8%ED%8A%B8%EB%A1%9C%ED%8E%98%EC%9D%B4%EC%A7%80.png?type=w860', 'https://shop-phinf.pstatic.net/20220217_181/1645057067437JeP92_PNG/%EC%A4%91%ED%99%94%EC%9A%94%EB%A6%AC_3%EC%A2%85_intro_%EC%9C%A0%EC%82%B0%EC%8A%AC.png?type=w860', 'https://shop-phinf.pstatic.net/20220217_212/1645057085838Qo5vF_JPEG/%EA%B3%A0%EC%B6%94%EC%9E%A1%EC%B1%841-1.jpg?type=w860', 'https://shop-phinf.pstatic.net/20220102_48/16411051291080IDP4_JPEG/%EA%B3%A0%EC%B6%94%EC%9E%A1%EC%B1%841-2.jpg?type=w860', 'https://shop-phinf.pstatic.net/20220105_129/1641366261708T7MT0_JPEG/%EA%B3%A0%EC%B6%94%EC%9E%A1%EC%B1%841-3.jpg?type=w860', 'https://shop-phinf.pstatic.net/20220217_250/1645057108080PJsvn_JPEG/%EC%9C%A0%EC%82%B0%EC%8A%AC_01.jpg?type=w860', 'https://shop-phinf.pstatic.net/20220205_243/1644055086033Wh9ET_JPEG/%EC%9C%A0%EC%82%B0%EC%8A%AC_02.jpg?type=w860', 'https://shop-phinf.pstatic.net/20220217_129/16450571283587cWO0_JPEG/%ED%95%B4%EB%AC%BC%EB%88%84%EB%A3%BD%EC%A7%80%ED%83%95_1(%EC%9D%BC%EB%B0%98).jpg?type=w860', 'https://shop-phinf.pstatic.net/20220130_28/1643539301582KhD30_JPEG/%ED%95%B4%EB%AC%BC%EB%88%84%EB%A3%BD%EC%A7%80%ED%83%95_2(%EC%9D%BC%EB%B0%98).jpg?type=w860', 'https://shop-phinf.pstatic.net/20220130_196/16435393014621OHtc_JPEG/%ED%95%B4%EB%AC%BC%EB%88%84%EB%A3%BD%EC%A7%80%ED%83%95_3(%EC%9D%BC%EB%B0%98).jpg?type=w860', 'https://shop-phinf.pstatic.net/20220209_209/1644363859233h8YJa_PNG/02_About_brand.jpg.png?type=w860', 'https://shop-phinf.pstatic.net/20220115_248/1642211885146w4mxb_PNG/03_%EB%B0%B0%EC%86%A1_%EB%B0%8F_%ED%99%98%EB%B6%88.png?type=w860']\n",
      "팜앤쿡/중식상세/고품질 중화요리 밀키트 3종_해물누룽지탕,고추잡채,유산슬/detail_고품질 중화요리 밀키트 3종_해물누룽지탕,고추잡채,유산슬-9.jpg\n",
      "['https://shop-phinf.pstatic.net/20220214_123/1644806082305UE7Te_PNG/00_%EC%9D%B8%ED%8A%B8%EB%A1%9C%ED%8E%98%EC%9D%B4%EC%A7%80.png?type=w860', 'https://shop-phinf.pstatic.net/20220217_181/1645057067437JeP92_PNG/%EC%A4%91%ED%99%94%EC%9A%94%EB%A6%AC_3%EC%A2%85_intro_%EC%9C%A0%EC%82%B0%EC%8A%AC.png?type=w860', 'https://shop-phinf.pstatic.net/20220217_212/1645057085838Qo5vF_JPEG/%EA%B3%A0%EC%B6%94%EC%9E%A1%EC%B1%841-1.jpg?type=w860', 'https://shop-phinf.pstatic.net/20220102_48/16411051291080IDP4_JPEG/%EA%B3%A0%EC%B6%94%EC%9E%A1%EC%B1%841-2.jpg?type=w860', 'https://shop-phinf.pstatic.net/20220105_129/1641366261708T7MT0_JPEG/%EA%B3%A0%EC%B6%94%EC%9E%A1%EC%B1%841-3.jpg?type=w860', 'https://shop-phinf.pstatic.net/20220217_250/1645057108080PJsvn_JPEG/%EC%9C%A0%EC%82%B0%EC%8A%AC_01.jpg?type=w860', 'https://shop-phinf.pstatic.net/20220205_243/1644055086033Wh9ET_JPEG/%EC%9C%A0%EC%82%B0%EC%8A%AC_02.jpg?type=w860', 'https://shop-phinf.pstatic.net/20220217_129/16450571283587cWO0_JPEG/%ED%95%B4%EB%AC%BC%EB%88%84%EB%A3%BD%EC%A7%80%ED%83%95_1(%EC%9D%BC%EB%B0%98).jpg?type=w860', 'https://shop-phinf.pstatic.net/20220130_28/1643539301582KhD30_JPEG/%ED%95%B4%EB%AC%BC%EB%88%84%EB%A3%BD%EC%A7%80%ED%83%95_2(%EC%9D%BC%EB%B0%98).jpg?type=w860', 'https://shop-phinf.pstatic.net/20220130_196/16435393014621OHtc_JPEG/%ED%95%B4%EB%AC%BC%EB%88%84%EB%A3%BD%EC%A7%80%ED%83%95_3(%EC%9D%BC%EB%B0%98).jpg?type=w860', 'https://shop-phinf.pstatic.net/20220209_209/1644363859233h8YJa_PNG/02_About_brand.jpg.png?type=w860', 'https://shop-phinf.pstatic.net/20220115_248/1642211885146w4mxb_PNG/03_%EB%B0%B0%EC%86%A1_%EB%B0%8F_%ED%99%98%EB%B6%88.png?type=w860']\n",
      "팜앤쿡/중식상세/고품질 중화요리 밀키트 3종_해물누룽지탕,고추잡채,유산슬/detail_고품질 중화요리 밀키트 3종_해물누룽지탕,고추잡채,유산슬-10.jpg\n",
      "['https://shop-phinf.pstatic.net/20220214_123/1644806082305UE7Te_PNG/00_%EC%9D%B8%ED%8A%B8%EB%A1%9C%ED%8E%98%EC%9D%B4%EC%A7%80.png?type=w860', 'https://shop-phinf.pstatic.net/20220217_181/1645057067437JeP92_PNG/%EC%A4%91%ED%99%94%EC%9A%94%EB%A6%AC_3%EC%A2%85_intro_%EC%9C%A0%EC%82%B0%EC%8A%AC.png?type=w860', 'https://shop-phinf.pstatic.net/20220217_212/1645057085838Qo5vF_JPEG/%EA%B3%A0%EC%B6%94%EC%9E%A1%EC%B1%841-1.jpg?type=w860', 'https://shop-phinf.pstatic.net/20220102_48/16411051291080IDP4_JPEG/%EA%B3%A0%EC%B6%94%EC%9E%A1%EC%B1%841-2.jpg?type=w860', 'https://shop-phinf.pstatic.net/20220105_129/1641366261708T7MT0_JPEG/%EA%B3%A0%EC%B6%94%EC%9E%A1%EC%B1%841-3.jpg?type=w860', 'https://shop-phinf.pstatic.net/20220217_250/1645057108080PJsvn_JPEG/%EC%9C%A0%EC%82%B0%EC%8A%AC_01.jpg?type=w860', 'https://shop-phinf.pstatic.net/20220205_243/1644055086033Wh9ET_JPEG/%EC%9C%A0%EC%82%B0%EC%8A%AC_02.jpg?type=w860', 'https://shop-phinf.pstatic.net/20220217_129/16450571283587cWO0_JPEG/%ED%95%B4%EB%AC%BC%EB%88%84%EB%A3%BD%EC%A7%80%ED%83%95_1(%EC%9D%BC%EB%B0%98).jpg?type=w860', 'https://shop-phinf.pstatic.net/20220130_28/1643539301582KhD30_JPEG/%ED%95%B4%EB%AC%BC%EB%88%84%EB%A3%BD%EC%A7%80%ED%83%95_2(%EC%9D%BC%EB%B0%98).jpg?type=w860', 'https://shop-phinf.pstatic.net/20220130_196/16435393014621OHtc_JPEG/%ED%95%B4%EB%AC%BC%EB%88%84%EB%A3%BD%EC%A7%80%ED%83%95_3(%EC%9D%BC%EB%B0%98).jpg?type=w860', 'https://shop-phinf.pstatic.net/20220209_209/1644363859233h8YJa_PNG/02_About_brand.jpg.png?type=w860', 'https://shop-phinf.pstatic.net/20220115_248/1642211885146w4mxb_PNG/03_%EB%B0%B0%EC%86%A1_%EB%B0%8F_%ED%99%98%EB%B6%88.png?type=w860']\n",
      "팜앤쿡/중식상세/고품질 중화요리 밀키트 3종_해물누룽지탕,고추잡채,유산슬/detail_고품질 중화요리 밀키트 3종_해물누룽지탕,고추잡채,유산슬-11.jpg\n",
      "['https://shop-phinf.pstatic.net/20220214_123/1644806082305UE7Te_PNG/00_%EC%9D%B8%ED%8A%B8%EB%A1%9C%ED%8E%98%EC%9D%B4%EC%A7%80.png?type=w860', 'https://shop-phinf.pstatic.net/20220217_181/1645057067437JeP92_PNG/%EC%A4%91%ED%99%94%EC%9A%94%EB%A6%AC_3%EC%A2%85_intro_%EC%9C%A0%EC%82%B0%EC%8A%AC.png?type=w860', 'https://shop-phinf.pstatic.net/20220217_212/1645057085838Qo5vF_JPEG/%EA%B3%A0%EC%B6%94%EC%9E%A1%EC%B1%841-1.jpg?type=w860', 'https://shop-phinf.pstatic.net/20220102_48/16411051291080IDP4_JPEG/%EA%B3%A0%EC%B6%94%EC%9E%A1%EC%B1%841-2.jpg?type=w860', 'https://shop-phinf.pstatic.net/20220105_129/1641366261708T7MT0_JPEG/%EA%B3%A0%EC%B6%94%EC%9E%A1%EC%B1%841-3.jpg?type=w860', 'https://shop-phinf.pstatic.net/20220217_250/1645057108080PJsvn_JPEG/%EC%9C%A0%EC%82%B0%EC%8A%AC_01.jpg?type=w860', 'https://shop-phinf.pstatic.net/20220205_243/1644055086033Wh9ET_JPEG/%EC%9C%A0%EC%82%B0%EC%8A%AC_02.jpg?type=w860', 'https://shop-phinf.pstatic.net/20220217_129/16450571283587cWO0_JPEG/%ED%95%B4%EB%AC%BC%EB%88%84%EB%A3%BD%EC%A7%80%ED%83%95_1(%EC%9D%BC%EB%B0%98).jpg?type=w860', 'https://shop-phinf.pstatic.net/20220130_28/1643539301582KhD30_JPEG/%ED%95%B4%EB%AC%BC%EB%88%84%EB%A3%BD%EC%A7%80%ED%83%95_2(%EC%9D%BC%EB%B0%98).jpg?type=w860', 'https://shop-phinf.pstatic.net/20220130_196/16435393014621OHtc_JPEG/%ED%95%B4%EB%AC%BC%EB%88%84%EB%A3%BD%EC%A7%80%ED%83%95_3(%EC%9D%BC%EB%B0%98).jpg?type=w860', 'https://shop-phinf.pstatic.net/20220209_209/1644363859233h8YJa_PNG/02_About_brand.jpg.png?type=w860', 'https://shop-phinf.pstatic.net/20220115_248/1642211885146w4mxb_PNG/03_%EB%B0%B0%EC%86%A1_%EB%B0%8F_%ED%99%98%EB%B6%88.png?type=w860']\n",
      "팜앤쿡/중식상세/딤섬전골 밀키트 (홈파티,생일상)/detail_딤섬전골 밀키트 (홈파티,생일상)-0.jpg\n",
      "['https://shop-phinf.pstatic.net/20220214_277/1644806747387bSsBC_PNG/00_%EC%9D%B8%ED%8A%B8%EB%A1%9C%ED%8E%98%EC%9D%B4%EC%A7%80.png?type=w860', 'https://shop-phinf.pstatic.net/20220109_110/1641719334331n3IWj_JPEG/%EB%94%A4%EC%84%AC%EC%A0%84%EA%B3%A8_01.jpg?type=w860', 'https://shop-phinf.pstatic.net/20220107_156/1641512094373LAblq_JPEG/%EB%94%A4%EC%84%AC%EC%A0%84%EA%B3%A8_02.jpg?type=w860', 'https://shop-phinf.pstatic.net/20220209_18/1644363317642T8wUn_PNG/02_About_brand.jpg.png?type=w860', 'https://shop-phinf.pstatic.net/20220115_235/1642212887661KYrKV_PNG/03_%EB%B0%B0%EC%86%A1_%EB%B0%8F_%ED%99%98%EB%B6%88.png?type=w860']\n",
      "팜앤쿡/중식상세/딤섬전골 밀키트 (홈파티,생일상)/detail_딤섬전골 밀키트 (홈파티,생일상)-1.jpg\n",
      "['https://shop-phinf.pstatic.net/20220214_277/1644806747387bSsBC_PNG/00_%EC%9D%B8%ED%8A%B8%EB%A1%9C%ED%8E%98%EC%9D%B4%EC%A7%80.png?type=w860', 'https://shop-phinf.pstatic.net/20220109_110/1641719334331n3IWj_JPEG/%EB%94%A4%EC%84%AC%EC%A0%84%EA%B3%A8_01.jpg?type=w860', 'https://shop-phinf.pstatic.net/20220107_156/1641512094373LAblq_JPEG/%EB%94%A4%EC%84%AC%EC%A0%84%EA%B3%A8_02.jpg?type=w860', 'https://shop-phinf.pstatic.net/20220209_18/1644363317642T8wUn_PNG/02_About_brand.jpg.png?type=w860', 'https://shop-phinf.pstatic.net/20220115_235/1642212887661KYrKV_PNG/03_%EB%B0%B0%EC%86%A1_%EB%B0%8F_%ED%99%98%EB%B6%88.png?type=w860']\n",
      "팜앤쿡/중식상세/딤섬전골 밀키트 (홈파티,생일상)/detail_딤섬전골 밀키트 (홈파티,생일상)-2.jpg\n",
      "['https://shop-phinf.pstatic.net/20220214_277/1644806747387bSsBC_PNG/00_%EC%9D%B8%ED%8A%B8%EB%A1%9C%ED%8E%98%EC%9D%B4%EC%A7%80.png?type=w860', 'https://shop-phinf.pstatic.net/20220109_110/1641719334331n3IWj_JPEG/%EB%94%A4%EC%84%AC%EC%A0%84%EA%B3%A8_01.jpg?type=w860', 'https://shop-phinf.pstatic.net/20220107_156/1641512094373LAblq_JPEG/%EB%94%A4%EC%84%AC%EC%A0%84%EA%B3%A8_02.jpg?type=w860', 'https://shop-phinf.pstatic.net/20220209_18/1644363317642T8wUn_PNG/02_About_brand.jpg.png?type=w860', 'https://shop-phinf.pstatic.net/20220115_235/1642212887661KYrKV_PNG/03_%EB%B0%B0%EC%86%A1_%EB%B0%8F_%ED%99%98%EB%B6%88.png?type=w860']\n",
      "팜앤쿡/중식상세/딤섬전골 밀키트 (홈파티,생일상)/detail_딤섬전골 밀키트 (홈파티,생일상)-3.jpg\n",
      "['https://shop-phinf.pstatic.net/20220214_277/1644806747387bSsBC_PNG/00_%EC%9D%B8%ED%8A%B8%EB%A1%9C%ED%8E%98%EC%9D%B4%EC%A7%80.png?type=w860', 'https://shop-phinf.pstatic.net/20220109_110/1641719334331n3IWj_JPEG/%EB%94%A4%EC%84%AC%EC%A0%84%EA%B3%A8_01.jpg?type=w860', 'https://shop-phinf.pstatic.net/20220107_156/1641512094373LAblq_JPEG/%EB%94%A4%EC%84%AC%EC%A0%84%EA%B3%A8_02.jpg?type=w860', 'https://shop-phinf.pstatic.net/20220209_18/1644363317642T8wUn_PNG/02_About_brand.jpg.png?type=w860', 'https://shop-phinf.pstatic.net/20220115_235/1642212887661KYrKV_PNG/03_%EB%B0%B0%EC%86%A1_%EB%B0%8F_%ED%99%98%EB%B6%88.png?type=w860']\n",
      "팜앤쿡/중식상세/딤섬전골 밀키트 (홈파티,생일상)/detail_딤섬전골 밀키트 (홈파티,생일상)-4.jpg\n",
      "['https://shop-phinf.pstatic.net/20220214_277/1644806747387bSsBC_PNG/00_%EC%9D%B8%ED%8A%B8%EB%A1%9C%ED%8E%98%EC%9D%B4%EC%A7%80.png?type=w860', 'https://shop-phinf.pstatic.net/20220109_110/1641719334331n3IWj_JPEG/%EB%94%A4%EC%84%AC%EC%A0%84%EA%B3%A8_01.jpg?type=w860', 'https://shop-phinf.pstatic.net/20220107_156/1641512094373LAblq_JPEG/%EB%94%A4%EC%84%AC%EC%A0%84%EA%B3%A8_02.jpg?type=w860', 'https://shop-phinf.pstatic.net/20220209_18/1644363317642T8wUn_PNG/02_About_brand.jpg.png?type=w860', 'https://shop-phinf.pstatic.net/20220115_235/1642212887661KYrKV_PNG/03_%EB%B0%B0%EC%86%A1_%EB%B0%8F_%ED%99%98%EB%B6%88.png?type=w860']\n",
      "팜앤쿡/중식상세/소고기 고추잡채 밀키트(선물세트)/detail_소고기 고추잡채 밀키트(선물세트)-0.jpg\n",
      "['https://shop-phinf.pstatic.net/20220214_154/1644806957467ifTbz_PNG/00_%EC%9D%B8%ED%8A%B8%EB%A1%9C%ED%8E%98%EC%9D%B4%EC%A7%80.png?type=w860', 'https://shop-phinf.pstatic.net/20220114_104/1642127529344LkE0m_JPEG/%EA%B3%A0%EC%B6%94%EC%9E%A1%EC%B1%841-1.jpg?type=w860', 'https://shop-phinf.pstatic.net/20211230_187/1640821699500vMqdI_JPEG/%EA%B3%A0%EC%B6%94%EC%9E%A1%EC%B1%841-2.jpg?type=w860', 'https://shop-phinf.pstatic.net/20220130_216/1643543169144iwkNg_JPEG/%EA%B3%A0%EC%B6%94%EC%9E%A1%EC%B1%841-3.jpg?type=w860', 'https://shop-phinf.pstatic.net/20211214_250/1639455339765NFkiT_JPEG/%EA%B3%A0%EC%B6%94%EC%9E%A1%EC%B1%841-4(%EC%84%A0%EB%AC%BC%ED%8F%AC%EC%9E%A5).jpg?type=w860', 'https://shop-phinf.pstatic.net/20220209_33/1644363101009RmxuO_PNG/02_About_brand.jpg.png?type=w860', 'https://shop-phinf.pstatic.net/20220115_201/1642213293325J00Nt_PNG/03_%EB%B0%B0%EC%86%A1_%EB%B0%8F_%ED%99%98%EB%B6%88.png?type=w860']\n",
      "팜앤쿡/중식상세/소고기 고추잡채 밀키트(선물세트)/detail_소고기 고추잡채 밀키트(선물세트)-1.jpg\n",
      "['https://shop-phinf.pstatic.net/20220214_154/1644806957467ifTbz_PNG/00_%EC%9D%B8%ED%8A%B8%EB%A1%9C%ED%8E%98%EC%9D%B4%EC%A7%80.png?type=w860', 'https://shop-phinf.pstatic.net/20220114_104/1642127529344LkE0m_JPEG/%EA%B3%A0%EC%B6%94%EC%9E%A1%EC%B1%841-1.jpg?type=w860', 'https://shop-phinf.pstatic.net/20211230_187/1640821699500vMqdI_JPEG/%EA%B3%A0%EC%B6%94%EC%9E%A1%EC%B1%841-2.jpg?type=w860', 'https://shop-phinf.pstatic.net/20220130_216/1643543169144iwkNg_JPEG/%EA%B3%A0%EC%B6%94%EC%9E%A1%EC%B1%841-3.jpg?type=w860', 'https://shop-phinf.pstatic.net/20211214_250/1639455339765NFkiT_JPEG/%EA%B3%A0%EC%B6%94%EC%9E%A1%EC%B1%841-4(%EC%84%A0%EB%AC%BC%ED%8F%AC%EC%9E%A5).jpg?type=w860', 'https://shop-phinf.pstatic.net/20220209_33/1644363101009RmxuO_PNG/02_About_brand.jpg.png?type=w860', 'https://shop-phinf.pstatic.net/20220115_201/1642213293325J00Nt_PNG/03_%EB%B0%B0%EC%86%A1_%EB%B0%8F_%ED%99%98%EB%B6%88.png?type=w860']\n",
      "팜앤쿡/중식상세/소고기 고추잡채 밀키트(선물세트)/detail_소고기 고추잡채 밀키트(선물세트)-2.jpg\n",
      "['https://shop-phinf.pstatic.net/20220214_154/1644806957467ifTbz_PNG/00_%EC%9D%B8%ED%8A%B8%EB%A1%9C%ED%8E%98%EC%9D%B4%EC%A7%80.png?type=w860', 'https://shop-phinf.pstatic.net/20220114_104/1642127529344LkE0m_JPEG/%EA%B3%A0%EC%B6%94%EC%9E%A1%EC%B1%841-1.jpg?type=w860', 'https://shop-phinf.pstatic.net/20211230_187/1640821699500vMqdI_JPEG/%EA%B3%A0%EC%B6%94%EC%9E%A1%EC%B1%841-2.jpg?type=w860', 'https://shop-phinf.pstatic.net/20220130_216/1643543169144iwkNg_JPEG/%EA%B3%A0%EC%B6%94%EC%9E%A1%EC%B1%841-3.jpg?type=w860', 'https://shop-phinf.pstatic.net/20211214_250/1639455339765NFkiT_JPEG/%EA%B3%A0%EC%B6%94%EC%9E%A1%EC%B1%841-4(%EC%84%A0%EB%AC%BC%ED%8F%AC%EC%9E%A5).jpg?type=w860', 'https://shop-phinf.pstatic.net/20220209_33/1644363101009RmxuO_PNG/02_About_brand.jpg.png?type=w860', 'https://shop-phinf.pstatic.net/20220115_201/1642213293325J00Nt_PNG/03_%EB%B0%B0%EC%86%A1_%EB%B0%8F_%ED%99%98%EB%B6%88.png?type=w860']\n",
      "팜앤쿡/중식상세/소고기 고추잡채 밀키트(선물세트)/detail_소고기 고추잡채 밀키트(선물세트)-3.jpg\n",
      "['https://shop-phinf.pstatic.net/20220214_154/1644806957467ifTbz_PNG/00_%EC%9D%B8%ED%8A%B8%EB%A1%9C%ED%8E%98%EC%9D%B4%EC%A7%80.png?type=w860', 'https://shop-phinf.pstatic.net/20220114_104/1642127529344LkE0m_JPEG/%EA%B3%A0%EC%B6%94%EC%9E%A1%EC%B1%841-1.jpg?type=w860', 'https://shop-phinf.pstatic.net/20211230_187/1640821699500vMqdI_JPEG/%EA%B3%A0%EC%B6%94%EC%9E%A1%EC%B1%841-2.jpg?type=w860', 'https://shop-phinf.pstatic.net/20220130_216/1643543169144iwkNg_JPEG/%EA%B3%A0%EC%B6%94%EC%9E%A1%EC%B1%841-3.jpg?type=w860', 'https://shop-phinf.pstatic.net/20211214_250/1639455339765NFkiT_JPEG/%EA%B3%A0%EC%B6%94%EC%9E%A1%EC%B1%841-4(%EC%84%A0%EB%AC%BC%ED%8F%AC%EC%9E%A5).jpg?type=w860', 'https://shop-phinf.pstatic.net/20220209_33/1644363101009RmxuO_PNG/02_About_brand.jpg.png?type=w860', 'https://shop-phinf.pstatic.net/20220115_201/1642213293325J00Nt_PNG/03_%EB%B0%B0%EC%86%A1_%EB%B0%8F_%ED%99%98%EB%B6%88.png?type=w860']\n",
      "팜앤쿡/중식상세/소고기 고추잡채 밀키트(선물세트)/detail_소고기 고추잡채 밀키트(선물세트)-4.jpg\n",
      "['https://shop-phinf.pstatic.net/20220214_154/1644806957467ifTbz_PNG/00_%EC%9D%B8%ED%8A%B8%EB%A1%9C%ED%8E%98%EC%9D%B4%EC%A7%80.png?type=w860', 'https://shop-phinf.pstatic.net/20220114_104/1642127529344LkE0m_JPEG/%EA%B3%A0%EC%B6%94%EC%9E%A1%EC%B1%841-1.jpg?type=w860', 'https://shop-phinf.pstatic.net/20211230_187/1640821699500vMqdI_JPEG/%EA%B3%A0%EC%B6%94%EC%9E%A1%EC%B1%841-2.jpg?type=w860', 'https://shop-phinf.pstatic.net/20220130_216/1643543169144iwkNg_JPEG/%EA%B3%A0%EC%B6%94%EC%9E%A1%EC%B1%841-3.jpg?type=w860', 'https://shop-phinf.pstatic.net/20211214_250/1639455339765NFkiT_JPEG/%EA%B3%A0%EC%B6%94%EC%9E%A1%EC%B1%841-4(%EC%84%A0%EB%AC%BC%ED%8F%AC%EC%9E%A5).jpg?type=w860', 'https://shop-phinf.pstatic.net/20220209_33/1644363101009RmxuO_PNG/02_About_brand.jpg.png?type=w860', 'https://shop-phinf.pstatic.net/20220115_201/1642213293325J00Nt_PNG/03_%EB%B0%B0%EC%86%A1_%EB%B0%8F_%ED%99%98%EB%B6%88.png?type=w860']\n",
      "팜앤쿡/중식상세/소고기 고추잡채 밀키트(선물세트)/detail_소고기 고추잡채 밀키트(선물세트)-5.jpg\n",
      "['https://shop-phinf.pstatic.net/20220214_154/1644806957467ifTbz_PNG/00_%EC%9D%B8%ED%8A%B8%EB%A1%9C%ED%8E%98%EC%9D%B4%EC%A7%80.png?type=w860', 'https://shop-phinf.pstatic.net/20220114_104/1642127529344LkE0m_JPEG/%EA%B3%A0%EC%B6%94%EC%9E%A1%EC%B1%841-1.jpg?type=w860', 'https://shop-phinf.pstatic.net/20211230_187/1640821699500vMqdI_JPEG/%EA%B3%A0%EC%B6%94%EC%9E%A1%EC%B1%841-2.jpg?type=w860', 'https://shop-phinf.pstatic.net/20220130_216/1643543169144iwkNg_JPEG/%EA%B3%A0%EC%B6%94%EC%9E%A1%EC%B1%841-3.jpg?type=w860', 'https://shop-phinf.pstatic.net/20211214_250/1639455339765NFkiT_JPEG/%EA%B3%A0%EC%B6%94%EC%9E%A1%EC%B1%841-4(%EC%84%A0%EB%AC%BC%ED%8F%AC%EC%9E%A5).jpg?type=w860', 'https://shop-phinf.pstatic.net/20220209_33/1644363101009RmxuO_PNG/02_About_brand.jpg.png?type=w860', 'https://shop-phinf.pstatic.net/20220115_201/1642213293325J00Nt_PNG/03_%EB%B0%B0%EC%86%A1_%EB%B0%8F_%ED%99%98%EB%B6%88.png?type=w860']\n",
      "팜앤쿡/중식상세/소고기 고추잡채 밀키트(선물세트)/detail_소고기 고추잡채 밀키트(선물세트)-6.jpg\n",
      "['https://shop-phinf.pstatic.net/20220214_154/1644806957467ifTbz_PNG/00_%EC%9D%B8%ED%8A%B8%EB%A1%9C%ED%8E%98%EC%9D%B4%EC%A7%80.png?type=w860', 'https://shop-phinf.pstatic.net/20220114_104/1642127529344LkE0m_JPEG/%EA%B3%A0%EC%B6%94%EC%9E%A1%EC%B1%841-1.jpg?type=w860', 'https://shop-phinf.pstatic.net/20211230_187/1640821699500vMqdI_JPEG/%EA%B3%A0%EC%B6%94%EC%9E%A1%EC%B1%841-2.jpg?type=w860', 'https://shop-phinf.pstatic.net/20220130_216/1643543169144iwkNg_JPEG/%EA%B3%A0%EC%B6%94%EC%9E%A1%EC%B1%841-3.jpg?type=w860', 'https://shop-phinf.pstatic.net/20211214_250/1639455339765NFkiT_JPEG/%EA%B3%A0%EC%B6%94%EC%9E%A1%EC%B1%841-4(%EC%84%A0%EB%AC%BC%ED%8F%AC%EC%9E%A5).jpg?type=w860', 'https://shop-phinf.pstatic.net/20220209_33/1644363101009RmxuO_PNG/02_About_brand.jpg.png?type=w860', 'https://shop-phinf.pstatic.net/20220115_201/1642213293325J00Nt_PNG/03_%EB%B0%B0%EC%86%A1_%EB%B0%8F_%ED%99%98%EB%B6%88.png?type=w860']\n",
      "팜앤쿡/중식상세/칠리새우 밀키트 (홈파티,생일상,간식)/detail_칠리새우 밀키트 (홈파티,생일상,간식)-0.jpg\n",
      "['https://shop-phinf.pstatic.net/20220214_165/16448068078200FS88_PNG/00_%EC%9D%B8%ED%8A%B8%EB%A1%9C%ED%8E%98%EC%9D%B4%EC%A7%80.png?type=w860', 'https://shop-phinf.pstatic.net/20220111_276/1641860914508G7Ic1_JPEG/%EC%B9%A0%EB%A6%AC%EC%83%88%EC%9A%B0_01.jpg?type=w860', 'https://shop-phinf.pstatic.net/20211130_179/16382334238091fCgn_JPEG/%EC%B9%A0%EB%A6%AC%EC%83%88%EC%9A%B0_02.jpg?type=w860', 'https://shop-phinf.pstatic.net/20220209_286/16443632672272yxN2_PNG/02_About_brand.jpg.png?type=w860', 'https://shop-phinf.pstatic.net/20220115_22/1642212937220mnneU_PNG/03_%EB%B0%B0%EC%86%A1_%EB%B0%8F_%ED%99%98%EB%B6%88.png?type=w860']\n",
      "팜앤쿡/중식상세/칠리새우 밀키트 (홈파티,생일상,간식)/detail_칠리새우 밀키트 (홈파티,생일상,간식)-1.jpg\n",
      "['https://shop-phinf.pstatic.net/20220214_165/16448068078200FS88_PNG/00_%EC%9D%B8%ED%8A%B8%EB%A1%9C%ED%8E%98%EC%9D%B4%EC%A7%80.png?type=w860', 'https://shop-phinf.pstatic.net/20220111_276/1641860914508G7Ic1_JPEG/%EC%B9%A0%EB%A6%AC%EC%83%88%EC%9A%B0_01.jpg?type=w860', 'https://shop-phinf.pstatic.net/20211130_179/16382334238091fCgn_JPEG/%EC%B9%A0%EB%A6%AC%EC%83%88%EC%9A%B0_02.jpg?type=w860', 'https://shop-phinf.pstatic.net/20220209_286/16443632672272yxN2_PNG/02_About_brand.jpg.png?type=w860', 'https://shop-phinf.pstatic.net/20220115_22/1642212937220mnneU_PNG/03_%EB%B0%B0%EC%86%A1_%EB%B0%8F_%ED%99%98%EB%B6%88.png?type=w860']\n",
      "팜앤쿡/중식상세/칠리새우 밀키트 (홈파티,생일상,간식)/detail_칠리새우 밀키트 (홈파티,생일상,간식)-2.jpg\n",
      "['https://shop-phinf.pstatic.net/20220214_165/16448068078200FS88_PNG/00_%EC%9D%B8%ED%8A%B8%EB%A1%9C%ED%8E%98%EC%9D%B4%EC%A7%80.png?type=w860', 'https://shop-phinf.pstatic.net/20220111_276/1641860914508G7Ic1_JPEG/%EC%B9%A0%EB%A6%AC%EC%83%88%EC%9A%B0_01.jpg?type=w860', 'https://shop-phinf.pstatic.net/20211130_179/16382334238091fCgn_JPEG/%EC%B9%A0%EB%A6%AC%EC%83%88%EC%9A%B0_02.jpg?type=w860', 'https://shop-phinf.pstatic.net/20220209_286/16443632672272yxN2_PNG/02_About_brand.jpg.png?type=w860', 'https://shop-phinf.pstatic.net/20220115_22/1642212937220mnneU_PNG/03_%EB%B0%B0%EC%86%A1_%EB%B0%8F_%ED%99%98%EB%B6%88.png?type=w860']\n",
      "팜앤쿡/중식상세/칠리새우 밀키트 (홈파티,생일상,간식)/detail_칠리새우 밀키트 (홈파티,생일상,간식)-3.jpg\n",
      "['https://shop-phinf.pstatic.net/20220214_165/16448068078200FS88_PNG/00_%EC%9D%B8%ED%8A%B8%EB%A1%9C%ED%8E%98%EC%9D%B4%EC%A7%80.png?type=w860', 'https://shop-phinf.pstatic.net/20220111_276/1641860914508G7Ic1_JPEG/%EC%B9%A0%EB%A6%AC%EC%83%88%EC%9A%B0_01.jpg?type=w860', 'https://shop-phinf.pstatic.net/20211130_179/16382334238091fCgn_JPEG/%EC%B9%A0%EB%A6%AC%EC%83%88%EC%9A%B0_02.jpg?type=w860', 'https://shop-phinf.pstatic.net/20220209_286/16443632672272yxN2_PNG/02_About_brand.jpg.png?type=w860', 'https://shop-phinf.pstatic.net/20220115_22/1642212937220mnneU_PNG/03_%EB%B0%B0%EC%86%A1_%EB%B0%8F_%ED%99%98%EB%B6%88.png?type=w860']\n",
      "팜앤쿡/중식상세/칠리새우 밀키트 (홈파티,생일상,간식)/detail_칠리새우 밀키트 (홈파티,생일상,간식)-4.jpg\n",
      "['https://shop-phinf.pstatic.net/20220214_165/16448068078200FS88_PNG/00_%EC%9D%B8%ED%8A%B8%EB%A1%9C%ED%8E%98%EC%9D%B4%EC%A7%80.png?type=w860', 'https://shop-phinf.pstatic.net/20220111_276/1641860914508G7Ic1_JPEG/%EC%B9%A0%EB%A6%AC%EC%83%88%EC%9A%B0_01.jpg?type=w860', 'https://shop-phinf.pstatic.net/20211130_179/16382334238091fCgn_JPEG/%EC%B9%A0%EB%A6%AC%EC%83%88%EC%9A%B0_02.jpg?type=w860', 'https://shop-phinf.pstatic.net/20220209_286/16443632672272yxN2_PNG/02_About_brand.jpg.png?type=w860', 'https://shop-phinf.pstatic.net/20220115_22/1642212937220mnneU_PNG/03_%EB%B0%B0%EC%86%A1_%EB%B0%8F_%ED%99%98%EB%B6%88.png?type=w860']\n"
     ]
    }
   ],
   "source": [
    "for i, d in enumerate(dk):\n",
    "    # print(i, d)\n",
    "    for j in range(len(d)):\n",
    "        url = d[j]\n",
    "\n",
    "        # time check\n",
    "        start = time.time()\n",
    "\n",
    "        # 이미지 요청 및 다운로드\n",
    "        str_aa = '팜앤쿡/중식상세/{}/detail_{}.jpg'.format(df['상품 이름'][i],df['상품 이름'][i]+'-'+str(j) )\n",
    "        print(str_aa)\n",
    "        print(d)\n",
    "        urllib.request.urlretrieve(dk[i][j], str_aa)"
   ]
  },
  {
   "cell_type": "code",
   "execution_count": null,
   "id": "1fa13a68-082a-41d8-8883-edaa592752e3",
   "metadata": {},
   "outputs": [],
   "source": []
  },
  {
   "cell_type": "code",
   "execution_count": null,
   "id": "52d1381a-5f50-48d8-8f21-b8f906a0a223",
   "metadata": {},
   "outputs": [],
   "source": []
  },
  {
   "cell_type": "code",
   "execution_count": 232,
   "id": "402da115-e012-40ac-aac0-1cf3c47951cd",
   "metadata": {},
   "outputs": [
    {
     "name": "stdout",
     "output_type": "stream",
     "text": [
      "<img alt=\"\" class=\"se-image-resource\" data-src=\"https://shop-phinf.pstatic.net/20220214_121/1644800789760HiDc9_PNG/00_%EC%9D%B8%ED%8A%B8%EB%A1%9C%ED%8E%98%EC%9D%B4%EC%A7%80.png?type=w860\" src=\"data:image/png;base64,iVBORw0KGgoAAAANSUhEUgAAAAEAAAABCAQAAAC1HAwCAAAAC0lEQVR42mP8/x8AAwMCAO+ip1sAAAAASUVORK5CYII=\"/>\n",
      "<img alt=\"\" class=\"se-image-resource\" data-src=\"https://shop-phinf.pstatic.net/20220111_38/1641885588785CJKts_JPEG/%EA%B3%A0%EC%B6%94%EC%9E%A1%EC%B1%841-1.jpg?type=w860\" src=\"data:image/png;base64,iVBORw0KGgoAAAANSUhEUgAAAAEAAAABCAQAAAC1HAwCAAAAC0lEQVR42mP8/x8AAwMCAO+ip1sAAAAASUVORK5CYII=\"/>\n",
      "<img alt=\"\" class=\"se-image-resource\" data-src=\"https://shop-phinf.pstatic.net/20211204_261/1638608168911U3C9j_JPEG/%EA%B3%A0%EC%B6%94%EC%9E%A1%EC%B1%841-2.jpg?type=w860\" src=\"data:image/png;base64,iVBORw0KGgoAAAANSUhEUgAAAAEAAAABCAQAAAC1HAwCAAAAC0lEQVR42mP8/x8AAwMCAO+ip1sAAAAASUVORK5CYII=\"/>\n",
      "<img alt=\"\" class=\"se-image-resource\" data-src=\"https://shop-phinf.pstatic.net/20220130_72/1643536682984Vuecm_JPEG/%EA%B3%A0%EC%B6%94%EC%9E%A1%EC%B1%841-3.jpg?type=w860\" src=\"data:image/png;base64,iVBORw0KGgoAAAANSUhEUgAAAAEAAAABCAQAAAC1HAwCAAAAC0lEQVR42mP8/x8AAwMCAO+ip1sAAAAASUVORK5CYII=\"/>\n",
      "<img alt=\"\" class=\"se-image-resource\" data-src=\"https://shop-phinf.pstatic.net/20220209_167/1644365481436m9d3a_PNG/02_About_brand.jpg.png?type=w860\" src=\"data:image/png;base64,iVBORw0KGgoAAAANSUhEUgAAAAEAAAABCAQAAAC1HAwCAAAAC0lEQVR42mP8/x8AAwMCAO+ip1sAAAAASUVORK5CYII=\"/>\n",
      "<img alt=\"\" class=\"se-image-resource\" data-src=\"https://shop-phinf.pstatic.net/20220115_163/1642210922945Pqte6_PNG/03_%EB%B0%B0%EC%86%A1_%EB%B0%8F_%ED%99%98%EB%B6%88.png?type=w860\" src=\"data:image/png;base64,iVBORw0KGgoAAAANSUhEUgAAAAEAAAABCAQAAAC1HAwCAAAAC0lEQVR42mP8/x8AAwMCAO+ip1sAAAAASUVORK5CYII=\"/>\n"
     ]
    }
   ],
   "source": [
    "for i in zz:\n",
    "    print(i)\n",
    "    # print(i['data-src'])"
   ]
  },
  {
   "cell_type": "code",
   "execution_count": 280,
   "id": "0a2695a3-547e-470c-abdb-f3eee89f9ff5",
   "metadata": {
    "tags": []
   },
   "outputs": [
    {
     "data": {
      "text/plain": [
       "[]"
      ]
     },
     "execution_count": 280,
     "metadata": {},
     "output_type": "execute_result"
    }
   ],
   "source": [
    "ssoup.select('#INTRODUCE > div > div:nth-child(6) > div > div > div > div > div')"
   ]
  },
  {
   "cell_type": "code",
   "execution_count": null,
   "id": "2ae41381-9412-4a6d-bc7f-b33d26033593",
   "metadata": {},
   "outputs": [],
   "source": []
  }
 ],
 "metadata": {
  "kernelspec": {
   "display_name": "Python 3 (ipykernel)",
   "language": "python",
   "name": "python3"
  },
  "language_info": {
   "codemirror_mode": {
    "name": "ipython",
    "version": 3
   },
   "file_extension": ".py",
   "mimetype": "text/x-python",
   "name": "python",
   "nbconvert_exporter": "python",
   "pygments_lexer": "ipython3",
   "version": "3.8.10"
  }
 },
 "nbformat": 4,
 "nbformat_minor": 5
}
